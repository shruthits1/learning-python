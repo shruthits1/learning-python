{
 "cells": [
  {
   "cell_type": "code",
   "execution_count": 43,
   "metadata": {},
   "outputs": [],
   "source": [
    "def roman_decimal(a,b: str, tot: int) -> str:\n",
    "    roman_numerals = {'I' : 1,'V' : 5,'M' : 1000,'C' : 100,'L': 50,'X' : 10,'D':500,\"\":\"\"}\n",
    "    deci = tot\n",
    "    print(roman_numerals[a] , roman_numerals[b])\n",
    "    if b==\"\":\n",
    "        print(\"Add remaining\", roman_numerals[a])\n",
    "        deci += roman_numerals[a]\n",
    "        \n",
    "    elif roman_numerals[a] < roman_numerals[b]:\n",
    "        print(\"Subtract\", roman_numerals[b] - roman_numerals[a])\n",
    "        deci = roman_numerals[b] - roman_numerals[a] + deci\n",
    "                \n",
    "    else:\n",
    "        print(\"Add\", roman_numerals[a] + roman_numerals[b])\n",
    "        deci += roman_numerals[a] + roman_numerals[b]\n",
    "    print(deci)\n",
    "    return deci"
   ]
  },
  {
   "cell_type": "code",
   "execution_count": 49,
   "metadata": {},
   "outputs": [],
   "source": [
    "def make_decimal2(inp: str) -> int:\n",
    "    output, i = 0, 0\n",
    "    counter = 0\n",
    "    while i < len(inp):\n",
    "        if i == len(inp)-1:\n",
    "            print(\"if\")\n",
    "            output= roman_decimal(inp[i],\"\",output)\n",
    "            i+=2\n",
    "        else:\n",
    "            print(\"else\")\n",
    "            output= roman_decimal(inp[i],inp[i+1],output)\n",
    "            i+=2\n",
    "    return output"
   ]
  },
  {
   "cell_type": "code",
   "execution_count": 53,
   "metadata": {},
   "outputs": [
    {
     "name": "stdout",
     "output_type": "stream",
     "text": [
      "else\n",
      "10 10\n",
      "Add 20\n",
      "20\n",
      "else\n",
      "10 5\n",
      "Add 15\n",
      "35\n",
      "if\n",
      "1 \n",
      "Add remaining 1\n",
      "36\n"
     ]
    },
    {
     "data": {
      "text/plain": [
       "36"
      ]
     },
     "execution_count": 53,
     "metadata": {},
     "output_type": "execute_result"
    }
   ],
   "source": [
    "make_decimal2('XXXVI')"
   ]
  },
  {
   "cell_type": "code",
   "execution_count": 4,
   "metadata": {},
   "outputs": [],
   "source": [
    "def string_date(s: str) -> str:\n",
    "    import datetime\n",
    "        \n",
    "    dt,mnth,yr = clean_date(s)\n",
    "    print(dt,mnth,yr, sep=\";\")\n",
    "\n",
    "    mnth = find_month(mnth)\n",
    "    print(\"int equivalent of day \", int(dt))\n",
    "    print(\"int equivalent of month \", mnth)\n",
    "    print(\"int equivalent of year \", int(yr))\n",
    "    new_dt = datetime.date(int(yr),mnth,int(dt))\n",
    "    print(new_dt.strftime(\"%Y%j\"))"
   ]
  },
  {
   "cell_type": "code",
   "execution_count": 5,
   "metadata": {},
   "outputs": [],
   "source": [
    "def find_month(s: str) -> int:\n",
    "    month_list = [\"\",\"january\",\"february\",\"march\",\"april\",\"may\",\"june\",\"july\",\"august\",\"september\",\"october\",\"november\",\"december\"]\n",
    "    for m in month_list:\n",
    "        if s.lower() in m:\n",
    "            print(\"found month\")\n",
    "            return month_list.index(m)\n",
    "        else:\n",
    "            print(\"Not a valid month\")\n",
    "    return 0"
   ]
  },
  {
   "cell_type": "code",
   "execution_count": 6,
   "metadata": {},
   "outputs": [],
   "source": [
    "def clean_date(s: str) -> str:\n",
    "    if \" , \" in s:\n",
    "        s.replace(\" , \",'/')\n",
    "    elif \" \" in s and \"/\" not in s:\n",
    "        s.replace(\" \", \"/\")\n",
    "    elif \" \" in s and \"/\" in s:\n",
    "        s.replace(\" \", \"\")\n",
    "    else:\n",
    "        pass\n",
    "\n",
    "    print(\"separators cleaned\", s)\n",
    "\n",
    "    return s.split()\n",
    "\n"
   ]
  }
 ],
 "metadata": {
  "kernelspec": {
   "display_name": "Python 3",
   "language": "python",
   "name": "python3"
  },
  "language_info": {
   "codemirror_mode": {
    "name": "ipython",
    "version": 3
   },
   "file_extension": ".py",
   "mimetype": "text/x-python",
   "name": "python",
   "nbconvert_exporter": "python",
   "pygments_lexer": "ipython3",
   "version": "3.11.3"
  }
 },
 "nbformat": 4,
 "nbformat_minor": 2
}
