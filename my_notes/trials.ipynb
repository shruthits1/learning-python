def roman_decimal(a,b: str, tot: int) -> str:
    roman_numerals = {'I' : 1,'V' : 5,'M' : 1000,'C' : 100,'L': 50,'X' : 10,'D':500}
    deci = tot
    print(roman_numerals[a] , roman_numerals[b])
    if roman_numerals[a] < roman_numerals[b]:
        print("Subtract", roman_numerals[a])
        deci -= roman_numerals[a]
                
    else:
        print("Add", roman_numerals[a] + roman_numerals[b])
        deci += roman_numerals[a] + roman_numerals[b]
    print(deci)
    return deci
    