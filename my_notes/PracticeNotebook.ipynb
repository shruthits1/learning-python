{
 "cells": [
  {
   "cell_type": "raw",
   "id": "8419bec4",
   "metadata": {},
   "source": [
    "Write a program to calculate the electricity bill according to the following criteria:\n",
    "(accept number of unit from user)\n",
    "\n",
    "Unit\t\t    | Price\n",
    "First 100 units\t| no charge\n",
    "Next 100 units\t| 5Rs per unit\n",
    "After 200 units\t| 10Rs per unit\n",
    "\n",
    "[For example: if input is 350 than total bill amount is 2000)\n",
    "210 units | 100*5 | 10*10 | 500+100=600"
   ]
  },
  {
   "cell_type": "code",
   "execution_count": 1,
   "id": "54f9c5a9",
   "metadata": {},
   "outputs": [
    {
     "name": "stdout",
     "output_type": "stream",
     "text": [
      "210 <class 'int'>\n",
      "Proce is: 600\n"
     ]
    }
   ],
   "source": [
    "units = int(input('Enter the units consumed'))\n",
    "\n",
    "print(units, type(units))\n",
    "\n",
    "rem = units-100\n",
    "\n",
    "if units < 100:\n",
    "    print('No charge')\n",
    "elif units <= 200:\n",
    "    print('Price is:', (units-100)*5)\n",
    "else:\n",
    "    print('Proce is:', 100*5 + (units-200)*10)\n"
   ]
  },
  {
   "cell_type": "raw",
   "id": "a851d734",
   "metadata": {},
   "source": [
    "# WAP to print the first n elements of fibbonacci series\n",
    "'''\n",
    "Sample Output:\n",
    "How many elements u want in the series: 10\n",
    "[0, 1, 1, 2, 3, 5, 8, 13, 21, 34]\n",
    "'''\n",
    "\n",
    "\n"
   ]
  },
  {
   "cell_type": "code",
   "execution_count": 15,
   "id": "a1901d61",
   "metadata": {},
   "outputs": [
    {
     "name": "stdout",
     "output_type": "stream",
     "text": [
      "[0, 1, 1, 2]\n"
     ]
    }
   ],
   "source": [
    "fib = [0,1]\n",
    "n = int(input('Enter a interger number:' ))\n",
    "\n",
    "for i in range(1,n-2):\n",
    "    fib.append(fib[-1]+fib[-2])\n",
    "\n",
    "print(fib)\n",
    "\n",
    "\n"
   ]
  },
  {
   "cell_type": "raw",
   "id": "fc8b4f50",
   "metadata": {},
   "source": [
    "Count the number of digits in a given number \n",
    "( hint: use len(), str() functions )"
   ]
  },
  {
   "cell_type": "code",
   "execution_count": 56,
   "id": "080db072",
   "metadata": {},
   "outputs": [
    {
     "name": "stdout",
     "output_type": "stream",
     "text": [
      "Number of digits:  3\n"
     ]
    }
   ],
   "source": [
    "inp = int(input('Enter a number'))\n",
    "\n",
    "print('Number of digits: ', len(str(inp)))"
   ]
  },
  {
   "cell_type": "raw",
   "id": "7c2a4d47",
   "metadata": {},
   "source": [
    "Write a program to  print all the numbers between 5 and 15 except 10."
   ]
  },
  {
   "cell_type": "code",
   "execution_count": 16,
   "id": "e6e4b0f9",
   "metadata": {},
   "outputs": [
    {
     "name": "stdout",
     "output_type": "stream",
     "text": [
      "[5, 6, 7, 8, 9, 11, 12, 13, 14, 15]\n"
     ]
    }
   ],
   "source": [
    "list = [ i for i in range(5,16) if i != 10]\n",
    "print(list)"
   ]
  },
  {
   "cell_type": "raw",
   "id": "3bfee35e",
   "metadata": {},
   "source": [
    "# Guess a number game\n",
    "# User and computer will guess a number between 1 to 10\n",
    "# Find if both guess the same number\n",
    "# If they do, user wins\n",
    "# Else give another chance to the user\n",
    "# Only 4 chances are given\n",
    "# Finally if user couldn't guess, \n",
    "# display the correct guess and guesses taken\n"
   ]
  },
  {
   "cell_type": "code",
   "execution_count": 33,
   "id": "819bcafb",
   "metadata": {},
   "outputs": [
    {
     "name": "stdout",
     "output_type": "stream",
     "text": [
      "Choose again. you have 3 chances left\n",
      "You chose 8 and computer chose 9\n",
      "Choose again. you have 2 chances left\n",
      "You chose 9 and computer chose 4\n",
      "Choose again. you have 1 chances left\n",
      "You chose 7 and computer chose 9\n",
      "Choose again. you have 0 chances left\n",
      "You chose 4 and computer chose 3\n",
      "Your chances are over\n"
     ]
    }
   ],
   "source": [
    "\n",
    "import random\n",
    "\n",
    "for i in range(4,0,-1):\n",
    "    uinput = int(input('Enter a number between 1 and 10: '))\n",
    "    comp = random.randint(1,10)   \n",
    "    if uinput == comp:\n",
    "        print('Yay! you win!')\n",
    "        break\n",
    "    else:\n",
    "        print(f'Choose again. you have {i-1} chances left')\n",
    "        print(f\"You chose {uinput} and computer chose {comp}\")\n",
    "\n",
    "print('Your chances are over')"
   ]
  },
  {
   "cell_type": "raw",
   "id": "e765f0e3",
   "metadata": {},
   "source": [
    "Display common elements from both the list objects\n",
    "\n",
    "l1 = [4,2,3,6]\n",
    "l2 = [8,2,6,9,1,5]\n"
   ]
  },
  {
   "cell_type": "code",
   "execution_count": 35,
   "id": "3e094d07",
   "metadata": {},
   "outputs": [
    {
     "data": {
      "text/plain": [
       "{2, 6}"
      ]
     },
     "execution_count": 35,
     "metadata": {},
     "output_type": "execute_result"
    }
   ],
   "source": [
    "l1 = [4,2,3,6]\n",
    "l2 = [8,2,6,9,1,5]\n",
    "\n",
    "set(l1)&set(l2)\n"
   ]
  },
  {
   "cell_type": "raw",
   "id": "c9eebc3a",
   "metadata": {},
   "source": [
    "WAP to print all the integers and their squares. User should provide\n",
    "\n",
    "The number to start the series from\n",
    "What should be the max value to stop (Squared value should not be more than the max value).\n",
    "\n",
    "Sample Output:\n",
    "\n",
    "Enter a number to start the square series:21\n",
    "Enter the number after/on which the squared values are not required: 899\n",
    "21 : 441\n",
    "22 : 484\n",
    "23 : 529\n",
    "24 : 576\n",
    "25 : 625\n",
    "26 : 676\n",
    "27 : 729\n",
    "28 : 784\n",
    "29 : 841\n",
    "Have a nice day!\n"
   ]
  },
  {
   "cell_type": "code",
   "execution_count": 53,
   "id": "cdb483f6",
   "metadata": {},
   "outputs": [
    {
     "name": "stdout",
     "output_type": "stream",
     "text": [
      "3 : 9\n",
      "4 : 16\n",
      "5 : 25\n",
      "6 : 36\n",
      "7 : 49\n",
      "8 : 64\n",
      "9 : 81\n",
      "10 : 100\n",
      "11 : 121\n",
      "12 : 144\n"
     ]
    }
   ],
   "source": [
    "starter = int(input('Enter a number to start the square series: '))\n",
    "limit = int(input('Enter the number after/on which the squared values are not required:'))\n",
    "\n",
    "d1 = {items: items**2  for items in range(starter,limit) if items**2 <= limit}\n",
    "\n",
    "for k,v in d1.items():\n",
    "    print(k,v, sep=\" : \") \n"
   ]
  },
  {
   "cell_type": "raw",
   "id": "d630b979",
   "metadata": {},
   "source": [
    "Write a Python function that combines multiple dictionaries, \n",
    "with the values from latter dictionaries overwriting the previous ones \n",
    "in case of key collisions."
   ]
  },
  {
   "cell_type": "code",
   "execution_count": 12,
   "id": "28c28474",
   "metadata": {},
   "outputs": [
    {
     "name": "stdout",
     "output_type": "stream",
     "text": [
      "{1: 'Orange', 2: 'Peach', 3: 'Banana', 4: 'Kiwi', 5: 'Apricot', 6: 'Tomato', 7: 'Litchi', 9: 'Litchi'}\n"
     ]
    }
   ],
   "source": [
    "def combine(*dicts):\n",
    "    newDict = {}\n",
    "    for d in dicts:\n",
    "        newDict.update(d)\n",
    "    return newDict\n",
    "\n",
    "\n",
    "dict1 = {1:'Orange', 2:'Apple', 3: 'Banana', 4:'Kiwi'}\n",
    "dict2 = {2:'Peach',5:'Apricot',6:'Tomato'}\n",
    "dict3 = {7:'Litchi'}\n",
    "dict4 = {9:'Litchi'}\n",
    "result = combine(dict1,dict2,dict3,dict4)\n",
    "print(result)"
   ]
  },
  {
   "cell_type": "raw",
   "id": "f65e59d6",
   "metadata": {},
   "source": [
    "Count the number and its occurrences of a list and store in a dictionary as a key-value pair.\n",
    "\n",
    "Sample output:\n",
    "mylist = [1, 2, 3, 2, 4, 2, 1, 5, 3, 2]\n",
    "\n",
    "{1: 2, 2: 4, 3: 2, 4: 1, 5: 1}\n"
   ]
  },
  {
   "cell_type": "code",
   "execution_count": 55,
   "id": "cf77fea9",
   "metadata": {},
   "outputs": [
    {
     "name": "stdout",
     "output_type": "stream",
     "text": [
      "{1: 2, 2: 4, 3: 2, 4: 1, 5: 1}\n"
     ]
    }
   ],
   "source": [
    "\n",
    "mylist = [1, 2, 3, 2, 4, 2, 1, 5, 3, 2]\n",
    "mydict = {}\n",
    "for items in mylist:\n",
    "    if items in mydict.keys():\n",
    "        mydict[items] += 1\n",
    "    else:\n",
    "        mydict[items] = 1\n",
    "\n",
    "print(mydict)\n"
   ]
  },
  {
   "cell_type": "code",
   "execution_count": null,
   "id": "18e25058",
   "metadata": {},
   "outputs": [],
   "source": []
  }
 ],
 "metadata": {
  "kernelspec": {
   "display_name": "Python 3 (ipykernel)",
   "language": "python",
   "name": "python3"
  },
  "language_info": {
   "codemirror_mode": {
    "name": "ipython",
    "version": 3
   },
   "file_extension": ".py",
   "mimetype": "text/x-python",
   "name": "python",
   "nbconvert_exporter": "python",
   "pygments_lexer": "ipython3",
   "version": "3.11.3"
  }
 },
 "nbformat": 4,
 "nbformat_minor": 5
}
