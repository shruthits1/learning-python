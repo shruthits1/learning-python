{
 "cells": [
  {
   "cell_type": "markdown",
   "metadata": {},
   "source": [
    "#Euler 1\n",
    "<p>If we list all the natural numbers below $10$ that are multiples of $3$ or $5$, we get $3, 5, 6$ and $9$. The sum of these multiples is $23$.</p>\n",
    "<p>Find the sum of all the multiples of $3$ or $5$ below $1000$\n",
    "\n",
    "Note: type hint refers to indicating the return data type. It is ignored by python language as such and will not enfore it BUT IDEs , collab use it to highlight when there is a mismatch"
   ]
  },
  {
   "cell_type": "code",
   "execution_count": 6,
   "metadata": {},
   "outputs": [
    {
     "name": "stdout",
     "output_type": "stream",
     "text": [
      "233168\n"
     ]
    }
   ],
   "source": [
    "def sum_of_multiples(limit: int) -> int:\n",
    "    total,i = 0, 1\n",
    "    while i < limit:\n",
    "        if i % 3 == 0 or i % 5 == 0:\n",
    "            total+=i\n",
    "        i += 1\n",
    "    return total\n",
    "\n",
    "print(sum_of_multiples(1000))"
   ]
  },
  {
   "cell_type": "code",
   "execution_count": 9,
   "metadata": {},
   "outputs": [
    {
     "name": "stdout",
     "output_type": "stream",
     "text": [
      "233168\n"
     ]
    }
   ],
   "source": [
    "#another way to solve\n",
    "# need to remove common multiples of both 3  and 5\n",
    "def sum_of_multiples_2(limit: int) -> int:\n",
    "    return sum(range(3, limit, 3)) + sum(range(5, limit, 5)) - sum(range(15, limit, 15))\n",
    "\n",
    "print(sum_of_multiples_2(1000))"
   ]
  },
  {
   "cell_type": "code",
   "execution_count": 15,
   "metadata": {},
   "outputs": [
    {
     "name": "stdout",
     "output_type": "stream",
     "text": [
      "233168\n"
     ]
    }
   ],
   "source": [
    "#another way to solve\n",
    "#set inherently removes duplicates\n",
    "def sum_of_multiples_3(limit: int) -> int:\n",
    "    return sum(set(range(3, limit, 3)) | set(range(5,limit,5)))\n",
    "\n",
    "print(sum_of_multiples_3(1000))"
   ]
  },
  {
   "cell_type": "code",
   "execution_count": 16,
   "metadata": {},
   "outputs": [
    {
     "name": "stdout",
     "output_type": "stream",
     "text": [
      "233168\n"
     ]
    }
   ],
   "source": [
    "def select(n: int) -> bool:\n",
    "    return n % 3 == 0 or n % 5 == 0\n",
    "\n",
    "def sum_of_multiples_4(limit: int) -> int:\n",
    "    return sum(filter(select, range(1,limit)))\n",
    "\n",
    "print(sum_of_multiples_4(1000))"
   ]
  },
  {
   "cell_type": "code",
   "execution_count": 18,
   "metadata": {},
   "outputs": [
    {
     "name": "stdout",
     "output_type": "stream",
     "text": [
      "233168\n",
      "233168\n"
     ]
    }
   ],
   "source": [
    "def euler001_f1(limit: int) -> int:\n",
    "    return sum([i for i in range(1, limit) if select(i)])   #refers to function defined in prev \n",
    "\n",
    "def euler001_f2(limit: int) -> int:\n",
    "    return sum([i for i in range(1, limit) if i % 3 == 0 or i % 5 == 0])\n",
    "\n",
    "print(euler001_f1(1000))\n",
    "print(euler001_f2(1000))"
   ]
  },
  {
   "cell_type": "code",
   "execution_count": 20,
   "metadata": {},
   "outputs": [],
   "source": [
    "# map \n",
    "# def my_map(f,S):\n",
    "#   mapS = []\n",
    "#   for s in S:\n",
    "#       mapS.append(f(s))\n",
    "#   return mapS\n",
    "\n",
    "#filter\n",
    "# def my_filter(f, S):\n",
    "#   filtered[]\n",
    "#   for s in S:\n",
    "#       if f(s):\n",
    "#           filtered.append(s)\n",
    "#   return filtered\n",
    "\n",
    "#list comprehension is like map + filter\n",
    "# [f(x) for x in S if g(x)] i.e. map(f,filter(g,S))\n",
    "# def my_lc(f,g,S):\n",
    "#   newS = []\n",
    "#   for s in S:\n",
    "#       if g(s):\n",
    "#           newS.append(f(s))\n",
    "#   return newS"
   ]
  },
  {
   "cell_type": "markdown",
   "metadata": {},
   "source": [
    "f(f,S) = [x for x in S if f(x)]\n",
    "map(f,S) = [f(x) for x in S]\n",
    "map(f, filter(g,S))"
   ]
  },
  {
   "cell_type": "markdown",
   "metadata": {},
   "source": [
    "Asokans workbook\n",
    "https://colab.research.google.com/drive/17yk2dtldN2ZXy4SPVdEQJBSOarSqZ_1z?usp=sharing#scrollTo=Jcn3_bC7MXnW"
   ]
  },
  {
   "cell_type": "code",
   "execution_count": null,
   "metadata": {},
   "outputs": [],
   "source": [
    "#fizzbuzz - print fizzbuzz if div by 15, fizz if div by 3 \n",
    "def to_list(limit: int) -> list:\n",
    "    return range(limit)"
   ]
  },
  {
   "cell_type": "code",
   "execution_count": null,
   "metadata": {},
   "outputs": [],
   "source": [
    "#fizzbuzz - print fizzbuzz if div by 15, fizz if div by 3 , buzz if div by 5 and fizzbuzz if div by both\n"
   ]
  },
  {
   "cell_type": "code",
   "execution_count": 61,
   "metadata": {},
   "outputs": [],
   "source": [
    "def mul_3(item: int) -> str:\n",
    "    if item % 3 == 0:\n",
    "        return 'Fizz'\n",
    "    else:\n",
    "        return \"\""
   ]
  },
  {
   "cell_type": "code",
   "execution_count": 62,
   "metadata": {},
   "outputs": [],
   "source": [
    "def mul_5(item: int) -> str:\n",
    "    if item % 5 == 0:\n",
    "        return 'Buzz'\n",
    "    else:\n",
    "        return \"\""
   ]
  },
  {
   "cell_type": "code",
   "execution_count": 99,
   "metadata": {},
   "outputs": [],
   "source": []
  },
  {
   "cell_type": "code",
   "execution_count": 63,
   "metadata": {},
   "outputs": [],
   "source": [
    "def fizz_buzz(llist: list) -> list:\n",
    "    return [mul_3(item) + mul_5(item) for item in llist]"
   ]
  },
  {
   "cell_type": "code",
   "execution_count": 64,
   "metadata": {},
   "outputs": [
    {
     "name": "stdout",
     "output_type": "stream",
     "text": [
      "['', '', 'Fizz', '', 'Buzz', 'Fizz', '', '', 'Fizz', 'Buzz', '', 'Fizz', '', '', 'FizzBuzz', '', '', 'Fizz', '', 'Buzz', 'Fizz', '', '']\n"
     ]
    }
   ],
   "source": [
    "print(fizz_buzz(range(1,24)))"
   ]
  },
  {
   "cell_type": "code",
   "execution_count": 100,
   "metadata": {},
   "outputs": [],
   "source": [
    "#method 2\n",
    "def mul_3_or_5(item: int) -> str:\n",
    "    rstring = ''\n",
    "    if item % 3 == 0:\n",
    "        rstring+='Fizz'\n",
    "    if item % 5 == 0:\n",
    "        rstring+= 'Buzz'\n",
    "    return rstring"
   ]
  },
  {
   "cell_type": "code",
   "execution_count": 106,
   "metadata": {},
   "outputs": [],
   "source": [
    "def fizzbuzz_2(llist: list) -> list:\n",
    "    return [mul_3_or_5(item) for item in llist]"
   ]
  },
  {
   "cell_type": "code",
   "execution_count": 109,
   "metadata": {},
   "outputs": [
    {
     "name": "stdout",
     "output_type": "stream",
     "text": [
      "['', '', 'Fizz', '', 'Buzz', 'Fizz', '', '', 'Fizz', 'Buzz', '', 'Fizz', '', '', 'FizzBuzz', '', '', 'Fizz', '', 'Buzz', 'Fizz', '', '', 'Fizz', 'Buzz', '', 'Fizz', '', '', 'FizzBuzz']\n"
     ]
    }
   ],
   "source": [
    "flist = fizzbuzz_2(range(31))\n",
    "print(flist[1:])    #print from 1 to ignore 0th index"
   ]
  },
  {
   "cell_type": "code",
   "execution_count": 96,
   "metadata": {},
   "outputs": [],
   "source": [
    "#method 3 by asokan\n",
    "# x mod 3 = (x mod 15) mod 3\n",
    "def fizzbuzz_3(n:int) -> str:\n",
    "    fbs = ['1', '2', 'Fizz', '4', 'Buzz', 'Fizz', '7', '8', 'Fizz', 'Buzz', '11', 'Fizz', '13', '14', 'FizzBuzz']\n",
    "    return fbs[n % 15] or str(n)"
   ]
  },
  {
   "cell_type": "code",
   "execution_count": 98,
   "metadata": {},
   "outputs": [
    {
     "name": "stdout",
     "output_type": "stream",
     "text": [
      "['1', '2', 'Fizz', '4', 'Buzz', 'Fizz', '7', '8', 'Fizz', 'Buzz', '11', 'Fizz', '13', '14', 'FizzBuzz', '1', '2', 'Fizz', '4', 'Buzz', 'Fizz', '7', '8', 'Fizz', 'Buzz', '11', 'Fizz', '13', '14', 'FizzBuzz', '1']\n"
     ]
    }
   ],
   "source": [
    "flist = [fizzbuzz_3(item) for item in range(31)]\n",
    "print(flist)"
   ]
  },
  {
   "cell_type": "code",
   "execution_count": 79,
   "metadata": {},
   "outputs": [],
   "source": [
    "#method 4\n",
    "def fizzbuzz_4(n: int) -> str:\n",
    "    fbs= {(True,True):'FizzBuzz',\n",
    "          (True,False):'Fizz',\n",
    "          (False,True):'Buzz',\n",
    "          (False,False): str(n)}\n",
    "    return fbs[(n % 5 == 0,n % 3 == 0)]\n"
   ]
  },
  {
   "cell_type": "code",
   "execution_count": 83,
   "metadata": {},
   "outputs": [
    {
     "name": "stdout",
     "output_type": "stream",
     "text": [
      "['FizzBuzz', '1', '2', 'Buzz', '4', 'Fizz', 'Buzz', '7', '8', 'Buzz', 'Fizz', '11', 'Buzz', '13', '14', 'FizzBuzz', '16', '17', 'Buzz', '19', 'Fizz', 'Buzz', '22', '23', 'Buzz', 'Fizz', '26', 'Buzz', '28', '29', 'FizzBuzz']\n"
     ]
    }
   ],
   "source": [
    "flist = [fizzbuzz_4(item) for item in range(31)]\n",
    "print(flist)"
   ]
  },
  {
   "cell_type": "code",
   "execution_count": 84,
   "metadata": {},
   "outputs": [],
   "source": [
    "def pick(n: int) -> int:\n",
    "    return 2 * int(n % 5 == 0) + int(n % 3 == 0)    #boolean converted to binary value which can be added to find index\n",
    "\n",
    "def fizzbuzz_5(n: int) -> int:\n",
    "    return [str(n),'Fizz','Buzz','FizzBuzz'][pick(n)]\n",
    "\n"
   ]
  },
  {
   "cell_type": "code",
   "execution_count": 85,
   "metadata": {},
   "outputs": [
    {
     "name": "stdout",
     "output_type": "stream",
     "text": [
      "['FizzBuzz', '1', '2', 'Fizz', '4', 'Buzz', 'Fizz', '7', '8', 'Fizz', 'Buzz', '11', 'Fizz', '13', '14', 'FizzBuzz', '16', '17', 'Fizz', '19', 'Buzz', 'Fizz', '22', '23', 'Fizz', 'Buzz', '26', 'Fizz', '28', '29', 'FizzBuzz']\n"
     ]
    }
   ],
   "source": [
    "flist = [fizzbuzz_5(item) for item in range(31)]\n",
    "print(flist)"
   ]
  },
  {
   "cell_type": "code",
   "execution_count": 91,
   "metadata": {},
   "outputs": [],
   "source": [
    "def gen_fizzbuzz(upto: int) -> list[str]:\n",
    "    fbs = [str(n) for n in range(upto)]\n",
    "    fbs[3::3] = ['Fizz'] * len(fbs[3::3])   #multiple items assigned with same value in steps of 3 e.g. [3] * 7 = [3,3,3,3,3,3,3]\n",
    "    fbs[5::5] = ['Buzz'] * len(fbs[5::5])   #multiple items assigned with same value in steps of 5\n",
    "    fbs[15::15] = ['FizzBuzz'] * len(fbs[15::15])\n",
    "    return fbs[1:]"
   ]
  },
  {
   "cell_type": "code",
   "execution_count": 95,
   "metadata": {},
   "outputs": [
    {
     "name": "stdout",
     "output_type": "stream",
     "text": [
      "['1', '2', 'Fizz', '4', 'Buzz', 'Fizz', '7', '8', 'Fizz', 'Buzz', '11', 'Fizz', '13', '14', 'FizzBuzz']\n"
     ]
    }
   ],
   "source": [
    "print(gen_fizzbuzz(16))"
   ]
  },
  {
   "cell_type": "code",
   "execution_count": 135,
   "metadata": {},
   "outputs": [],
   "source": [
    "def alpha_number(sstring: str) -> dict:\n",
    "    alphabet = ['a','b','c','d','e','f','g','h','i','j','k','l','m','n','o','p','q','r','s','t','u','v','w','x','y','z']\n",
    "    rstring = {}\n",
    "    for letter in sstring:\n",
    "        rstring[letter] = alphabet.index(letter)\n",
    "    return rstring\n"
   ]
  },
  {
   "cell_type": "code",
   "execution_count": 154,
   "metadata": {},
   "outputs": [],
   "source": [
    "def classify(given: list)-> str:\n",
    "    given = list(given)\n",
    "    if given == sorted(given):\n",
    "        return 'ascending'\n",
    "    elif given == sorted(given, reverse=True):\n",
    "        return 'Descending'\n",
    "    elif given > sorted(given):\n",
    "        return 'peak'\n",
    "    elif given < sorted(given, reverse=True):\n",
    "        return 'valley'\n",
    "    "
   ]
  },
  {
   "cell_type": "code",
   "execution_count": 156,
   "metadata": {},
   "outputs": [
    {
     "name": "stdout",
     "output_type": "stream",
     "text": [
      "peak\n"
     ]
    }
   ],
   "source": [
    "inp = input('Enter a string to classify: ')\n",
    "output = classify(alpha_number(inp))\n",
    "print(output)"
   ]
  },
  {
   "cell_type": "code",
   "execution_count": 160,
   "metadata": {},
   "outputs": [],
   "source": [
    "#Asokan's answer\n",
    "UP, DN, EQ = '+', '-', '0'\n",
    "\n",
    "def relation(a,b: str) -> str:\n",
    "    if a > b:\n",
    "        return UP\n",
    "    if a < b:\n",
    "        return DN\n",
    "    else:\n",
    "        return EQ\n",
    "\n",
    "    "
   ]
  },
  {
   "cell_type": "code",
   "execution_count": 164,
   "metadata": {},
   "outputs": [],
   "source": [
    "def transform(s: str) -> str:\n",
    "    return ''.join(relation(x,y) for x,y in zip(s,s[1:]))"
   ]
  },
  {
   "cell_type": "code",
   "execution_count": 162,
   "metadata": {},
   "outputs": [],
   "source": [
    "def squeeze(s: str) -> str:\n",
    "    if len(s) == 1:       #squeeze consequetive ones to single one\n",
    "        return s\n",
    "    elif s[0] == s[1]:\n",
    "        return squeeze(s[1:])\n",
    "    else:\n",
    "        return [s[0] + squeeze(s[1:])]"
   ]
  },
  {
   "cell_type": "code",
   "execution_count": 167,
   "metadata": {},
   "outputs": [
    {
     "name": "stdout",
     "output_type": "stream",
     "text": [
      "1234 ---\n",
      "-\n",
      "yogam +++-\n",
      "['+-']\n",
      "yoke +++\n",
      "+\n"
     ]
    }
   ],
   "source": [
    "for s in [\"1234\", \"yogam\",'yoke']:\n",
    "    print(s,transform(s))\n",
    "    print(squeeze(transform(s)))"
   ]
  },
  {
   "cell_type": "code",
   "execution_count": 170,
   "metadata": {},
   "outputs": [],
   "source": [
    "def classify1(s: str) -> str:\n",
    "    sq = squeeze(transform(s))\n",
    "    if sig == UP:\n",
    "        return \"A\"\n",
    "    elif sig == DN:\n",
    "        return \"D\"\n",
    "    elif sig == UP + DN:\n",
    "        return \"P\"\n",
    "    elif sig == DN + UP:\n",
    "        return \"V\"\n",
    "    else:\n",
    "        return \"X\""
   ]
  },
  {
   "cell_type": "markdown",
   "metadata": {},
   "source": [
    "Given a number convert to string of words e.g. 1001 : one thousand and one\n",
    "#consider how to handle both american and indian system\n",
    "#maybe make an assumption that numbers will be 1000000000 (one trillion)"
   ]
  },
  {
   "cell_type": "code",
   "execution_count": null,
   "metadata": {},
   "outputs": [],
   "source": []
  },
  {
   "cell_type": "markdown",
   "metadata": {},
   "source": [
    "Convert any roman numeral to decimal equivalent"
   ]
  },
  {
   "cell_type": "code",
   "execution_count": 193,
   "metadata": {},
   "outputs": [],
   "source": [
    "inp = 'Ix'"
   ]
  },
  {
   "cell_type": "code",
   "execution_count": 429,
   "metadata": {},
   "outputs": [],
   "source": [
    "\n",
    "# if inp[i] < inp[i-1] then subtract\n",
    "# else add\n",
    "#print(roman_numerals[a] , roman_numerals[b])\n",
    "#print('Deci sub', deci)\n",
    "\n",
    "def roman_decimal(a,b: str, tot: int) -> str:\n",
    "    roman_numerals = {'I' : 1,'V' : 5,'M' : 1000,'C' : 100,'L': 50,'X' : 10,'D':500}\n",
    "    deci = tot\n",
    "    print(roman_numerals[a] , roman_numerals[b])\n",
    "    if roman_numerals[a] < roman_numerals[b]:\n",
    "        deci -= roman_numerals[b]\n",
    "        \n",
    "    else:\n",
    "        deci += roman_numerals[a] + roman_numerals[b]\n",
    "    print(deci)\n",
    "    return deci\n",
    "    "
   ]
  },
  {
   "cell_type": "code",
   "execution_count": 430,
   "metadata": {},
   "outputs": [],
   "source": [
    "def make_decimal(inp: str) -> int:\n",
    "    output, i = 0, 0\n",
    "    \n",
    "    while i > -1 * (len(inp)):\n",
    "        print(i)\n",
    "        if i == -1 * (len(inp)-1):\n",
    "            output=roman_decimal(inp[0],inp[1],output)\n",
    "            i-=1\n",
    "            \n",
    "        else:\n",
    "            output= roman_decimal(inp[i-2],inp[i-1],output)\n",
    "            i-=2\n",
    "    return output"
   ]
  },
  {
   "cell_type": "code",
   "execution_count": 431,
   "metadata": {},
   "outputs": [
    {
     "name": "stdout",
     "output_type": "stream",
     "text": [
      "0\n",
      "1 5\n",
      "-4\n",
      "-2\n",
      "10 10\n",
      "16\n",
      "-4\n",
      "10 10\n",
      "36\n",
      "36\n"
     ]
    }
   ],
   "source": [
    "\n",
    "print(make_decimal('XXXXIV'))"
   ]
  }
 ],
 "metadata": {
  "kernelspec": {
   "display_name": "Python 3",
   "language": "python",
   "name": "python3"
  },
  "language_info": {
   "codemirror_mode": {
    "name": "ipython",
    "version": 3
   },
   "file_extension": ".py",
   "mimetype": "text/x-python",
   "name": "python",
   "nbconvert_exporter": "python",
   "pygments_lexer": "ipython3",
   "version": "3.11.3"
  }
 },
 "nbformat": 4,
 "nbformat_minor": 2
}
