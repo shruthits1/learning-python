{
 "cells": [
  {
   "cell_type": "markdown",
   "metadata": {},
   "source": [
    "- List is heterogenuous\n",
    "- List allows duplicate values\n",
    "- It is mutable\n"
   ]
  },
  {
   "cell_type": "code",
   "execution_count": 8,
   "metadata": {},
   "outputs": [
    {
     "name": "stdout",
     "output_type": "stream",
     "text": [
      "[4, 2, 3, 1]\n",
      "[4, 2, 3, 1]\n"
     ]
    }
   ],
   "source": [
    "#List separated by comma\n",
    "friends = [\"John\", \"Kelly\", \"Mac\"]\n",
    "listNum = [3,13,11,177]\n",
    "mixedList = [\"Joey\", 13, True, [4,2,3,1]]\n",
    "print(mixedList[-1])\n",
    "print(mixedList[3])"
   ]
  },
  {
   "cell_type": "code",
   "execution_count": 4,
   "metadata": {},
   "outputs": [
    {
     "name": "stdout",
     "output_type": "stream",
     "text": [
      "['Joey', 13, True, [4, 2, 3, 1]]\n",
      "[[4, 2, 3, 1], True, 13, 'Joey']\n"
     ]
    }
   ],
   "source": [
    "#list slicing and reverse\n",
    "print(mixedList[::])\n",
    "print(mixedList[::-1])"
   ]
  },
  {
   "cell_type": "code",
   "execution_count": 11,
   "metadata": {},
   "outputs": [
    {
     "name": "stdout",
     "output_type": "stream",
     "text": [
      "['Joey', 13, True, [4, 2, 3, 1]]\n",
      "1\n"
     ]
    }
   ],
   "source": [
    "#Nested List\n",
    "mixedList = [\"Joey\", 13, True, [4,2,3,1]]\n",
    "print(mixedList)\n",
    "print(mixedList[3][3])"
   ]
  },
  {
   "cell_type": "code",
   "execution_count": 12,
   "metadata": {},
   "outputs": [
    {
     "data": {
      "text/plain": [
       "4"
      ]
     },
     "execution_count": 12,
     "metadata": {},
     "output_type": "execute_result"
    }
   ],
   "source": [
    "len(mixedList)"
   ]
  },
  {
   "cell_type": "markdown",
   "metadata": {},
   "source": [
    "Function overloading is inhenerent in magic methods like Len but we cannot overload a method. However we can use that concept by redefining the magic method in out class"
   ]
  },
  {
   "cell_type": "code",
   "execution_count": null,
   "metadata": {},
   "outputs": [],
   "source": [
    "print(friends)\n"
   ]
  },
  {
   "cell_type": "code",
   "execution_count": 14,
   "metadata": {},
   "outputs": [
    {
     "name": "stdout",
     "output_type": "stream",
     "text": [
      "[4, 1, 2, 3]\n",
      "[4, 2, 4, 5]\n"
     ]
    }
   ],
   "source": [
    "#List constructor\n",
    "myList1 = list([4,1,2,3])\n",
    "myList2 = list((4,2,4,5))   #converts tuple to list\n",
    "print(myList1)\n",
    "print(myList2)"
   ]
  },
  {
   "cell_type": "code",
   "execution_count": 17,
   "metadata": {},
   "outputs": [
    {
     "name": "stdout",
     "output_type": "stream",
     "text": [
      "[4, 5, 6, 7, 8, 9, 10]\n"
     ]
    }
   ],
   "source": [
    "#list of sequence of numbers\n",
    "myList3 = list(range(4,11))\n",
    "print(myList3)"
   ]
  },
  {
   "cell_type": "code",
   "execution_count": 18,
   "metadata": {},
   "outputs": [
    {
     "name": "stdout",
     "output_type": "stream",
     "text": [
      "[4, 5, 6, 7, 8, 9, 10, [3, 1, 1, 4]]\n"
     ]
    }
   ],
   "source": [
    "#Append adds one element at a time\n",
    "myList3.append([3,1,1,4])\n",
    "print(myList3)"
   ]
  },
  {
   "cell_type": "code",
   "execution_count": 19,
   "metadata": {},
   "outputs": [
    {
     "name": "stdout",
     "output_type": "stream",
     "text": [
      "[4, 5, 6, 7, 8, 9, 10, [3, 1, 1, 4], 1, 1, 32, 11]\n"
     ]
    }
   ],
   "source": [
    "#Extend adds multiple elements\n",
    "myList3.extend([1,1,32,11])\n",
    "print(myList3)"
   ]
  },
  {
   "cell_type": "code",
   "execution_count": 23,
   "metadata": {},
   "outputs": [
    {
     "name": "stdout",
     "output_type": "stream",
     "text": [
      "[4, 100, 5, 6, 7, 8, 9, 10, [3, 1, 1, 4], 1, 1, 32, 11]\n",
      "[4, 100, 100, 5, 6, 7, 8, 9, 10, [3, 1, 1, 4], 1, 1, 32, 11]\n"
     ]
    }
   ],
   "source": [
    "#Add element in between using insert\n",
    "print(myList3)\n",
    "myList3.insert(1,100)\n",
    "print(myList3)"
   ]
  },
  {
   "cell_type": "code",
   "execution_count": 24,
   "metadata": {},
   "outputs": [
    {
     "name": "stdout",
     "output_type": "stream",
     "text": [
      "before [4, 100, 100, 5, 6, 7, 8, 9, 10, [3, 1, 1, 4], 1, 1, 32, 11]\n",
      "after [4, 100, 100, 5, 6, 7, 8, 9, 10, [3, 1, 1, 4], 1, 1, 32, 100, 11]\n"
     ]
    }
   ],
   "source": [
    "#Add element at the end - if using negative it adds element and then\n",
    "print(\"before\", myList3)\n",
    "myList3.insert(-1,100)\n",
    "print(\"after\", myList3)"
   ]
  },
  {
   "cell_type": "code",
   "execution_count": 27,
   "metadata": {},
   "outputs": [
    {
     "name": "stdout",
     "output_type": "stream",
     "text": [
      "before ['Mac', 'Kelly', 'John']\n",
      "sorting ['John', 'Kelly', 'Mac']\n",
      "sorting in reverse ['Mac', 'Kelly', 'John']\n"
     ]
    }
   ],
   "source": [
    "#Sort and sorted\n",
    "print(\"before\" , friends)\n",
    "friends.sort()\n",
    "print(\"sorting\" , friends )\n",
    "friends.sort(reverse=True)\n",
    "print(\"sorting in reverse\" , friends)"
   ]
  },
  {
   "cell_type": "code",
   "execution_count": 31,
   "metadata": {},
   "outputs": [
    {
     "name": "stdout",
     "output_type": "stream",
     "text": [
      "Before ['John', 'Kelly', 'Abe']\n",
      "['Abe', 'John', 'Kelly']\n",
      "['Kelly', 'John', 'Abe']\n"
     ]
    }
   ],
   "source": [
    "#Sorted function works with all collections - string, dict, set, lsit , tuple\n",
    "#this will not do permanent changes to list\n",
    "#Sort is only for List. it is in-place changes\n",
    "#Sort will return none but sorted returns the list\n",
    "\n",
    "friends = [\"John\", \"Kelly\", \"Abe\"]\n",
    "print(\"Before\", friends)\n",
    "print(sorted(friends))\n",
    "print(sorted(friends, reverse=True))"
   ]
  },
  {
   "cell_type": "code",
   "execution_count": 34,
   "metadata": {},
   "outputs": [
    {
     "name": "stdout",
     "output_type": "stream",
     "text": [
      "['John', 'Kelly', 'Abe']\n"
     ]
    },
    {
     "data": {
      "text/plain": [
       "'Abe'"
      ]
     },
     "execution_count": 34,
     "metadata": {},
     "output_type": "execute_result"
    }
   ],
   "source": [
    "#Pop will remove last element and displays the element\n",
    "print(friends)\n",
    "friends.pop()"
   ]
  },
  {
   "cell_type": "code",
   "execution_count": 39,
   "metadata": {},
   "outputs": [
    {
     "name": "stdout",
     "output_type": "stream",
     "text": [
      "['John', 'Kelly', 'Meghana', 'Shruthi', 'Gita', 'Meghana', 'Shruthi', 'Gita', 'Meghana', 'Shue', 'Shruthi', 'Gita', 'Shue']\n",
      "after ['John', 'Kelly', 'Meghana', 'Shruthi', 'Gita', 'Meghana', 'Shruthi', 'Gita', 'Meghana', 'Shruthi', 'Gita']\n"
     ]
    }
   ],
   "source": [
    "#inefficient code for removing specific names\n",
    "#sometimes it fails to work when there are 4 or more occurances to be removed\n",
    "friends.extend((\"Meghana\",\"Shue\",\"Shruthi\",\"Gita\",\"Shue\"))\n",
    "print(friends)\n",
    "for name in friends:    #for runs for fixed range but iffriends keeps changing the range needs to be recalculated\n",
    "    if name == \"Shue\":\n",
    "        friends.remove(\"Shue\")\n",
    "print(\"after\", friends)    "
   ]
  },
  {
   "cell_type": "code",
   "execution_count": 47,
   "metadata": {},
   "outputs": [
    {
     "name": "stdout",
     "output_type": "stream",
     "text": [
      "[4, 1, 2, 3]\n",
      "[4, 1, 2, 3]\n",
      "shallow copy [4, 1, 2, 3, 999]\n",
      "shallow source [4, 1, 2, 3, 999]\n",
      "[4, 1, 2, 3, 999]\n",
      "[4, 1, 2, 3, 999]\n",
      "deep source [4, 1, 2, 3, 999, 100]\n",
      "deep copy [4, 1, 2, 3, 999]\n"
     ]
    }
   ],
   "source": [
    "#refereence variable is spoken for collections and not basic data types\n",
    "\n",
    "#shallow copy : references same memory address\n",
    "myList1 = list([4,1,2,3])\n",
    "myCopy = myList1\n",
    "print(myCopy)\n",
    "print(myList1)\n",
    "myList1.append(999)\n",
    "print(\"shallow copy\", myCopy)\n",
    "print(\"shallow source\", myList1)\n",
    "\n",
    "#Deep copy : different memory address\n",
    "#holds copy as of that time of copy\n",
    "myCopy2 = myList1.copy()\n",
    "\n",
    "print(myList1)\n",
    "print(myCopy2)\n",
    "\n",
    "myList1.append(100)\n",
    "print(\"deep source\",myList1)\n",
    "print(\"deep copy\", myCopy2)"
   ]
  },
  {
   "cell_type": "code",
   "execution_count": null,
   "metadata": {},
   "outputs": [],
   "source": [
    "#try adding value into nested list , for insert you cannot provide 2 dimensions\n",
    "# you can access with 2 dimensions though"
   ]
  },
  {
   "cell_type": "code",
   "execution_count": 49,
   "metadata": {},
   "outputs": [
    {
     "name": "stdout",
     "output_type": "stream",
     "text": [
      "['MAXYEAR', 'MINYEAR', 'UTC', '__all__', '__builtins__', '__cached__', '__doc__', '__file__', '__loader__', '__name__', '__package__', '__spec__', 'date', 'datetime', 'datetime_CAPI', 'sys', 'time', 'timedelta', 'timezone', 'tzinfo']\n"
     ]
    }
   ],
   "source": [
    "import datetime as dt\n",
    "print(dir(datetime))"
   ]
  },
  {
   "cell_type": "code",
   "execution_count": 154,
   "metadata": {},
   "outputs": [
    {
     "name": "stdout",
     "output_type": "stream",
     "text": [
      "2024-10-05\n",
      "2024/10/05\n"
     ]
    }
   ],
   "source": [
    "from datetime import date\n",
    "sdate=date(2024,10,5)\n",
    "print(sdate)\n",
    "#Now change default fromat of date\n",
    "sdate=sdate.strftime(\"%Y/%m/%d\")\n",
    "print(sdate)"
   ]
  },
  {
   "cell_type": "code",
   "execution_count": 62,
   "metadata": {},
   "outputs": [
    {
     "name": "stdout",
     "output_type": "stream",
     "text": [
      "[1, 2, 3, 4, 5, 6, 7, 8, 9, 10]\n",
      "[2, 4, 6, 8, 10]\n",
      "[1, 3, 5, 7, 9]\n"
     ]
    }
   ],
   "source": [
    "l1 = list(range(1,11))   #range(start,stop,step)\n",
    "\n",
    "print(l1)\n",
    "\n",
    "evenList = [l1[items] for items in range(len(l1)) if l1[items]%2 == 0] \n",
    "oddList = [l1[items] for items in range(len(l1)) if l1[items]%2 != 0]\n",
    "print(evenList)\n",
    "print(oddList)"
   ]
  },
  {
   "cell_type": "markdown",
   "metadata": {},
   "source": [
    "In list comprehension, make sure that the statement/expression results in one output alone so a new list can be creted out of it"
   ]
  },
  {
   "cell_type": "code",
   "execution_count": 72,
   "metadata": {},
   "outputs": [
    {
     "name": "stdout",
     "output_type": "stream",
     "text": [
      "[12.9, 10, 34.0, 67, 87, 10.8, 34, 77.0, 60, 45.87, 18]\n",
      "With floats removed [10, 67, 87, 34, 60, 18]\n",
      "With floats removed by isinstance [10, 67, 87, 34, 60, 18]\n"
     ]
    }
   ],
   "source": [
    "# Given a list of numbers, \n",
    "# remove floats from the list\n",
    "\n",
    "list1 = [12.9,10,34.0,67,87,10.8,34,77.0,60,45.87,18]\n",
    "list2 = [i for i in list1 if type(i) != float]\n",
    "list3 = [i for i in list1 if not isinstance(i,float)]   #can also look only for int in this particular case\n",
    "\n",
    "print(list1)\n",
    "print(\"With floats removed\", list2)\n",
    "print(\"With floats removed by isinstance\", list3)\n"
   ]
  },
  {
   "cell_type": "markdown",
   "metadata": {},
   "source": [
    "**Tuple**\n",
    "- Immutable, acts as a constant data structure\n",
    "- it is  ordered\n",
    "- no functions that makes permanent changes\n",
    "- heterogeneuous\n",
    "- can have duplicates\n",
    "- used when working with database, specially when inserting single values\n",
    "- where you dont want outside modification\n",
    "- cannot do sort, append, extend on tuple\n",
    "- can pack and unpack values with tuple which we cant do with list\n",
    "- when comparing tuples (< , > etc), it does it one element at a time, unless the elements are equal it wont evaluate the enxt element\n",
    "- create empty set as set() and not {}"
   ]
  },
  {
   "cell_type": "code",
   "execution_count": 74,
   "metadata": {},
   "outputs": [
    {
     "data": {
      "text/plain": [
       "'kring'"
      ]
     },
     "execution_count": 74,
     "metadata": {},
     "output_type": "execute_result"
    }
   ],
   "source": [
    "tup1 = (\"kring\",1, 8.0)\n",
    "tup1[0]"
   ]
  },
  {
   "cell_type": "code",
   "execution_count": 76,
   "metadata": {},
   "outputs": [
    {
     "name": "stdout",
     "output_type": "stream",
     "text": [
      "100 <class 'int'>\n",
      "(100,) <class 'tuple'>\n"
     ]
    }
   ],
   "source": [
    "#tuple with single element\n",
    "tup2 = (100)\n",
    "print(tup2, type(tup2))\n",
    "tup2 = (100,)\n",
    "print(tup2, type(tup2))"
   ]
  },
  {
   "cell_type": "code",
   "execution_count": 81,
   "metadata": {},
   "outputs": [
    {
     "name": "stdout",
     "output_type": "stream",
     "text": [
      "[100, 18, 90, 55, 909] <class 'list'>\n",
      "(100, 18, 90, 55, 909) <class 'tuple'>\n"
     ]
    }
   ],
   "source": [
    "#make changes in tuple\n",
    "tup2 = (100,18,90)\n",
    "tup2 = list(tup2)\n",
    "tup2.append(55)\n",
    "tup2.extend([909])\n",
    "print(tup2, type(tup2))\n",
    "tup2 = tuple(tup2)\n",
    "print(tup2, type(tup2))\n"
   ]
  },
  {
   "cell_type": "code",
   "execution_count": 84,
   "metadata": {},
   "outputs": [
    {
     "name": "stdout",
     "output_type": "stream",
     "text": [
      "(3, 4, 2.3, 1) <class 'tuple'>\n",
      "3 4 2.3 1 <class 'int'> <class 'int'> <class 'float'> <class 'int'>\n"
     ]
    }
   ],
   "source": [
    "#- by default if you store multiple values in one variable it becomes tuple\n",
    "tup = 3,4,2.3,1\n",
    "print(tup, type(tup))   #tuple packing\n",
    "a,b,c,d = tup\n",
    "print(a,b,c,d, type(a), type(b),type(c),type(d))"
   ]
  },
  {
   "cell_type": "code",
   "execution_count": 85,
   "metadata": {},
   "outputs": [
    {
     "data": {
      "text/plain": [
       "True"
      ]
     },
     "execution_count": 85,
     "metadata": {},
     "output_type": "execute_result"
    }
   ],
   "source": [
    "#comparison\n",
    "(1,3,10) < (1,5,10)"
   ]
  },
  {
   "cell_type": "code",
   "execution_count": 86,
   "metadata": {},
   "outputs": [
    {
     "data": {
      "text/plain": [
       "True"
      ]
     },
     "execution_count": 86,
     "metadata": {},
     "output_type": "execute_result"
    }
   ],
   "source": [
    "(3,2,'d') < (4,2,'b')   #since first element is differrent and is less, it wont look at 3rd."
   ]
  },
  {
   "cell_type": "code",
   "execution_count": 87,
   "metadata": {},
   "outputs": [
    {
     "data": {
      "text/plain": [
       "False"
      ]
     },
     "execution_count": 87,
     "metadata": {},
     "output_type": "execute_result"
    }
   ],
   "source": [
    "(3,2,'d') < (3,2,'b')   #since first element is same, it checks the second and then third where it finds that it is not less"
   ]
  },
  {
   "cell_type": "code",
   "execution_count": 92,
   "metadata": {},
   "outputs": [
    {
     "name": "stdout",
     "output_type": "stream",
     "text": [
      "(19, 0, 19, 88, 9)\n",
      "[0, 9, 19, 19, 88]\n",
      "[88, 19, 19, 9, 0]\n",
      "(19, 0, 19, 88, 9)\n",
      "[0, 9, 19, 19, 88] <class 'list'>\n"
     ]
    }
   ],
   "source": [
    "tup1 = (19,0,19,88,9)\n",
    "print((tup1))\n",
    "print(sorted(tup1))     #note that the output is in the form of a list\n",
    "print(sorted(tup1,reverse=True))\n",
    "print((tup1))\n",
    "tup2 = sorted(tup1)         #assigning output of sorted will be of type list\n",
    "print(tup2, type(tup2))"
   ]
  },
  {
   "cell_type": "markdown",
   "metadata": {},
   "source": [
    "**Sets**\n",
    "- Unordered \n",
    "- Can be modified as in add elements but cannot change existing so not immutable\n",
    "- heterogeneuous\n",
    "- Unique"
   ]
  },
  {
   "cell_type": "code",
   "execution_count": 95,
   "metadata": {},
   "outputs": [
    {
     "name": "stdout",
     "output_type": "stream",
     "text": [
      "{1, 2, 5, 6, 9}\n"
     ]
    }
   ],
   "source": [
    "s1 = {2,1,5,6,5,9,1,1}\n",
    "print(s1)       #ignores duplicates"
   ]
  },
  {
   "cell_type": "code",
   "execution_count": 105,
   "metadata": {},
   "outputs": [
    {
     "name": "stdout",
     "output_type": "stream",
     "text": [
      "{1, 'here', None, 9.0}\n",
      "{False, 1, 'here', 9.0, None}\n"
     ]
    }
   ],
   "source": [
    "s2 = {1,True, 9.0, \"here\", None}    #here it considers 1 and true to be same and excludes one of them\n",
    "print(s2)\n",
    "s3 = {1,False, 9.0, \"here\", None}\n",
    "print(s3)"
   ]
  },
  {
   "cell_type": "code",
   "execution_count": 107,
   "metadata": {},
   "outputs": [
    {
     "name": "stdout",
     "output_type": "stream",
     "text": [
      "{0, 1, 2, 3, 6, 7, 9}\n",
      "{0, 1, 2, 3, 6, 7, 9}\n"
     ]
    }
   ],
   "source": [
    "#Set operations\n",
    "#Union\n",
    "a = {1, 3,6,9}\n",
    "b = {7,0,2,3}\n",
    "print(a|b)\n",
    "print(a.union(b))"
   ]
  },
  {
   "cell_type": "code",
   "execution_count": 115,
   "metadata": {},
   "outputs": [
    {
     "name": "stdout",
     "output_type": "stream",
     "text": [
      "{0, 1, 2, 3, 99, 6, 7, 9, 90}\n",
      "{0, 1, 2, 3, 99, 6, 7, 9, 90}\n",
      "{1, 3, 6, 9} {0, 2, 3, 7} {1, 90, 99}\n"
     ]
    }
   ],
   "source": [
    "c = {90,99,1}\n",
    "print(a|b|c)\n",
    "print(a.union(b,c))\n",
    "print(a, b, c)\n"
   ]
  },
  {
   "cell_type": "code",
   "execution_count": 111,
   "metadata": {},
   "outputs": [
    {
     "name": "stdout",
     "output_type": "stream",
     "text": [
      "{3}\n",
      "{3}\n"
     ]
    }
   ],
   "source": [
    "#Intersection or common elements\n",
    "print(a&b)\n",
    "print(a.intersection(b))"
   ]
  },
  {
   "cell_type": "code",
   "execution_count": 116,
   "metadata": {},
   "outputs": [
    {
     "name": "stdout",
     "output_type": "stream",
     "text": [
      "{9, 6}\n",
      "{6, 9}\n"
     ]
    }
   ],
   "source": [
    "#elements in first set not in second or in third\n",
    "print(a-b-c)\n",
    "print(a.difference(b,c))"
   ]
  },
  {
   "cell_type": "code",
   "execution_count": 118,
   "metadata": {},
   "outputs": [
    {
     "name": "stdout",
     "output_type": "stream",
     "text": [
      "{1, 3, 6, 9} {0, 2, 3, 7} {1, 90, 99}\n",
      "{0, 2, 99, 6, 7, 9, 90}\n"
     ]
    }
   ],
   "source": [
    "#uncommon elemenst from all sets - symmetric difference\n",
    "print(a,b,c)\n",
    "print(a^b^c)\n"
   ]
  },
  {
   "cell_type": "code",
   "execution_count": 120,
   "metadata": {},
   "outputs": [
    {
     "name": "stdout",
     "output_type": "stream",
     "text": [
      "{1, 2, 6}\n",
      "{0, 3, 5, 8, 9}\n"
     ]
    }
   ],
   "source": [
    "#find common and uncommon elements from the list\n",
    "list1 = [5,2,3,8,6,1]\n",
    "list2 = [1,6,2,9,0]\n",
    "\n",
    "print(set(list1)&set(list2))\n",
    "print(set(list1)^set(list2))"
   ]
  },
  {
   "cell_type": "markdown",
   "metadata": {},
   "source": [
    "**Dictionary**\n",
    "- before 3.7 it was unordered. but it is now ordered\n",
    "- Ordered dictionary basically means it keeps track of elements being added/removed in the order it was performed\n",
    "- unique - keys cannot be duplicate, values can be\n",
    "- mutable"
   ]
  },
  {
   "cell_type": "code",
   "execution_count": 129,
   "metadata": {},
   "outputs": [
    {
     "name": "stdout",
     "output_type": "stream",
     "text": [
      "{'John': 'something else', 'Henry': 'Painting', 'john': 'Running', 123: 'Painting', 'Mary': ('Reading', 'Birding'), 'James': ['reading', 'Running', 'Trek'], 'code': 900}\n"
     ]
    }
   ],
   "source": [
    "d1 = {'John': 'Trek',\n",
    "      'Henry': 'Painting',\n",
    "      'john' :'Running',\n",
    "      'John':'something else',      #duplicate value but will take the latest without throwing error\n",
    "      123 : 'Painting',\n",
    "      'Mary':('Reading','Birding'),\n",
    "      'James':['reading', 'Running','Trek'],\n",
    "      'code':900\n",
    "}\n",
    "print(d1)"
   ]
  },
  {
   "cell_type": "code",
   "execution_count": 128,
   "metadata": {},
   "outputs": [
    {
     "name": "stdout",
     "output_type": "stream",
     "text": [
      "something else\n",
      "something else\n"
     ]
    }
   ],
   "source": [
    "print(d1['John'])\n",
    "print(d1.get('John'))"
   ]
  },
  {
   "cell_type": "code",
   "execution_count": 130,
   "metadata": {},
   "outputs": [
    {
     "name": "stdout",
     "output_type": "stream",
     "text": [
      "910\n"
     ]
    }
   ],
   "source": [
    "d1['code']+=10\n",
    "print(d1['code'])"
   ]
  },
  {
   "cell_type": "code",
   "execution_count": 131,
   "metadata": {},
   "outputs": [
    {
     "name": "stdout",
     "output_type": "stream",
     "text": [
      "{'John': 'something else', 'Henry': 'Painting', 'john': 'Running', 'Mary': ('Reading', 'Birding'), 'James': ['reading', 'Running', 'Trek'], 'code': 910}\n"
     ]
    }
   ],
   "source": [
    "#delete one item - pop\n",
    "d1.pop(123)\n",
    "print(d1)\n"
   ]
  },
  {
   "cell_type": "code",
   "execution_count": 132,
   "metadata": {},
   "outputs": [
    {
     "data": {
      "text/plain": [
       "('code', 910)"
      ]
     },
     "execution_count": 132,
     "metadata": {},
     "output_type": "execute_result"
    }
   ],
   "source": [
    "d1.popitem()    - always last item deleted, returns both key and value"
   ]
  },
  {
   "cell_type": "code",
   "execution_count": null,
   "metadata": {},
   "outputs": [],
   "source": [
    "#delete deletes all and dict "
   ]
  },
  {
   "cell_type": "code",
   "execution_count": 137,
   "metadata": {},
   "outputs": [
    {
     "data": {
      "text/plain": [
       "{'name': 'John', 'code': 4001, 'city': 'delhi', 'dept': 'IT'}"
      ]
     },
     "execution_count": 137,
     "metadata": {},
     "output_type": "execute_result"
    }
   ],
   "source": [
    "mydict={'name': 'John', \n",
    "         'code': 4001, \n",
    "         'city': 'delhi', \n",
    "         'dept': 'IT'}\n",
    "mydict"
   ]
  },
  {
   "cell_type": "code",
   "execution_count": 142,
   "metadata": {},
   "outputs": [
    {
     "name": "stdout",
     "output_type": "stream",
     "text": [
      "dict_keys(['John', 'Henry', 'john', 'Mary', 'James'])\n",
      "dict_values(['something else', 'Painting', 'Running', ('Reading', 'Birding'), ['reading', 'Running', 'Trek']])\n"
     ]
    }
   ],
   "source": [
    "mydict.keys()\n",
    "mydict.values() #returns values multiple times if they are repeated\n",
    "print(d1.keys())\n",
    "print(d1.values())  #returns only the latest value of john as key is duplicated"
   ]
  },
  {
   "cell_type": "code",
   "execution_count": 143,
   "metadata": {},
   "outputs": [
    {
     "name": "stdout",
     "output_type": "stream",
     "text": [
      "John\n",
      "4001\n",
      "delhi\n",
      "IT\n"
     ]
    }
   ],
   "source": [
    "for k in mydict.keys():\n",
    "    print(mydict[k])"
   ]
  },
  {
   "cell_type": "code",
   "execution_count": 147,
   "metadata": {},
   "outputs": [
    {
     "name": "stdout",
     "output_type": "stream",
     "text": [
      "('name', 'John') <class 'tuple'>\n",
      "('code', 4001) <class 'tuple'>\n",
      "('city', 'delhi') <class 'tuple'>\n",
      "('dept', 'IT') <class 'tuple'>\n",
      "name John <class 'str'> <class 'str'>\n",
      "code 4001 <class 'str'> <class 'int'>\n",
      "city delhi <class 'str'> <class 'str'>\n",
      "dept IT <class 'str'> <class 'str'>\n",
      "dict_items([('name', 'John'), ('code', 4001), ('city', 'delhi'), ('dept', 'IT')])\n"
     ]
    }
   ],
   "source": [
    "#if you want to iterate over both keys and values use items which returns a tuple\n",
    "for item in mydict.items():\n",
    "    print(item, type(item))\n",
    "\n",
    "for k,v in mydict.items():\n",
    "    print(k,v, type(k), type(v))\n",
    "\n",
    "print(mydict.items())   #List of tuples"
   ]
  },
  {
   "cell_type": "code",
   "execution_count": 165,
   "metadata": {},
   "outputs": [
    {
     "name": "stdout",
     "output_type": "stream",
     "text": [
      "[('city', 'delhi'), ('code', 4001), ('dept', 'IT'), ('name', 'John')]\n",
      "mylist [('city', 'delhi'), ('code', 4001), ('dept', 'IT'), ('name', 'John'), ('dept', 'HR')]\n",
      "4001\n",
      "Output {'city': 'delhi', 'code': 4001, 'dept': 'HR', 'name': 'John'}\n",
      "Output {'delhi': 'city', 4001: 'code', 'IT': 'dept', 'John': 'name', 'HR': 'dept'}\n"
     ]
    }
   ],
   "source": [
    "print(sorted(mydict.items()))\n",
    "\n",
    "myList = sorted(mydict.items())\n",
    "myList.append(('dept','HR'))\n",
    "\n",
    "print(\"mylist\", myList)\n",
    "print(myList[1][1])\n",
    "mydict2 = {}\n",
    "mydict3={}\n",
    "\n",
    "for val in myList:\n",
    "    mydict2[val[0]] = val[1]\n",
    "#to make key as val and val as key\n",
    "    mydict3[val[1]] = val[0]  \n",
    "\n",
    "\n",
    "print(\"Output\", mydict2)\n",
    "print(\"Output\", mydict3)"
   ]
  },
  {
   "cell_type": "code",
   "execution_count": 169,
   "metadata": {},
   "outputs": [
    {
     "name": "stdout",
     "output_type": "stream",
     "text": [
      "{'CA': 'California', 'NY': 'New York', 'WY': 'Wyoming', 'NW': 'Newark'}\n",
      "{'WY': 'Wyoming', 'NW': 'Newark'}\n",
      "{'CA': 'California2', 'NY': 'New York', 'NW': 'Newark'}\n",
      "{'CA': 'California2', 'NW': 'Newark'}\n"
     ]
    }
   ],
   "source": [
    "#Update method to update dict permanently\n",
    "area1 = {'CA':'California', 'NY':'New York'}\n",
    "area2 = {'WY':'Wyoming', 'NW':'Newark'}\n",
    "area1.update(area2)\n",
    "print(area1)\n",
    "print(area2)\n",
    "\n",
    "#if there are duplicates\n",
    "area1 = {'CA':'California', 'NY':'New York'}\n",
    "area2 = {'CA':'California2', 'NW':'Newark'}\n",
    "area1.update(area2)\n",
    "print(area1)\n",
    "print(area2)"
   ]
  },
  {
   "cell_type": "code",
   "execution_count": 172,
   "metadata": {},
   "outputs": [
    {
     "name": "stdout",
     "output_type": "stream",
     "text": [
      "{'py': {'year': '1991', 'creator': 'abc'}, 'C++': {'year': '1996', 'creator': 'def'}, 'Java': {'year': '1998', 'creator': 'xyz'}}\n"
     ]
    }
   ],
   "source": [
    "#nested dictionary\n",
    "progLang = {'py': {'year':'1991','creator':'abc'},\n",
    "            'C++': {'year':'1996','creator':'def'},\n",
    "            'Java': {'year':'1998','creator':'xyz'}\n",
    "}\n",
    "print(progLang)"
   ]
  },
  {
   "cell_type": "code",
   "execution_count": 175,
   "metadata": {},
   "outputs": [
    {
     "name": "stdout",
     "output_type": "stream",
     "text": [
      "('py', {'year': '1991', 'creator': 'abc'})\n",
      "('C++', {'year': '1996', 'creator': 'def'})\n",
      "('Java', {'year': '1998', 'creator': 'xyz'})\n"
     ]
    }
   ],
   "source": [
    "for item in progLang.items():\n",
    "    print(item)"
   ]
  },
  {
   "cell_type": "code",
   "execution_count": 184,
   "metadata": {},
   "outputs": [
    {
     "name": "stdout",
     "output_type": "stream",
     "text": [
      "py\n",
      "year 1991\n",
      "creator abc\n",
      "C++\n",
      "year 1996\n",
      "creator def\n",
      "Java\n",
      "year 1998\n",
      "creator xyz\n"
     ]
    }
   ],
   "source": [
    "for k,v in progLang.items():\n",
    "    print(k)\n",
    "    for kk,vv in v.items():\n",
    "        print(kk, vv)"
   ]
  }
 ],
 "metadata": {
  "kernelspec": {
   "display_name": "Python 3",
   "language": "python",
   "name": "python3"
  },
  "language_info": {
   "codemirror_mode": {
    "name": "ipython",
    "version": 3
   },
   "file_extension": ".py",
   "mimetype": "text/x-python",
   "name": "python",
   "nbconvert_exporter": "python",
   "pygments_lexer": "ipython3",
   "version": "3.11.3"
  }
 },
 "nbformat": 4,
 "nbformat_minor": 2
}
