{
  "nbformat": 4,
  "nbformat_minor": 0,
  "metadata": {
    "colab": {
      "provenance": [],
      "authorship_tag": "ABX9TyOPeAkYbQmvUF0poyaHUTpw",
      "include_colab_link": true
    },
    "kernelspec": {
      "name": "python3",
      "display_name": "Python 3"
    },
    "language_info": {
      "name": "python"
    }
  },
  "cells": [
    {
      "cell_type": "markdown",
      "metadata": {
        "id": "view-in-github",
        "colab_type": "text"
      },
      "source": [
        "<a href=\"https://colab.research.google.com/github/shruthits1/learning-python/blob/main/my_notes/Day1_28092024_loopsNconditions.ipynb\" target=\"_parent\"><img src=\"https://colab.research.google.com/assets/colab-badge.svg\" alt=\"Open In Colab\"/></a>"
      ]
    },
    {
      "cell_type": "code",
      "execution_count": null,
      "metadata": {
        "colab": {
          "base_uri": "https://localhost:8080/"
        },
        "id": "k0J58sJmXzqi",
        "outputId": "f9964031-cfac-4092-e040-deb6a56de0c6"
      },
      "outputs": [
        {
          "output_type": "stream",
          "name": "stdout",
          "text": [
            "Enter a number: -9\n",
            "-9 is negative\n"
          ]
        }
      ],
      "source": [
        "#if else\n",
        "num1 = int(input('Enter a number: '))\n",
        "if num1 > 0:\n",
        "  print(f\"{num1} is positive\")\n",
        "else:\n",
        "  print(f\"{num1} is negative\")"
      ]
    },
    {
      "cell_type": "code",
      "source": [
        "#consition is option, what counts is if it is zero or non-zero\n",
        "num2 = 5\n",
        "if num2 > 0:\n",
        "  print(f\"{num2} is positive\")\n",
        "else:\n",
        "  print(f\"{num2} is negative\")\n",
        "\n",
        "num3 = 0\n",
        "if num3 > 0:\n",
        "  print(f\"{num3} is positive\")\n",
        "else:\n",
        "  print(f\"{num3} is negative\")"
      ],
      "metadata": {
        "colab": {
          "base_uri": "https://localhost:8080/"
        },
        "id": "0o2wQ850Z7ME",
        "outputId": "51ec839f-b291-4c26-8ba6-72837bd58cbf"
      },
      "execution_count": null,
      "outputs": [
        {
          "output_type": "stream",
          "name": "stdout",
          "text": [
            "5 is positive\n",
            "0 is negative\n"
          ]
        }
      ]
    },
    {
      "cell_type": "code",
      "source": [
        "#check if a number is integer or not\n",
        "num3 = 101.1\n",
        "if type(num3) == int:\n",
        "  print(f\"{num3} is an integer\")\n",
        "else:\n",
        "  print(f\"{num3} is not  an integer\")\n",
        "\n",
        "#method using isinstance()\n",
        "if isinstance(num3, int):\n",
        "  print(f\"{num3} is an integer\")\n",
        "else:\n",
        "  print(f\"{num3} is NOT an integer\")"
      ],
      "metadata": {
        "colab": {
          "base_uri": "https://localhost:8080/"
        },
        "id": "5rLbaYVzaW1S",
        "outputId": "f1fface8-2d19-492c-ec42-43f8fd62fa50"
      },
      "execution_count": null,
      "outputs": [
        {
          "output_type": "stream",
          "name": "stdout",
          "text": [
            "101.1 is not  an integer\n",
            "101.1 is NOT an integer\n"
          ]
        }
      ]
    },
    {
      "cell_type": "code",
      "source": [
        "#single line IF : write the true part then if condition and then false\n",
        "#Max of 2 numbers\n",
        "n1,n2 = 1000,100\n",
        "print(f\"{n1} is less than {n2}\") if n1<n2 else print(f\"{n1} is greater than {n2}\")"
      ],
      "metadata": {
        "colab": {
          "base_uri": "https://localhost:8080/"
        },
        "id": "YUan4Rl0bQH-",
        "outputId": "4b63c17b-b0b1-4bb7-fd83-67057dc8ccf5"
      },
      "execution_count": null,
      "outputs": [
        {
          "output_type": "stream",
          "name": "stdout",
          "text": [
            "1000 is greater than 100\n"
          ]
        }
      ]
    },
    {
      "cell_type": "code",
      "source": [
        "# Write the above program Using--------One line if else statement\n",
        "'''\n",
        "Employee's Salary is given.\n",
        "WAP to calculate bonus and display net salary.\n",
        "\n",
        "Salary Bonus\n",
        ">5000  50% of salary\n",
        "Others 25% of salary\n",
        "'''\n",
        "salary = 14000\n",
        "bonus = salary*.5 if salary > 5000 else salary * .25\n",
        "print(f\"Bonus will be: \", bonus, \"and net salary: \", salary + bonus)"
      ],
      "metadata": {
        "colab": {
          "base_uri": "https://localhost:8080/"
        },
        "id": "SBvEPwfsby3u",
        "outputId": "67c5c400-0dcf-45d7-fa40-4f44ce711132"
      },
      "execution_count": null,
      "outputs": [
        {
          "output_type": "stream",
          "name": "stdout",
          "text": [
            "Bonus will be:  7000.0 and net salary:  21000.0\n"
          ]
        }
      ]
    },
    {
      "cell_type": "code",
      "source": [
        "#largest of 3 numbers\n",
        "a,b,c = 4300, 20040,900\n",
        "\n",
        "if a>b:\n",
        "  if a>c:\n",
        "    print(f\"{a} is bigger\")\n",
        "  else:\n",
        "    print(f\"{c} is bigger\")\n",
        "else:\n",
        "  if b>c:\n",
        "    print(f\"{b} is bigger\")\n",
        "  else:\n",
        "    print(f\"{c} is bigger\")"
      ],
      "metadata": {
        "colab": {
          "base_uri": "https://localhost:8080/"
        },
        "id": "er1Q1-m80v7n",
        "outputId": "ce500d10-fa16-45f4-de66-43ef7858a7e8"
      },
      "execution_count": null,
      "outputs": [
        {
          "output_type": "stream",
          "name": "stdout",
          "text": [
            "20040 is bigger\n"
          ]
        }
      ]
    },
    {
      "cell_type": "code",
      "source": [
        "#largest of 3 numbers\n",
        "a,b,c = 4300, 20040,900000\n",
        "\n",
        "if a>b and a>c:\n",
        "  print(f\"{a} is bigger\")\n",
        "elif b>c:\n",
        "  print(f\"{b} is bigger\")\n",
        "else:\n",
        "  print(f\"{c} is bigger\")"
      ],
      "metadata": {
        "colab": {
          "base_uri": "https://localhost:8080/"
        },
        "id": "Ob0qPEXh2T2C",
        "outputId": "bfd7c56b-fc27-4db3-91d3-88fd519a878a"
      },
      "execution_count": null,
      "outputs": [
        {
          "output_type": "stream",
          "name": "stdout",
          "text": [
            "900000 is bigger\n"
          ]
        }
      ]
    },
    {
      "cell_type": "markdown",
      "source": [
        "# Program using if and logical operators\n",
        "'''\n",
        "# A company gives insurance to its drivers in the following conditions,\n",
        "\n",
        "- Driver is married.\n",
        "- Driver is an unmarried male above 30 years of age.\n",
        "- Driver is an unmarried female above 25 years of age.\n",
        "\n",
        "In all the above cases display s message ‘Driver is insured’.\n",
        "In all other conditions display ‘Driver is not insured’.\n",
        "\n",
        "Sample Output:\n",
        "\n",
        "Driver is married/unmarried [m/u]? u\n",
        "Male/Female [m/f]? m\n",
        "Age: 24\n",
        "Driver is not insured\n",
        "'''\n",
        "\n",
        "ms,gender,age = input('Enter ms[m/u],gender[m/f],age of the driver: ').split()"
      ],
      "metadata": {
        "id": "QG-24Vum28Bj"
      }
    },
    {
      "cell_type": "code",
      "source": [
        "ms,gender,age = input('Enter marital status (m/u),gender(m/f) and age: ').split(',')\n",
        "if ms == \"m\":\n",
        "  print(\"Driver is insured\")\n",
        "elif int(age) > 30 or (gender == \"f\" and int(age) > 25):\n",
        "  print(\"Driver is insured\")\n",
        "else:\n",
        "  print(\"Driver not insured\")"
      ],
      "metadata": {
        "colab": {
          "base_uri": "https://localhost:8080/"
        },
        "id": "v8zxiX2X2_YV",
        "outputId": "1ab44daf-9b08-49c9-9d97-7b90fd7cc6ff"
      },
      "execution_count": null,
      "outputs": [
        {
          "output_type": "stream",
          "name": "stdout",
          "text": [
            "Enter marital status (m/u),gender(m/f) and age: u,f,70\n",
            "Driver is insured\n"
          ]
        }
      ]
    },
    {
      "cell_type": "markdown",
      "source": [
        "**Catching Exception**\n",
        "- If you don't know what exact errors can occur, use Exception class and instantiate it and use that to display the system error message\n",
        "- if you know the error(e.g. ValueError or OSError or NameError), find out the class of error and then you can instatiate specific class and display that message. You can also display a friendly message based on the class of error\n",
        "- You can include multiple error classes within () into a single statement\n",
        "- When exception occurs, program will execute the 'except' block and not continue with the execution of remaining part of the code\n",
        "- In scenarios where we need to do some things even after an exception i.e. closing files or closing DB connection, use the 'finally' block"
      ],
      "metadata": {
        "id": "aJ6rcYeM6gsT"
      }
    },
    {
      "cell_type": "code",
      "source": [
        "try:\n",
        "  a = int(input('Enter first number: '))\n",
        "  b = int(input('Enter another number: '))\n",
        "  c = a/b\n",
        "  print(\"division output: \", c)\n",
        "except Exception as e:\n",
        "  print(\"There's been an error! \", e)"
      ],
      "metadata": {
        "colab": {
          "base_uri": "https://localhost:8080/"
        },
        "id": "JlxVoifA6gD-",
        "outputId": "fc94a3ef-9eba-444c-a444-6ec603415129"
      },
      "execution_count": null,
      "outputs": [
        {
          "output_type": "stream",
          "name": "stdout",
          "text": [
            "Enter first number: th\n",
            "There's been an error!  invalid literal for int() with base 10: 'th'\n"
          ]
        }
      ]
    },
    {
      "cell_type": "code",
      "source": [
        "try:\n",
        "  a = int(input('Enter first number: '))\n",
        "  b = int(input('Enter another number: '))\n",
        "  c = a/b\n",
        "  print(\"division output: \", c)\n",
        "except ValueError as ve:\n",
        "  print(\"There's a value error \", ve)\n",
        "except Exception as e:\n",
        "  print(\"There's been an error! \", e)\n",
        "except (OSError,NameError):\n",
        "  print(\"There are many errors\")"
      ],
      "metadata": {
        "colab": {
          "base_uri": "https://localhost:8080/"
        },
        "id": "Kn3HNN4B8ap6",
        "outputId": "4b382278-d313-4720-e4fb-df572764cacb"
      },
      "execution_count": null,
      "outputs": [
        {
          "output_type": "stream",
          "name": "stdout",
          "text": [
            "Enter first number: 0\n",
            "Enter another number: 0\n",
            "There's been an error!  division by zero\n"
          ]
        }
      ]
    },
    {
      "cell_type": "code",
      "source": [
        "#simulating oserror and using finally block\n",
        "import os\n",
        "\n",
        "try:\n",
        "  open(\"database.sqlite\")\n",
        "except Exception as e:\n",
        "  print(\"Error \", e)\n",
        "except OSError:\n",
        "  print('Error')\n",
        "  raise RuntimeError(\"unable to handle\")\n",
        "\n",
        "finally:\n",
        "  print(\"Database is closed\")"
      ],
      "metadata": {
        "colab": {
          "base_uri": "https://localhost:8080/"
        },
        "id": "BOxHCl5aApFB",
        "outputId": "9e6bb155-0887-435d-b226-eae47f8c0144"
      },
      "execution_count": null,
      "outputs": [
        {
          "output_type": "stream",
          "name": "stdout",
          "text": [
            "Error  [Errno 2] No such file or directory: 'database.sqlite'\n",
            "Database is closed\n"
          ]
        }
      ]
    },
    {
      "cell_type": "markdown",
      "source": [
        "for i in range/sequence\n",
        " - i is membership operator\n",
        " - range is a function, by default increments in steps of 1 but you can mention the step to increment by any other\n",
        " - string or list or any other collection\n",
        "\n",
        " for loop never goes into infinitte loop as it always iterates over something which is finite\n",
        "\n",
        " - Range can be used to create a list of numbers\n",
        "\n",
        " - You can also have an 'else' block even for For loop. This is to execute only if all the iterations of For loops are completed properly. i.e. if there is a break statement, then the block in else won't execute.\n",
        " Also, if you use continue instead of break, then else block will always execute unless there was an error in the loop\n",
        "\n",
        " - Pass is do-nothing, like a placeholder before we can elaborate actual steps. Loop executes as many iterations are listed, doesn't skip or break\n"
      ],
      "metadata": {
        "id": "0EwPe06YBxba"
      }
    },
    {
      "cell_type": "code",
      "source": [
        "# display each character of the country name\n",
        "country = \"Czechoslovakia\"\n",
        "for i in country:\n",
        "  print(i, end=\" \")"
      ],
      "metadata": {
        "colab": {
          "base_uri": "https://localhost:8080/"
        },
        "id": "nU6GXKy5Bss9",
        "outputId": "b8f50186-c0db-41d3-c42b-ce8b781545ec"
      },
      "execution_count": null,
      "outputs": [
        {
          "output_type": "stream",
          "name": "stdout",
          "text": [
            "C z e c h o s l o v a k i a "
          ]
        }
      ]
    },
    {
      "cell_type": "code",
      "source": [
        "# count occurance of characters a,b,c\n",
        "count = 0\n",
        "for i in country:\n",
        "  if i in ['a','b','c']:    #ignores capital c\n",
        "    count+=1\n",
        "\n",
        "print(count)"
      ],
      "metadata": {
        "colab": {
          "base_uri": "https://localhost:8080/"
        },
        "id": "TIKtOXHwChar",
        "outputId": "34491425-677d-455e-b06f-148c04d18868"
      },
      "execution_count": null,
      "outputs": [
        {
          "output_type": "stream",
          "name": "stdout",
          "text": [
            "3\n"
          ]
        }
      ]
    },
    {
      "cell_type": "code",
      "source": [
        "#display list elements\n",
        "colorlist= ['red','blue','purple','indigo','orange']\n",
        "for i in colorlist:\n",
        "  print(i)"
      ],
      "metadata": {
        "colab": {
          "base_uri": "https://localhost:8080/"
        },
        "id": "MlsxhF6TDE05",
        "outputId": "2bb67cf7-814d-404c-d4c6-d60298cae63d"
      },
      "execution_count": null,
      "outputs": [
        {
          "output_type": "stream",
          "name": "stdout",
          "text": [
            "red\n",
            "blue\n",
            "purple\n",
            "indigo\n",
            "orange\n"
          ]
        }
      ]
    },
    {
      "cell_type": "markdown",
      "source": [],
      "metadata": {
        "id": "M7DsAiHADdsv"
      }
    },
    {
      "cell_type": "code",
      "source": [
        "print(range(10))"
      ],
      "metadata": {
        "colab": {
          "base_uri": "https://localhost:8080/"
        },
        "id": "k4egHmF0DqGp",
        "outputId": "ed66cf8e-245c-4a00-8b8e-30974763d487"
      },
      "execution_count": null,
      "outputs": [
        {
          "output_type": "stream",
          "name": "stdout",
          "text": [
            "range(0, 10)\n"
          ]
        }
      ]
    },
    {
      "cell_type": "code",
      "source": [
        "print(list(range(10)))"
      ],
      "metadata": {
        "colab": {
          "base_uri": "https://localhost:8080/"
        },
        "id": "w7DZZr-SDt_k",
        "outputId": "bfaa35de-883c-464f-f36e-e5dff9fdcc30"
      },
      "execution_count": null,
      "outputs": [
        {
          "output_type": "stream",
          "name": "stdout",
          "text": [
            "[0, 1, 2, 3, 4, 5, 6, 7, 8, 9]\n"
          ]
        }
      ]
    },
    {
      "cell_type": "code",
      "source": [
        "#Print numbers from 0 to 9\n",
        "for i in range(10):\n",
        "  print(i, end=\" \")\n",
        "print(\"\\n\")\n",
        "\n",
        "#Print numbers between 50 and 70 in steps of 2\n",
        "for i in range(50,61,2):\n",
        "  print(i, end=\" \")\n",
        "print(\"\\n\")\n",
        "\n",
        "#Print from 10 to 1\n",
        "for i in range(10, 0, -1):\n",
        "  print(i, end=\" \")\n",
        "print(\"\\n\")\n",
        "\n",
        "#Print from 10 to 0\n",
        "for i in range(10,-1,-1):\n",
        "  print(i, end=\" \")"
      ],
      "metadata": {
        "colab": {
          "base_uri": "https://localhost:8080/"
        },
        "id": "WkukCUT0EIik",
        "outputId": "e32df787-cb88-4cb4-8480-a8fd344005d6"
      },
      "execution_count": null,
      "outputs": [
        {
          "output_type": "stream",
          "name": "stdout",
          "text": [
            "0 1 2 3 4 5 6 7 8 9 \n",
            "\n",
            "50 52 54 56 58 60 \n",
            "\n",
            "10 9 8 7 6 5 4 3 2 1 \n",
            "\n",
            "10 9 8 7 6 5 4 3 2 1 0 "
          ]
        }
      ]
    },
    {
      "cell_type": "markdown",
      "source": [
        "# Enter a 3-digit number\n",
        "# find if the entered number is an armstrong number\n",
        "# Examples of three-digit Armstrong numbers: 153, 370, 371, 407\n",
        "# Examples of four-digit Armstrong numbers: 1634, 8208, 9474\n",
        "\n",
        "# Sample output:\n",
        "# Enter a 3-digit number: 153\n",
        "# 153 is an armstrong number!\n",
        "\n",
        "# digits = 3\n",
        "# 153 = 1^3 + 5^3 + 3^3 = 153"
      ],
      "metadata": {
        "id": "7RA2ozQiFMzl"
      }
    },
    {
      "cell_type": "markdown",
      "source": [],
      "metadata": {
        "id": "RD8UYxnBFO_T"
      }
    },
    {
      "cell_type": "code",
      "source": [
        "import math\n",
        "\n",
        "num = int(input('Enter a 3 digit number:'))\n",
        "length = len(str(num))\n",
        "total = 0\n",
        "\n",
        "if length != 3:\n",
        "  input('Enter a 3 digit number')\n",
        "else:\n",
        "  for digit in str(num):\n",
        "    total+= math.pow(int(digit),length)  #change string to int. also - alternatively d ** length\n",
        "  else:\n",
        "    if total == num:\n",
        "      print(\"It is an Armstrong number: \", total)\n",
        "    else:\n",
        "      print(\"It is not an Armstrong number\")\n"
      ],
      "metadata": {
        "colab": {
          "base_uri": "https://localhost:8080/"
        },
        "id": "fOVSu3YqFPzP",
        "outputId": "d7e201a1-590f-4a57-b9cd-926a27b0a6a8"
      },
      "execution_count": null,
      "outputs": [
        {
          "name": "stdout",
          "output_type": "stream",
          "text": [
            "Enter a 3 digit number:90909\n",
            "Enter a 3 digit number777\n"
          ]
        }
      ]
    },
    {
      "cell_type": "code",
      "source": [
        "#Enter 5 numbers, display its square\n",
        "#stop if entered number is 100\n",
        "#If loop is not executed for the iterations mentioned with range, then the else block wont execute\n",
        "\n",
        "for i in range(5):\n",
        "  num = int(input('Input a number: '))\n",
        "  if num == 100:\n",
        "    break\n",
        "  print(f\"{num} | {num ** 2}\")\n",
        "else:\n",
        "  print('All good')"
      ],
      "metadata": {
        "colab": {
          "base_uri": "https://localhost:8080/"
        },
        "id": "5EHi_g9-H6mI",
        "outputId": "125eac64-88c1-4468-ba75-820cce3e2fb1"
      },
      "execution_count": null,
      "outputs": [
        {
          "name": "stdout",
          "output_type": "stream",
          "text": [
            "Input a number: 88\n",
            "88 | 7744\n",
            "Input a number: 2\n",
            "2 | 4\n",
            "Input a number: 3\n",
            "3 | 9\n",
            "Input a number: 3\n",
            "3 | 9\n",
            "Input a number: 100\n"
          ]
        }
      ]
    },
    {
      "cell_type": "code",
      "source": [
        "#enter 5 numbers display its square. for 100 do not display the square\n",
        "#when you use continue, it puts the control back to the beginning of the For statement\n",
        "# When we use continue, the else block will always display\n",
        "\n",
        "for i in range(5):\n",
        "  num = int(input('Input a number: '))\n",
        "  if num == 100:\n",
        "    continue\n",
        "    print(\"after continue\")   #this will never be executed as control passes to start of the loop\n",
        "  print(f\"{num} | {num ** 2}\")\n",
        "else:\n",
        "  print('All good')       #this will always execute"
      ],
      "metadata": {
        "colab": {
          "base_uri": "https://localhost:8080/"
        },
        "id": "bu2UYdAtKla3",
        "outputId": "3cf09617-4d48-435e-fcc4-ab4c36ed05f8"
      },
      "execution_count": null,
      "outputs": [
        {
          "output_type": "stream",
          "name": "stdout",
          "text": [
            "Input a number: 100\n",
            "Input a number: 100\n",
            "Input a number: 100\n",
            "Input a number: 100\n",
            "Input a number: 100\n",
            "All good\n"
          ]
        }
      ]
    },
    {
      "cell_type": "code",
      "source": [],
      "metadata": {
        "id": "12JFXTOtM7Y1"
      },
      "execution_count": null,
      "outputs": []
    },
    {
      "cell_type": "markdown",
      "source": [
        "\n",
        "**While Loop**\n",
        "\n",
        "while condition:\n",
        "  statements"
      ],
      "metadata": {
        "id": "hMRcIFlzM6_D"
      }
    },
    {
      "cell_type": "code",
      "source": [
        "#Print numbers\n",
        "i = 1\n",
        "while i<11:\n",
        "  print(i, end=\" \")\n",
        "  i+=1"
      ],
      "metadata": {
        "colab": {
          "base_uri": "https://localhost:8080/"
        },
        "id": "lcK-PBhGNkpa",
        "outputId": "dbed6af4-ecca-4687-c332-1c4db0446ab3"
      },
      "execution_count": null,
      "outputs": [
        {
          "output_type": "stream",
          "name": "stdout",
          "text": [
            "1 2 3 4 5 6 7 8 9 10 "
          ]
        }
      ]
    },
    {
      "cell_type": "code",
      "source": [
        "#Print in reverse\n",
        "i = 10\n",
        "while i>=1:\n",
        "  print(i , end=\" \")\n",
        "  i -= 2"
      ],
      "metadata": {
        "colab": {
          "base_uri": "https://localhost:8080/"
        },
        "id": "LyegLo5gN5rl",
        "outputId": "c0585fa4-61af-4aa1-9204-dfab4e7b8725"
      },
      "execution_count": null,
      "outputs": [
        {
          "output_type": "stream",
          "name": "stdout",
          "text": [
            "10 8 6 4 2 "
          ]
        }
      ]
    },
    {
      "cell_type": "code",
      "source": [
        "#Factorial of a number\n",
        "\n",
        "num = int(input('Enter a number'))\n",
        "fact = 1\n",
        "\n",
        "while num >= 1:\n",
        "  fact*=num\n",
        "  num -=1\n",
        "else:\n",
        "  print(\"in else blcok\")\n",
        "  print(f\"Factorial : {fact}\")"
      ],
      "metadata": {
        "colab": {
          "base_uri": "https://localhost:8080/"
        },
        "id": "5tnryAHxOJdf",
        "outputId": "2a3bfe44-1829-4a4d-99c7-11377aa48942"
      },
      "execution_count": null,
      "outputs": [
        {
          "output_type": "stream",
          "name": "stdout",
          "text": [
            "Enter a number5\n",
            "in else blcok\n",
            "Factorial : 120\n"
          ]
        }
      ]
    },
    {
      "cell_type": "code",
      "source": [
        "#accept a number and find if it is a palindrome\n",
        "num = int(input('Enter a number(0 to exit): '))\n",
        "\n",
        "while True:\n",
        "  num = int(input('Enter a number(0 to exit): '))\n",
        "  snum = str(num)\n",
        "  if num == 0:\n",
        "    break\n",
        "  elif str(num) == snum[::-1]:\n",
        "    print(f\"It is a palindrome\")\n",
        "  else:\n",
        "    print(f\"It is not a palindrome\")"
      ],
      "metadata": {
        "colab": {
          "base_uri": "https://localhost:8080/"
        },
        "id": "JYh75mpQO12s",
        "outputId": "b474a64d-5092-4003-dda2-1f640fcc27d7"
      },
      "execution_count": null,
      "outputs": [
        {
          "name": "stdout",
          "output_type": "stream",
          "text": [
            "Enter a number(0 to exit): 8\n",
            "Enter a number(0 to exit): 7898\n",
            "It is not a palindrome\n",
            "Enter a number(0 to exit): 888\n",
            "It is a palindrome\n",
            "Enter a number(0 to exit): 0\n"
          ]
        }
      ]
    },
    {
      "cell_type": "code",
      "source": [
        "#force user to enter a positive number of age\n",
        "while True:\n",
        "  try:\n",
        "    age = int(input('Enter a number: '))   # If you enter a string, int conversion wont happen and it goes to Except block\n",
        "    if age <= 0 :      # second condition is for checking float number\n",
        "      raise ValueError\n",
        "      break\n",
        "\n",
        "  except ValueError:\n",
        "    print(f'{age} is invalid.')"
      ],
      "metadata": {
        "colab": {
          "base_uri": "https://localhost:8080/",
          "height": 443
        },
        "id": "iHFzukVuQbOt",
        "outputId": "f41dac6b-2ce4-4f7a-d988-b1b8a3ea9e38"
      },
      "execution_count": null,
      "outputs": [
        {
          "output_type": "stream",
          "name": "stdout",
          "text": [
            "Enter a number: 0\n",
            "0 is invalid.\n",
            "Enter a number: 90\n",
            "Enter a number: str\n",
            "90 is invalid.\n"
          ]
        },
        {
          "output_type": "error",
          "ename": "KeyboardInterrupt",
          "evalue": "Interrupted by user",
          "traceback": [
            "\u001b[0;31m---------------------------------------------------------------------------\u001b[0m",
            "\u001b[0;31mKeyboardInterrupt\u001b[0m                         Traceback (most recent call last)",
            "\u001b[0;32m<ipython-input-86-50a196bacfd0>\u001b[0m in \u001b[0;36m<cell line: 2>\u001b[0;34m()\u001b[0m\n\u001b[1;32m      2\u001b[0m \u001b[0;32mwhile\u001b[0m \u001b[0;32mTrue\u001b[0m\u001b[0;34m:\u001b[0m\u001b[0;34m\u001b[0m\u001b[0;34m\u001b[0m\u001b[0m\n\u001b[1;32m      3\u001b[0m   \u001b[0;32mtry\u001b[0m\u001b[0;34m:\u001b[0m\u001b[0;34m\u001b[0m\u001b[0;34m\u001b[0m\u001b[0m\n\u001b[0;32m----> 4\u001b[0;31m     \u001b[0mage\u001b[0m \u001b[0;34m=\u001b[0m \u001b[0mint\u001b[0m\u001b[0;34m(\u001b[0m\u001b[0minput\u001b[0m\u001b[0;34m(\u001b[0m\u001b[0;34m'Enter a number: '\u001b[0m\u001b[0;34m)\u001b[0m\u001b[0;34m)\u001b[0m  \u001b[0;31m# If you enter a string, int conversion wont happen and it goes to Except block\u001b[0m\u001b[0;34m\u001b[0m\u001b[0;34m\u001b[0m\u001b[0m\n\u001b[0m\u001b[1;32m      5\u001b[0m     \u001b[0;32mif\u001b[0m \u001b[0mage\u001b[0m \u001b[0;34m<=\u001b[0m \u001b[0;36m0\u001b[0m \u001b[0;34m:\u001b[0m      \u001b[0;31m# second condition is for checking float number\u001b[0m\u001b[0;34m\u001b[0m\u001b[0;34m\u001b[0m\u001b[0m\n\u001b[1;32m      6\u001b[0m       \u001b[0;32mraise\u001b[0m \u001b[0mValueError\u001b[0m\u001b[0;34m\u001b[0m\u001b[0;34m\u001b[0m\u001b[0m\n",
            "\u001b[0;32m/usr/local/lib/python3.10/dist-packages/ipykernel/kernelbase.py\u001b[0m in \u001b[0;36mraw_input\u001b[0;34m(self, prompt)\u001b[0m\n\u001b[1;32m    849\u001b[0m                 \u001b[0;34m\"raw_input was called, but this frontend does not support input requests.\"\u001b[0m\u001b[0;34m\u001b[0m\u001b[0;34m\u001b[0m\u001b[0m\n\u001b[1;32m    850\u001b[0m             )\n\u001b[0;32m--> 851\u001b[0;31m         return self._input_request(str(prompt),\n\u001b[0m\u001b[1;32m    852\u001b[0m             \u001b[0mself\u001b[0m\u001b[0;34m.\u001b[0m\u001b[0m_parent_ident\u001b[0m\u001b[0;34m,\u001b[0m\u001b[0;34m\u001b[0m\u001b[0;34m\u001b[0m\u001b[0m\n\u001b[1;32m    853\u001b[0m             \u001b[0mself\u001b[0m\u001b[0;34m.\u001b[0m\u001b[0m_parent_header\u001b[0m\u001b[0;34m,\u001b[0m\u001b[0;34m\u001b[0m\u001b[0;34m\u001b[0m\u001b[0m\n",
            "\u001b[0;32m/usr/local/lib/python3.10/dist-packages/ipykernel/kernelbase.py\u001b[0m in \u001b[0;36m_input_request\u001b[0;34m(self, prompt, ident, parent, password)\u001b[0m\n\u001b[1;32m    893\u001b[0m             \u001b[0;32mexcept\u001b[0m \u001b[0mKeyboardInterrupt\u001b[0m\u001b[0;34m:\u001b[0m\u001b[0;34m\u001b[0m\u001b[0;34m\u001b[0m\u001b[0m\n\u001b[1;32m    894\u001b[0m                 \u001b[0;31m# re-raise KeyboardInterrupt, to truncate traceback\u001b[0m\u001b[0;34m\u001b[0m\u001b[0;34m\u001b[0m\u001b[0m\n\u001b[0;32m--> 895\u001b[0;31m                 \u001b[0;32mraise\u001b[0m \u001b[0mKeyboardInterrupt\u001b[0m\u001b[0;34m(\u001b[0m\u001b[0;34m\"Interrupted by user\"\u001b[0m\u001b[0;34m)\u001b[0m \u001b[0;32mfrom\u001b[0m \u001b[0;32mNone\u001b[0m\u001b[0;34m\u001b[0m\u001b[0;34m\u001b[0m\u001b[0m\n\u001b[0m\u001b[1;32m    896\u001b[0m             \u001b[0;32mexcept\u001b[0m \u001b[0mException\u001b[0m \u001b[0;32mas\u001b[0m \u001b[0me\u001b[0m\u001b[0;34m:\u001b[0m\u001b[0;34m\u001b[0m\u001b[0;34m\u001b[0m\u001b[0m\n\u001b[1;32m    897\u001b[0m                 \u001b[0mself\u001b[0m\u001b[0;34m.\u001b[0m\u001b[0mlog\u001b[0m\u001b[0;34m.\u001b[0m\u001b[0mwarning\u001b[0m\u001b[0;34m(\u001b[0m\u001b[0;34m\"Invalid Message:\"\u001b[0m\u001b[0;34m,\u001b[0m \u001b[0mexc_info\u001b[0m\u001b[0;34m=\u001b[0m\u001b[0;32mTrue\u001b[0m\u001b[0;34m)\u001b[0m\u001b[0;34m\u001b[0m\u001b[0;34m\u001b[0m\u001b[0m\n",
            "\u001b[0;31mKeyboardInterrupt\u001b[0m: Interrupted by user"
          ]
        }
      ]
    },
    {
      "cell_type": "markdown",
      "source": [],
      "metadata": {
        "id": "SQnUesA0Q8Wb"
      }
    }
  ]
}