{
 "cells": [
  {
   "cell_type": "markdown",
   "metadata": {},
   "source": [
    "Write a set of functions so that a programmer who needs an odometer, with\n",
    "the above characteristics, can use those functions to implement the same.\n",
    "At the minimum, the following functions need to be written:\n",
    "\n",
    "• next reading() to find the next reading for a given reading. Should\n",
    "return 2468 for 2467 and 2567 for 2489.\n",
    "\n",
    "• prev reading() to find the previous reading for a given reading.\n",
    "Should return 328 for 329 and 239 for 345.\n",
    "\n",
    "• nth reading after() Instead of the next reading, return the reading\n",
    "that occurs after n rotations. The next reading can be thought of as\n",
    " - a special case: n = 1\n",
    " \n",
    "• nth reading before() Similar to above."
   ]
  },
  {
   "cell_type": "code",
   "execution_count": 3,
   "metadata": {},
   "outputs": [
    {
     "data": {
      "text/plain": [
       "[0, 1, 2, 3, 4, 5, 6, 7, 8, 9]"
      ]
     },
     "execution_count": 3,
     "metadata": {},
     "output_type": "execute_result"
    }
   ],
   "source": [
    "digits =  list(range(10))\n",
    "digits"
   ]
  },
  {
   "cell_type": "code",
   "execution_count": 48,
   "metadata": {},
   "outputs": [],
   "source": [
    "def next_reading(curRead, digits) -> int:\n",
    "\n",
    "    curRead = nextReading = list(str(curRead))\n",
    "    if int(curRead[-1]) < digits[-1] :\n",
    "        nextReading[-1] = digits[int(curRead[-1]) + 1]\n",
    "    else:\n",
    "        nextReading[-2] = digits[int(curRead[-2]) + 1]\n",
    "        nextReading[-1] = digits[int(nextReading[-2]) + 1]    \n",
    "    return str(nextReading)"
   ]
  },
  {
   "cell_type": "code",
   "execution_count": 69,
   "metadata": {},
   "outputs": [
    {
     "data": {
      "text/plain": [
       "\"['2', 5]\""
      ]
     },
     "execution_count": 69,
     "metadata": {},
     "output_type": "execute_result"
    }
   ],
   "source": [
    "next_reading(24,digits)"
   ]
  },
  {
   "cell_type": "code",
   "execution_count": 22,
   "metadata": {},
   "outputs": [
    {
     "data": {
      "text/plain": [
       "'e'"
      ]
     },
     "execution_count": 22,
     "metadata": {},
     "output_type": "execute_result"
    }
   ],
   "source": [
    "s = \"tree\"\n",
    "s[-1]"
   ]
  },
  {
   "cell_type": "code",
   "execution_count": 60,
   "metadata": {},
   "outputs": [
    {
     "name": "stdout",
     "output_type": "stream",
     "text": [
      "<zip object at 0x000001FA802F7300>\n"
     ]
    }
   ],
   "source": [
    "s=\"tree\"\n",
    "a = zip(s,s[1:])\n",
    "print(str(a))"
   ]
  },
  {
   "cell_type": "markdown",
   "metadata": {},
   "source": [
    "# Shifu's code"
   ]
  },
  {
   "cell_type": "code",
   "execution_count": 66,
   "metadata": {},
   "outputs": [],
   "source": [
    "def is_ascending(n: int) -> bool:\n",
    "    s = str(n)          \n",
    "    return all(a<b for a,b in zip(s,s[1:]))     #this essentially takes care of 0 and duplicates "
   ]
  },
  {
   "cell_type": "code",
   "execution_count": 67,
   "metadata": {},
   "outputs": [
    {
     "data": {
      "text/plain": [
       "False"
      ]
     },
     "execution_count": 67,
     "metadata": {},
     "output_type": "execute_result"
    }
   ],
   "source": [
    "is_ascending(76)"
   ]
  },
  {
   "cell_type": "code",
   "execution_count": 71,
   "metadata": {},
   "outputs": [],
   "source": [
    "def limit(reading: int) -> tuple[int,int]:\n",
    "    DIGIT = '123456789'\n",
    "    size = len(str(reading))\n",
    "    return int(DIGIT[size]),int(DIGIT[-size:])"
   ]
  },
  {
   "cell_type": "code",
   "execution_count": 72,
   "metadata": {},
   "outputs": [],
   "source": [
    "def forward(reading: int, steps=1) -> int:\n",
    "    lo,hi = limit(reading)\n",
    "    for _ in range(steps):\n",
    "        if reading == hi:\n",
    "            reading == lo\n",
    "        else:\n",
    "            reading += 1\n",
    "            while not is_ascending(reading):    #keep increasing until the digits are ascending\n",
    "                reading += 1\n",
    "    return reading\n"
   ]
  },
  {
   "cell_type": "code",
   "execution_count": 76,
   "metadata": {},
   "outputs": [],
   "source": [
    "def backward(reading: int, steps=1) -> int:\n",
    "    lo,hi = limit(reading)\n",
    "    for _ in range(steps):\n",
    "        if reading == lo:\n",
    "            reading = hi\n",
    "        else:\n",
    "            reading -= 1\n",
    "            while not is_ascending(reading):    #keep decresing until the digits are ascending\n",
    "                reading -= 1\n",
    "    return reading"
   ]
  },
  {
   "cell_type": "code",
   "execution_count": 77,
   "metadata": {},
   "outputs": [
    {
     "data": {
      "text/plain": [
       "689"
      ]
     },
     "execution_count": 77,
     "metadata": {},
     "output_type": "execute_result"
    }
   ],
   "source": [
    "backward(789)"
   ]
  },
  {
   "cell_type": "code",
   "execution_count": 79,
   "metadata": {},
   "outputs": [
    {
     "data": {
      "text/plain": [
       "45"
      ]
     },
     "execution_count": 79,
     "metadata": {},
     "output_type": "execute_result"
    }
   ],
   "source": [
    "forward(39)"
   ]
  },
  {
   "cell_type": "code",
   "execution_count": 78,
   "metadata": {},
   "outputs": [],
   "source": [
    "def distance(a_reading: int, b_reading: int) -> int:\n",
    "    if len(str(a_reading)) != len(str(b_reading)):\n",
    "        return -1\n",
    "    diff = 0\n",
    "    while a_reading != b_reading:\n",
    "        a_reading = forward(a_reading)\n",
    "        diff += 1\n",
    "    return diff\n"
   ]
  },
  {
   "cell_type": "code",
   "execution_count": 120,
   "metadata": {},
   "outputs": [],
   "source": [
    "class Odometer:\n",
    "    def __init__(self, size: int):\n",
    "        DIGIT = \"123456789\"\n",
    "        self.size = size\n",
    "        self.hi = int(DIGIT[-size:])       #self.hi is a local variable  \n",
    "        self.lo = int(DIGIT[:size])         \n",
    "        self.reading = self.lo\n",
    "    \n",
    "    def __str__(self)->int:                #adding this ensure that whats displayed when we print the object is what's returned from here\n",
    "        return str(self.reading)\n",
    "      \n",
    "    def __repr(self):                      #representation to be displayed when we inspect the object\n",
    "        return f'{self.lo} << {self.reading} << {self.hi}'"
   ]
  },
  {
   "cell_type": "code",
   "execution_count": 114,
   "metadata": {},
   "outputs": [
    {
     "data": {
      "text/plain": [
       "<__main__.Odometer at 0x1fa80256810>"
      ]
     },
     "execution_count": 114,
     "metadata": {},
     "output_type": "execute_result"
    }
   ],
   "source": [
    "p = Odometer(4)     #this is the constructor which calls the initializer\n",
    "p                   "
   ]
  },
  {
   "cell_type": "code",
   "execution_count": 115,
   "metadata": {},
   "outputs": [
    {
     "name": "stdout",
     "output_type": "stream",
     "text": [
      "1234\n"
     ]
    }
   ],
   "source": [
    "print(p)"
   ]
  },
  {
   "cell_type": "code",
   "execution_count": 119,
   "metadata": {},
   "outputs": [
    {
     "data": {
      "text/plain": [
       "<__main__.Odometer at 0x1fa8029ce10>"
      ]
     },
     "execution_count": 119,
     "metadata": {},
     "output_type": "execute_result"
    }
   ],
   "source": [
    "q = Odometer(3)\n",
    "q"
   ]
  }
 ],
 "metadata": {
  "kernelspec": {
   "display_name": "Python 3",
   "language": "python",
   "name": "python3"
  },
  "language_info": {
   "codemirror_mode": {
    "name": "ipython",
    "version": 3
   },
   "file_extension": ".py",
   "mimetype": "text/x-python",
   "name": "python",
   "nbconvert_exporter": "python",
   "pygments_lexer": "ipython3",
   "version": "3.11.3"
  }
 },
 "nbformat": 4,
 "nbformat_minor": 2
}
