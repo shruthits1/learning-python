{
 "cells": [
  {
   "cell_type": "markdown",
   "metadata": {},
   "source": [
    "Write a program to calculate the electricity bill according to the following criteria:\n",
    "(accept number of unit from user)\n",
    "\n",
    "\n",
    "|Unit\t\t    | Price|\n",
    "|First 100 units\t| no charge|\n",
    "|Next 100 units\t| 5Rs per unit|\n",
    "|After 200 units\t| 10Rs per unit|\n",
    "\n",
    "[For example: if input is 350 than total bill amount is 2000)\n",
    "210 units | 100*5 | 10*10 | 500+100=600"
   ]
  },
  {
   "cell_type": "code",
   "execution_count": 2,
   "metadata": {},
   "outputs": [
    {
     "name": "stdout",
     "output_type": "stream",
     "text": [
      "200 <class 'int'>\n",
      "Price is: 500\n"
     ]
    }
   ],
   "source": [
    "units = int(input('Enter the units consumed'))\n",
    "\n",
    "print(units, type(units))\n",
    "\n",
    "\n",
    "rem = units-100\n",
    "\n",
    "if units < 100:\n",
    "    print('No charge')\n",
    "elif units <= 200:\n",
    "    print('Price is:', (units-100)*5)\n",
    "else:\n",
    "    print('Proce is:', 100*5 + (units-200)*10)\n",
    "\n",
    "\n"
   ]
  }
 ],
 "metadata": {
  "kernelspec": {
   "display_name": "Python 3",
   "language": "python",
   "name": "python3"
  },
  "language_info": {
   "codemirror_mode": {
    "name": "ipython",
    "version": 3
   },
   "file_extension": ".py",
   "mimetype": "text/x-python",
   "name": "python",
   "nbconvert_exporter": "python",
   "pygments_lexer": "ipython3",
   "version": "3.11.3"
  }
 },
 "nbformat": 4,
 "nbformat_minor": 2
}
