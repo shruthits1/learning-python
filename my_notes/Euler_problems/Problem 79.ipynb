{
 "cells": [
  {
   "cell_type": "code",
   "execution_count": 150,
   "metadata": {},
   "outputs": [],
   "source": [
    "with open('./keylog.txt', encoding=\"utf-8\") as f:\n",
    "    read_data = f.read()\n",
    "keylog = read_data.splitlines()"
   ]
  },
  {
   "cell_type": "code",
   "execution_count": 147,
   "metadata": {},
   "outputs": [],
   "source": [
    "def find_seq(keylog: list) -> dict:     #for each digit, find which numbers come after that i.e. this gives what this digit should always be before\n",
    "    keyOrder = {}\n",
    "    for key in keylog:   \n",
    "        initVal = keyOrder[key[0]] if key[0] in keyOrder.keys() else set()\n",
    "        initVal.add(key[1])\n",
    "        initVal.add(key[2])\n",
    "        keyOrder[key[0]] = initVal\n",
    "    return keyOrder"
   ]
  },
  {
   "cell_type": "code",
   "execution_count": 152,
   "metadata": {},
   "outputs": [],
   "source": [
    "def ordered_digits(keylog: list) -> int:\n",
    "    keySeq = find_seq(keylog)\n",
    "    output = \"\".join([k for k,v in sorted(keySeq.items(),key = lambda item: len(item[1]), reverse = True)])\n",
    "    return int(output)"
   ]
  },
  {
   "cell_type": "code",
   "execution_count": 153,
   "metadata": {},
   "outputs": [
    {
     "data": {
      "text/plain": [
       "731628"
      ]
     },
     "execution_count": 153,
     "metadata": {},
     "output_type": "execute_result"
    }
   ],
   "source": [
    "output = ordered_digits(keylog)\n",
    "output"
   ]
  }
 ],
 "metadata": {
  "kernelspec": {
   "display_name": "Python 3",
   "language": "python",
   "name": "python3"
  },
  "language_info": {
   "codemirror_mode": {
    "name": "ipython",
    "version": 3
   },
   "file_extension": ".py",
   "mimetype": "text/x-python",
   "name": "python",
   "nbconvert_exporter": "python",
   "pygments_lexer": "ipython3",
   "version": "3.11.3"
  }
 },
 "nbformat": 4,
 "nbformat_minor": 2
}
