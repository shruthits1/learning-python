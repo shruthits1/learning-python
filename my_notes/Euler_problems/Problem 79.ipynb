{
 "cells": [
  {
   "cell_type": "code",
   "execution_count": 150,
   "metadata": {},
   "outputs": [],
   "source": [
    "with open('./keylog.txt', encoding=\"utf-8\") as f:\n",
    "    read_data = f.read()\n",
    "keylog = read_data.splitlines()"
   ]
  },
  {
   "cell_type": "code",
   "execution_count": 147,
   "metadata": {},
   "outputs": [],
   "source": [
    "def find_seq(keylog: list) -> dict:     #for each digit, find which numbers come after that i.e. this gives what this digit should always be before\n",
    "    keyOrder = {}\n",
    "    for key in keylog:   \n",
    "        initVal = keyOrder[key[0]] if key[0] in keyOrder.keys() else set()\n",
    "        initVal.add(key[1])\n",
    "        initVal.add(key[2])\n",
    "        keyOrder[key[0]] = initVal\n",
    "    return keyOrder"
   ]
  },
  {
   "cell_type": "code",
   "execution_count": 152,
   "metadata": {},
   "outputs": [],
   "source": [
    "def ordered_digits(keylog: list) -> int:\n",
    "    keySeq = find_seq(keylog)\n",
    "    output = \"\".join([k for k,v in sorted(keySeq.items(),key = lambda item: len(item[1]), reverse = True)])\n",
    "    return int(output)"
   ]
  },
  {
   "cell_type": "code",
   "execution_count": 153,
   "metadata": {},
   "outputs": [
    {
     "data": {
      "text/plain": [
       "731628"
      ]
     },
     "execution_count": 153,
     "metadata": {},
     "output_type": "execute_result"
    }
   ],
   "source": [
    "output = ordered_digits(keylog)\n",
    "output"
   ]
  },
  {
   "cell_type": "markdown",
   "metadata": {},
   "source": [
    "# Shibu sir's solution"
   ]
  },
  {
   "cell_type": "code",
   "execution_count": 1,
   "metadata": {},
   "outputs": [],
   "source": [
    "keylog = [line.strip() for line in open(\"./keylog.txt\")]"
   ]
  },
  {
   "cell_type": "code",
   "execution_count": 2,
   "metadata": {},
   "outputs": [],
   "source": [
    "firsts = set([key[0] for key in keylog])"
   ]
  },
  {
   "cell_type": "code",
   "execution_count": 3,
   "metadata": {},
   "outputs": [
    {
     "name": "stdout",
     "output_type": "stream",
     "text": [
      "{'6', '7', '1', '2', '8', '3'}\n"
     ]
    }
   ],
   "source": [
    "print(firsts)"
   ]
  },
  {
   "cell_type": "code",
   "execution_count": 4,
   "metadata": {},
   "outputs": [],
   "source": [
    "seconds = set([key[1] for key in keylog])"
   ]
  },
  {
   "cell_type": "code",
   "execution_count": 5,
   "metadata": {},
   "outputs": [
    {
     "name": "stdout",
     "output_type": "stream",
     "text": [
      "{'6', '1', '2', '8', '9', '3'}\n"
     ]
    }
   ],
   "source": [
    "print(seconds)"
   ]
  },
  {
   "cell_type": "code",
   "execution_count": 6,
   "metadata": {},
   "outputs": [],
   "source": [
    "thirds = set([key[2] for key in keylog])"
   ]
  },
  {
   "cell_type": "code",
   "execution_count": 7,
   "metadata": {},
   "outputs": [
    {
     "data": {
      "text/plain": [
       "{'7'}"
      ]
     },
     "execution_count": 7,
     "metadata": {},
     "output_type": "execute_result"
    }
   ],
   "source": [
    "firsts - seconds - thirds"
   ]
  },
  {
   "cell_type": "code",
   "execution_count": 8,
   "metadata": {},
   "outputs": [
    {
     "data": {
      "text/plain": [
       "{'3'}"
      ]
     },
     "execution_count": 8,
     "metadata": {},
     "output_type": "execute_result"
    }
   ],
   "source": [
    "seconds - thirds"
   ]
  },
  {
   "cell_type": "code",
   "execution_count": 12,
   "metadata": {},
   "outputs": [
    {
     "name": "stdout",
     "output_type": "stream",
     "text": [
      "['0', '1', '2', '3', '6', '7', '8', '9']\n"
     ]
    }
   ],
   "source": [
    "uniques = firsts | seconds | thirds     #unions\n",
    "print(sorted(uniques))"
   ]
  },
  {
   "cell_type": "code",
   "execution_count": 13,
   "metadata": {},
   "outputs": [
    {
     "name": "stdout",
     "output_type": "stream",
     "text": [
      "{'0'}\n"
     ]
    }
   ],
   "source": [
    "only_thirds = thirds - seconds - firsts\n",
    "print(only_thirds)"
   ]
  },
  {
   "cell_type": "markdown",
   "metadata": {},
   "source": [
    "Answer lies in permutation of 6! which starts with '7' and ends with '0'\n",
    "\n",
    "validate this against the order in the keylog entries"
   ]
  },
  {
   "cell_type": "code",
   "execution_count": 15,
   "metadata": {},
   "outputs": [],
   "source": [
    "def occurs_in_order(haystack: str, needles: str) -> bool:\n",
    "    a = haystack.find(needles[0])\n",
    "    b = haystack.find(needles[1])\n",
    "    c = haystack.find(needles[2])\n",
    "    return a < b < c"
   ]
  },
  {
   "cell_type": "code",
   "execution_count": 22,
   "metadata": {},
   "outputs": [],
   "source": [
    "from itertools import permutations as nPr\n",
    "p = [ '7' + ''.join(_) + '0' for _ in nPr('1236789',6)]"
   ]
  }
 ],
 "metadata": {
  "kernelspec": {
   "display_name": "Python 3",
   "language": "python",
   "name": "python3"
  },
  "language_info": {
   "codemirror_mode": {
    "name": "ipython",
    "version": 3
   },
   "file_extension": ".py",
   "mimetype": "text/x-python",
   "name": "python",
   "nbconvert_exporter": "python",
   "pygments_lexer": "ipython3",
   "version": "3.11.3"
  }
 },
 "nbformat": 4,
 "nbformat_minor": 2
}
