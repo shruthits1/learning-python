{
 "cells": [
  {
   "cell_type": "code",
   "execution_count": 16,
   "metadata": {},
   "outputs": [],
   "source": [
    "words = ['past', 'cats', 'post','stop', 'junk', 'cast', 'plod', 'opts','caats','pool','loop' ]"
   ]
  },
  {
   "cell_type": "code",
   "execution_count": 3,
   "metadata": {},
   "outputs": [
    {
     "data": {
      "text/plain": [
       "['cats', 'cast', 'past', 'plod', 'junk', 'post', 'stop', 'opts']"
      ]
     },
     "execution_count": 3,
     "metadata": {},
     "output_type": "execute_result"
    }
   ],
   "source": [
    "sorted(words,key=sorted)"
   ]
  },
  {
   "cell_type": "code",
   "execution_count": 17,
   "metadata": {},
   "outputs": [
    {
     "name": "stdout",
     "output_type": "stream",
     "text": [
      "aacst ['caats']\n",
      "acst ['cats', 'cast']\n",
      "apst ['past']\n",
      "dlop ['plod']\n",
      "jknu ['junk']\n",
      "loop ['pool', 'loop']\n",
      "opst ['post', 'stop', 'opts']\n"
     ]
    }
   ],
   "source": [
    "import itertools\n",
    "for x in itertools.groupby(sorted(words,key=sorted), key=sorted):\n",
    "    print(''.join(x[0]), list(x[1]))"
   ]
  },
  {
   "cell_type": "code",
   "execution_count": 13,
   "metadata": {},
   "outputs": [
    {
     "name": "stdout",
     "output_type": "stream",
     "text": [
      "[(['a', 'c', 's', 't'], <itertools._grouper object at 0x000002BE14CB7CD0>), (['a', 'p', 's', 't'], <itertools._grouper object at 0x000002BE14CB7880>), (['d', 'l', 'o', 'p'], <itertools._grouper object at 0x000002BE14CB7940>), (['j', 'k', 'n', 'u'], <itertools._grouper object at 0x000002BE14CB7D00>), (['o', 'p', 's', 't'], <itertools._grouper object at 0x000002BE14CB42E0>)]\n"
     ]
    }
   ],
   "source": [
    "z = [itertools.groupby(sorted(words,key=sorted), key=sorted)]\n",
    "print(list(z[0]))"
   ]
  }
 ],
 "metadata": {
  "kernelspec": {
   "display_name": "Python 3",
   "language": "python",
   "name": "python3"
  },
  "language_info": {
   "codemirror_mode": {
    "name": "ipython",
    "version": 3
   },
   "file_extension": ".py",
   "mimetype": "text/x-python",
   "name": "python",
   "nbconvert_exporter": "python",
   "pygments_lexer": "ipython3",
   "version": "3.11.3"
  }
 },
 "nbformat": 4,
 "nbformat_minor": 2
}
