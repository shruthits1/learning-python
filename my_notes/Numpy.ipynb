{
 "cells": [
  {
   "cell_type": "code",
   "execution_count": null,
   "metadata": {},
   "outputs": [],
   "source": [
    "arr = np.array[[[4,2,3],\n",
    "                [8,6,9]]\n",
    "                [[6,7,8],\n",
    "                 [2,1,3]]]\n",
    "arr"
   ]
  },
  {
   "cell_type": "markdown",
   "metadata": {},
   "source": [
    "arr.size    #works like len\n",
    "arr.shape   #shows how many elements and whats the matrix dimension of each"
   ]
  },
  {
   "cell_type": "markdown",
   "metadata": {},
   "source": [
    "3 dimensional array is an array of 2-dimensional elements.. so on and so forth\n",
    "3 dimensional array can have a single element as well\n",
    "\n",
    "arr5 = np.array[[[3,4,5,6]]]\n",
    "arr5.shape will be 1,1,4"
   ]
  },
  {
   "cell_type": "markdown",
   "metadata": {},
   "source": [
    "3 dimensions and more are called tensors"
   ]
  },
  {
   "cell_type": "markdown",
   "metadata": {},
   "source": [
    "arr.dtype will show the type of the array\n",
    "arrays are homogenous,"
   ]
  },
  {
   "cell_type": "markdown",
   "metadata": {},
   "source": [
    "np.arange(optional start, stop, step, dtype=)\n",
    "this by default creates 1 dimensional array\n",
    "\n",
    "np.arange(20).reshape(5,4)\n",
    "this way you can reshape into two dimensions. the dimensionality number is based on number of elements\n",
    "\n",
    "np.arange(30).reshape(3,2,5) for 3 dimensions and so on\n",
    "\n"
   ]
  },
  {
   "cell_type": "code",
   "execution_count": 1,
   "metadata": {},
   "outputs": [],
   "source": [
    "import numpy as np"
   ]
  },
  {
   "cell_type": "code",
   "execution_count": 29,
   "metadata": {},
   "outputs": [],
   "source": [
    "x = np.array([[1, 2, 3], [3, 4,9]])\n",
    "y = np.array([[5, 6, 7], [15, 61, 79]])"
   ]
  },
  {
   "cell_type": "code",
   "execution_count": 30,
   "metadata": {},
   "outputs": [
    {
     "name": "stdout",
     "output_type": "stream",
     "text": [
      "6\n",
      "6\n"
     ]
    }
   ],
   "source": [
    "print(x.size)\n",
    "print(y.size)"
   ]
  },
  {
   "cell_type": "code",
   "execution_count": 34,
   "metadata": {},
   "outputs": [
    {
     "name": "stdout",
     "output_type": "stream",
     "text": [
      "z1==> [[ 1  2  3]\n",
      " [ 3  4  9]\n",
      " [ 5  6  7]\n",
      " [15 61 79]] shape:  (4, 3) dim:  2\n",
      "z2==> [[ 1  2  3]\n",
      " [ 3  4  9]\n",
      " [ 5  6  7]\n",
      " [15 61 79]] shape:  (4, 3) dim:  2\n",
      "z3==> [[ 1  2  3  5  6  7]\n",
      " [ 3  4  9 15 61 79]] shape:  (2, 6) dim:  2\n"
     ]
    }
   ],
   "source": [
    "z1 = np.concatenate((x,y))\n",
    "z2 = np.concatenate((x,y), axis=0)\n",
    "z3 = np.concatenate((x,y), axis=1)\n",
    "print(\"z1==>\", z1, \"shape: \", z1.shape, \"dim: \", z1.ndim)\n",
    "print(\"z2==>\", z2, \"shape: \", z2.shape, \"dim: \", z2.ndim)\n",
    "print(\"z3==>\", z3, \"shape: \", z3.shape, \"dim: \", z3.ndim)"
   ]
  },
  {
   "cell_type": "code",
   "execution_count": 36,
   "metadata": {},
   "outputs": [
    {
     "data": {
      "text/plain": [
       "array([[ 1,  2,  3,  5],\n",
       "       [ 6,  7,  3,  4],\n",
       "       [ 9, 15, 61, 79]])"
      ]
     },
     "execution_count": 36,
     "metadata": {},
     "output_type": "execute_result"
    }
   ],
   "source": [
    "z3.reshape(3,4)"
   ]
  }
 ],
 "metadata": {
  "kernelspec": {
   "display_name": "Python 3",
   "language": "python",
   "name": "python3"
  },
  "language_info": {
   "codemirror_mode": {
    "name": "ipython",
    "version": 3
   },
   "file_extension": ".py",
   "mimetype": "text/x-python",
   "name": "python",
   "nbconvert_exporter": "python",
   "pygments_lexer": "ipython3",
   "version": "3.11.3"
  }
 },
 "nbformat": 4,
 "nbformat_minor": 2
}
