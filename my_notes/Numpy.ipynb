{
 "cells": [
  {
   "cell_type": "code",
   "execution_count": null,
   "metadata": {},
   "outputs": [],
   "source": [
    "arr = np.array[[[4,2,3],\n",
    "                [8,6,9]]\n",
    "                [[6,7,8],\n",
    "                 [2,1,3]]]\n",
    "arr"
   ]
  },
  {
   "cell_type": "markdown",
   "metadata": {},
   "source": [
    "arr.size    #works like len\n",
    "arr.shape   #shows how many elements and whats the matrix dimension of each"
   ]
  },
  {
   "cell_type": "markdown",
   "metadata": {},
   "source": [
    "3 dimensional array is an array of 2-dimensional elements.. so on and so forth\n",
    "3 dimensional array can have a single element as well\n",
    "\n",
    "arr5 = np.array[[[3,4,5,6]]]\n",
    "arr5.shape will be 1,1,4"
   ]
  },
  {
   "cell_type": "markdown",
   "metadata": {},
   "source": [
    "3 dimensions and more are called tensors"
   ]
  },
  {
   "cell_type": "markdown",
   "metadata": {},
   "source": [
    "arr.dtype will show the type of the array\n",
    "arrays are homogenous,"
   ]
  },
  {
   "cell_type": "markdown",
   "metadata": {},
   "source": [
    "np.arange(optional start, stop, step, dtype=)\n",
    "this by default creates 1 dimensional array\n",
    "\n",
    "np.arange(20).reshape(5,4)\n",
    "this way you can reshape into two dimensions. the dimensionality number is based on number of elements\n",
    "\n",
    "np.arange(30).reshape(3,2,5) for 3 dimensions and so on\n",
    "\n"
   ]
  },
  {
   "cell_type": "code",
   "execution_count": 1,
   "metadata": {},
   "outputs": [],
   "source": [
    "import numpy as np"
   ]
  }
 ],
 "metadata": {
  "kernelspec": {
   "display_name": "Python 3",
   "language": "python",
   "name": "python3"
  },
  "language_info": {
   "codemirror_mode": {
    "name": "ipython",
    "version": 3
   },
   "file_extension": ".py",
   "mimetype": "text/x-python",
   "name": "python",
   "nbconvert_exporter": "python",
   "pygments_lexer": "ipython3",
   "version": "3.11.3"
  }
 },
 "nbformat": 4,
 "nbformat_minor": 2
}
