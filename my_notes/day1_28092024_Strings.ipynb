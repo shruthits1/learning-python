{
  "cells": [
    {
      "cell_type": "code",
      "execution_count": null,
      "metadata": {
        "id": "NATMgVXP3XVA",
        "outputId": "818958a7-0e4d-4860-86b2-e04f735611af"
      },
      "outputs": [
        {
          "data": {
            "text/html": [
              "<video width=\"620\" height=\"400\" controls>\n",
              "<source src=\"https://cdn.exec.talentsprint.com/content/6_Strings.mp4\">\n",
              "</video>"
            ],
            "text/plain": [
              "<IPython.core.display.HTML object>"
            ]
          },
          "execution_count": 1,
          "metadata": {},
          "output_type": "execute_result"
        }
      ],
      "source": [
        "#@title Walkthrough Video\n",
        "from IPython.display import HTML\n",
        "HTML(\"\"\"<video width=\"620\" height=\"400\" controls>\n",
        "<source src=\"https://cdn.exec.talentsprint.com/content/6_Strings.mp4\">\n",
        "</video>\"\"\")"
      ]
    },
    {
      "cell_type": "code",
      "execution_count": null,
      "metadata": {
        "id": "gQC4kDec3XVC",
        "outputId": "32bb430d-a9a4-46b0-e2e7-6c0d21288d22"
      },
      "outputs": [
        {
          "name": "stdout",
          "output_type": "stream",
          "text": [
            "Hello world!\n"
          ]
        }
      ],
      "source": [
        "# String Concatenation using '+' operator\n",
        "h = \"Hello\"\n",
        "w = \"world!\"\n",
        "hw = h + \" \" + w\n",
        "print(hw)"
      ]
    },
    {
      "cell_type": "code",
      "execution_count": null,
      "metadata": {
        "id": "wsN-Thm33XVC",
        "outputId": "59043006-d2c9-403e-f478-5cabc37ada0a"
      },
      "outputs": [
        {
          "name": "stdout",
          "output_type": "stream",
          "text": [
            "HelloHelloHelloHello   world!world!\n"
          ]
        }
      ],
      "source": [
        "# String repetition\n",
        "h4s3w2 = 4 * h + \" \" * 3 + w * 2\n",
        "print(h4s3w2)"
      ]
    },
    {
      "cell_type": "code",
      "execution_count": null,
      "metadata": {
        "id": "9C1zWM5P3XVC",
        "outputId": "5eb57e38-d79e-4989-8614-7d2589d0df1f"
      },
      "outputs": [
        {
          "name": "stdout",
          "output_type": "stream",
          "text": [
            "J\n"
          ]
        }
      ],
      "source": [
        "f = 'Hello World!'\n",
        "#f[0] = 'J'  #This will be wrong as strings are immutable, so we cant change in place\n",
        "f = 'J'     #this will work\n",
        "print(f)\n"
      ]
    },
    {
      "cell_type": "code",
      "execution_count": null,
      "metadata": {
        "id": "pn22xSdJ3XVD",
        "outputId": "f78ed005-b99a-428a-c2e5-073649441749"
      },
      "outputs": [
        {
          "name": "stdout",
          "output_type": "stream",
          "text": [
            "Jello World!\n"
          ]
        }
      ],
      "source": [
        "f = 'Hello World!'\n",
        "f = 'J' + f[1:]\n",
        "print(f)"
      ]
    },
    {
      "cell_type": "code",
      "source": [
        "word = \"hello\"\n",
        "print(word.capitalize())"
      ],
      "metadata": {
        "colab": {
          "base_uri": "https://localhost:8080/"
        },
        "id": "jBFPT-T53aJq",
        "outputId": "100eabeb-72d9-4427-e7d1-43ba2bd70dc5"
      },
      "execution_count": 1,
      "outputs": [
        {
          "output_type": "stream",
          "name": "stdout",
          "text": [
            "Hello\n"
          ]
        }
      ]
    },
    {
      "cell_type": "code",
      "source": [
        "a = 'Python/Programming/'\n",
        "print(a.index('/'))\n",
        "print(a[a.index('/')+1:])"
      ],
      "metadata": {
        "colab": {
          "base_uri": "https://localhost:8080/"
        },
        "id": "g-jkOp3H4inw",
        "outputId": "caabc77a-a127-4747-9a40-f635fcbf1420"
      },
      "execution_count": 4,
      "outputs": [
        {
          "output_type": "stream",
          "name": "stdout",
          "text": [
            "6\n",
            "Programming/\n"
          ]
        }
      ]
    },
    {
      "cell_type": "code",
      "source": [
        "'Hello'.center(20)"
      ],
      "metadata": {
        "colab": {
          "base_uri": "https://localhost:8080/",
          "height": 35
        },
        "id": "Y_s6d5Hy5_m8",
        "outputId": "47fef8d3-8ac3-4743-e75e-b0a8dcfc8e94"
      },
      "execution_count": 5,
      "outputs": [
        {
          "output_type": "execute_result",
          "data": {
            "text/plain": [
              "'       Hello        '"
            ],
            "application/vnd.google.colaboratory.intrinsic+json": {
              "type": "string"
            }
          },
          "metadata": {},
          "execution_count": 5
        }
      ]
    },
    {
      "cell_type": "code",
      "source": [
        "p = 20\n",
        "char = \"* \"\n",
        "for i in range(6,0,-1):\n",
        "  print(str(char * i).center(p-i))\n",
        "  p-=1"
      ],
      "metadata": {
        "colab": {
          "base_uri": "https://localhost:8080/"
        },
        "id": "ayaBxJwD5Ild",
        "outputId": "73663879-836b-4430-f0b9-a1609915b0f3"
      },
      "execution_count": 31,
      "outputs": [
        {
          "output_type": "stream",
          "name": "stdout",
          "text": [
            " * * * * * *  \n",
            "  * * * * *   \n",
            "   * * * *    \n",
            "    * * *     \n",
            "     * *      \n",
            "      *       \n"
          ]
        }
      ]
    },
    {
      "cell_type": "code",
      "source": [
        "strList = ['orange','banana','kiwi','cherry','apple','plum']\n",
        "newList = []\n",
        "for words in strList:\n",
        "  newList.append(words)\n",
        "print(id(strList), id(newList))"
      ],
      "metadata": {
        "id": "8U4GhpCQ9mm3",
        "outputId": "f9f52293-9f61-49f7-fa80-e0e5da422d6c",
        "colab": {
          "base_uri": "https://localhost:8080/"
        }
      },
      "execution_count": 71,
      "outputs": [
        {
          "output_type": "stream",
          "name": "stdout",
          "text": [
            "140338864867520 140338864871040\n"
          ]
        }
      ]
    },
    {
      "cell_type": "code",
      "source": [
        "print(strList.sort())\n",
        "print(strList)\n",
        "print(newList)"
      ],
      "metadata": {
        "id": "kBM4z4elH5pO",
        "outputId": "23970ec1-2d96-4c2d-a857-8c4f1765d998",
        "colab": {
          "base_uri": "https://localhost:8080/"
        }
      },
      "execution_count": 72,
      "outputs": [
        {
          "output_type": "stream",
          "name": "stdout",
          "text": [
            "None\n",
            "['apple', 'banana', 'cherry', 'kiwi', 'orange', 'plum']\n",
            "['orange', 'banana', 'kiwi', 'cherry', 'apple', 'plum']\n"
          ]
        }
      ]
    }
  ],
  "metadata": {
    "kernelspec": {
      "display_name": "Python 3",
      "language": "python",
      "name": "python3"
    },
    "language_info": {
      "codemirror_mode": {
        "name": "ipython",
        "version": 3
      },
      "file_extension": ".py",
      "mimetype": "text/x-python",
      "name": "python",
      "nbconvert_exporter": "python",
      "pygments_lexer": "ipython3",
      "version": "3.11.3"
    },
    "colab": {
      "provenance": []
    }
  },
  "nbformat": 4,
  "nbformat_minor": 0
}