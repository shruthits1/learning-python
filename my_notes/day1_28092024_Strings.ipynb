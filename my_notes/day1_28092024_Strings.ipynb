<<<<<<< HEAD
{"cells":[{"cell_type":"code","execution_count":1,"metadata":{},"outputs":[{"data":{"text/html":["<video width=\"620\" height=\"400\" controls>\n","<source src=\"https://cdn.exec.talentsprint.com/content/6_Strings.mp4\">\n","</video>"],"text/plain":["<IPython.core.display.HTML object>"]},"execution_count":1,"metadata":{},"output_type":"execute_result"}],"source":["#@title Walkthrough Video\n","from IPython.display import HTML\n","HTML(\"\"\"<video width=\"620\" height=\"400\" controls>\n","<source src=\"https://cdn.exec.talentsprint.com/content/6_Strings.mp4\">\n","</video>\"\"\")"]},{"cell_type":"code","execution_count":6,"metadata":{},"outputs":[{"name":"stdout","output_type":"stream","text":["Hello world!\n"]}],"source":["# String Concatenation using '+' operator\n","h = \"Hello\"\n","w = \"world!\"\n","hw = h + \" \" + w\n","print(hw)"]},{"cell_type":"code","execution_count":7,"metadata":{},"outputs":[{"name":"stdout","output_type":"stream","text":["HelloHelloHelloHello   world!world!\n"]}],"source":["# String repetition\n","h4s3w2 = 4 * h + \" \" * 3 + w * 2\n","print(h4s3w2)"]}],"metadata":{"kernelspec":{"display_name":"Python 3","language":"python","name":"python3"},"language_info":{"codemirror_mode":{"name":"ipython","version":3},"file_extension":".py","mimetype":"text/x-python","name":"python","nbconvert_exporter":"python","pygments_lexer":"ipython3","version":"3.11.3"}},"nbformat":4,"nbformat_minor":2}
=======
{
  "nbformat": 4,
  "nbformat_minor": 0,
  "metadata": {
    "colab": {
      "provenance": [],
      "authorship_tag": "ABX9TyOPeAkYbQmvUF0poyaHUTpw",
      "include_colab_link": true
    },
    "kernelspec": {
      "name": "python3",
      "display_name": "Python 3"
    },
    "language_info": {
      "name": "python"
    }
  },
  "cells": [
    {
      "cell_type": "markdown",
      "metadata": {
        "id": "view-in-github",
        "colab_type": "text"
      },
      "source": [
        "<a href=\"https://colab.research.google.com/github/shruthits1/learning-python/blob/main/my_notes/aay1_28092024_Strings.ipynb\" target=\"_parent\"><img src=\"https://colab.research.google.com/assets/colab-badge.svg\" alt=\"Open In Colab\"/></a>"
      ]
    },
    {
      "cell_type": "code",
      "execution_count": null,
      "metadata": {
        "colab": {
          "base_uri": "https://localhost:8080/"
        },
        "id": "k0J58sJmXzqi",
        "outputId": "f9964031-cfac-4092-e040-deb6a56de0c6"
      },
      "outputs": [
        {
          "output_type": "stream",
          "name": "stdout",
          "text": [
            "Enter a number: -9\n",
            "-9 is negative\n"
          ]
        }
      ]
	}
	]
}
>>>>>>> efc58b617a1c6c687357973454518764e2af8bb0
