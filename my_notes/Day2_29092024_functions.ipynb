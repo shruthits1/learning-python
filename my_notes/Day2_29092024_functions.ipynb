{
 "cells": [
  {
   "cell_type": "code",
   "execution_count": 1,
   "metadata": {},
   "outputs": [
    {
     "name": "stdout",
     "output_type": "stream",
     "text": [
      "Have a wonderful day!\n",
      "Thank you\n"
     ]
    }
   ],
   "source": [
    "def greet():\n",
    "    print('Have a wonderful day!')\n",
    "    return\n",
    "\n",
    "#main code\n",
    "greet()\n",
    "print('Thank you')"
   ]
  },
  {
   "cell_type": "code",
   "execution_count": 8,
   "metadata": {},
   "outputs": [
    {
     "name": "stdout",
     "output_type": "stream",
     "text": [
      "27\n",
      "calling again\n",
      "199\n"
     ]
    }
   ],
   "source": [
    "#accept 2 numbers and display sum without params\n",
    "\n",
    "def sums():\n",
    "    n1,n2 = input('Enter 2 numbers:').split()\n",
    "    print(int(n1)+int(n2))\n",
    "\n",
    "#main code\n",
    "sums()\n",
    "print(\"calling again\")\n",
    "sums()"
   ]
  },
  {
   "cell_type": "code",
   "execution_count": 10,
   "metadata": {},
   "outputs": [
    {
     "name": "stdout",
     "output_type": "stream",
     "text": [
      "29\n"
     ]
    }
   ],
   "source": [
    "def sum_arg(a,b):\n",
    "    '''This function accepts 2 params and returns a value\n",
    "    This is called docstring and is treated as such by dunder methods'''\n",
    "    try:\n",
    "        output = int(a) + int(b)\n",
    "    except Exception as e:\n",
    "        print(e)\n",
    "    return output\n",
    "\n",
    "# main\n",
    "n1,n2 = input('Enter 2 numbers:').split()\n",
    "print(sum_arg(n1,n2))"
   ]
  },
  {
   "cell_type": "code",
   "execution_count": 13,
   "metadata": {},
   "outputs": [
    {
     "name": "stdout",
     "output_type": "stream",
     "text": [
      "(21, -1, 110, 0.9090909090909091)\n",
      "This function returns sum, difference, product and reminder, like a calculator\n"
     ]
    }
   ],
   "source": [
    "def calc(a,b):\n",
    "    '''This function returns sum, difference, product and reminder, like a calculator'''\n",
    "    p1 = a+b\n",
    "    p2 = a-b\n",
    "    p3 = a*b\n",
    "    p4 = a/b\n",
    "\n",
    "    return p1,p2,p3,p4      #packed into a tuple\n",
    "\n",
    "print(calc(10,11))\n",
    "print(calc.__doc__)"
   ]
  },
  {
   "cell_type": "code",
   "execution_count": 18,
   "metadata": {},
   "outputs": [
    {
     "name": "stdout",
     "output_type": "stream",
     "text": [
      "15\n"
     ]
    }
   ],
   "source": [
    "#function to add elements of the list\n",
    "\n",
    "def add_ele(list1):\n",
    "    a=0\n",
    "    for i in list1:\n",
    "        a += i\n",
    "    return a\n",
    "\n",
    "mylist = [int(i) for i in range(1,6)]\n",
    "print(add_ele(mylist))"
   ]
  }
 ],
 "metadata": {
  "kernelspec": {
   "display_name": "Python 3",
   "language": "python",
   "name": "python3"
  },
  "language_info": {
   "codemirror_mode": {
    "name": "ipython",
    "version": 3
   },
   "file_extension": ".py",
   "mimetype": "text/x-python",
   "name": "python",
   "nbconvert_exporter": "python",
   "pygments_lexer": "ipython3",
   "version": "3.11.3"
  }
 },
 "nbformat": 4,
 "nbformat_minor": 2
}
