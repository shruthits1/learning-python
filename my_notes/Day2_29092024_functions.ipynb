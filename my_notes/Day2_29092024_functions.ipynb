{
 "cells": [
  {
   "cell_type": "code",
   "execution_count": 1,
   "metadata": {},
   "outputs": [
    {
     "name": "stdout",
     "output_type": "stream",
     "text": [
      "Have a wonderful day!\n",
      "Thank you\n"
     ]
    }
   ],
   "source": [
    "def greet():\n",
    "    print('Have a wonderful day!')\n",
    "    return\n",
    "\n",
    "#main code\n",
    "greet()\n",
    "print('Thank you')"
   ]
  },
  {
   "cell_type": "code",
   "execution_count": 8,
   "metadata": {},
   "outputs": [
    {
     "name": "stdout",
     "output_type": "stream",
     "text": [
      "27\n",
      "calling again\n",
      "199\n"
     ]
    }
   ],
   "source": [
    "#accept 2 numbers and display sum without params\n",
    "\n",
    "def sums():\n",
    "    n1,n2 = input('Enter 2 numbers:').split()\n",
    "    print(int(n1)+int(n2))\n",
    "\n",
    "#main code\n",
    "sums()\n",
    "print(\"calling again\")\n",
    "sums()"
   ]
  },
  {
   "cell_type": "code",
   "execution_count": 10,
   "metadata": {},
   "outputs": [
    {
     "name": "stdout",
     "output_type": "stream",
     "text": [
      "29\n"
     ]
    }
   ],
   "source": [
    "def sum_arg(a,b):\n",
    "    '''This function accepts 2 params and returns a value\n",
    "    This is called docstring and is treated as such by dunder methods'''\n",
    "    try:\n",
    "        output = int(a) + int(b)\n",
    "    except Exception as e:\n",
    "        print(e)\n",
    "    return output\n",
    "\n",
    "# main\n",
    "n1,n2 = input('Enter 2 numbers:').split()\n",
    "print(sum_arg(n1,n2))"
   ]
  },
  {
   "cell_type": "code",
   "execution_count": 13,
   "metadata": {},
   "outputs": [
    {
     "name": "stdout",
     "output_type": "stream",
     "text": [
      "(21, -1, 110, 0.9090909090909091)\n",
      "This function returns sum, difference, product and reminder, like a calculator\n"
     ]
    }
   ],
   "source": [
    "def calc(a,b):\n",
    "    '''This function returns sum, difference, product and reminder, like a calculator'''\n",
    "    p1 = a+b\n",
    "    p2 = a-b\n",
    "    p3 = a*b\n",
    "    p4 = a/b\n",
    "\n",
    "    return p1,p2,p3,p4      #packed into a tuple\n",
    "\n",
    "print(calc(10,11))\n",
    "print(calc.__doc__)"
   ]
  },
  {
   "cell_type": "code",
   "execution_count": 18,
   "metadata": {},
   "outputs": [
    {
     "name": "stdout",
     "output_type": "stream",
     "text": [
      "15\n"
     ]
    }
   ],
   "source": [
    "#function to add elements of the list\n",
    "\n",
    "def add_ele(list1):\n",
    "    a=0\n",
    "    for i in list1:\n",
    "        a += i\n",
    "    return a\n",
    "\n",
    "mylist = [int(i) for i in range(1,6)]\n",
    "print(add_ele(mylist))"
   ]
  },
  {
   "cell_type": "markdown",
   "metadata": {},
   "source": [
    "Note: if function uses args or kwargs it cannot be collection\n",
    "it'll be taken as a dictionary but you cannot pass a dict"
   ]
  },
  {
   "cell_type": "code",
   "execution_count": 20,
   "metadata": {},
   "outputs": [
    {
     "name": "stdout",
     "output_type": "stream",
     "text": [
      "name Henry\n",
      "age 25\n",
      "hobby Birding\n"
     ]
    }
   ],
   "source": [
    "#keyword args\n",
    "def printInfo(**kwargs):                #here kwargs is not a keyword,, its a concept that it is of type dict\n",
    "    for k,v in kwargs.items():\n",
    "        print(k,v)\n",
    "    return\n",
    "\n",
    "#main code\n",
    "#printInfo({1:11, 2:22})                #this will throw error. check notes above\n",
    "printInfo(name = 'Henry', age=25, hobby=\"Birding\")\n",
    "\n",
    "    "
   ]
  },
  {
   "cell_type": "markdown",
   "metadata": {},
   "source": [
    "**Lambda**\n",
    "- stored in memory as an expression\n",
    "- it is anonymous"
   ]
  },
  {
   "cell_type": "code",
   "execution_count": 22,
   "metadata": {},
   "outputs": [
    {
     "name": "stdout",
     "output_type": "stream",
     "text": [
      "27\n",
      "<class 'function'>\n"
     ]
    }
   ],
   "source": [
    "cube = lambda x: x**3           \n",
    "\n",
    "print(cube(3))              #here cube is acting as a function object\n",
    "print(type(cube))"
   ]
  },
  {
   "cell_type": "markdown",
   "metadata": {},
   "source": [
    "This means we can pass a function to another function without writing def"
   ]
  },
  {
   "cell_type": "markdown",
   "metadata": {},
   "source": [
    "**Filter**\n",
    "\n",
    "filter(function, sequence)\n",
    "Use filter when you have a condition to be used to filter\n",
    "function can be full fledged or lambda\n",
    "returns filter object so will need conversion\n",
    "\n",
    "**Map**\n",
    "\n",
    "Map(function, sequence)\n",
    "used when you want a function to apply to each item in the list\n",
    "returns Map object so will need conversion\n",
    "\n",
    "**Reduce**\n",
    "\n",
    "Reduce(function, sequence)\n",
    "it is part of functools\n",
    "It returns only one value\n",
    "used when performing arthmatic operations between all values\n",
    "Note: output should not be an iterator"
   ]
  },
  {
   "cell_type": "code",
   "execution_count": 24,
   "metadata": {},
   "outputs": [
    {
     "name": "stdout",
     "output_type": "stream",
     "text": [
      "[1, 19.0, 11, 14]\n"
     ]
    }
   ],
   "source": [
    "list1 = [1,-1,19.0,11,14]\n",
    "\n",
    "list2 = list(filter(lambda x: x>0 , list1))\n",
    "print(list2)"
   ]
  },
  {
   "cell_type": "code",
   "execution_count": 26,
   "metadata": {},
   "outputs": [
    {
     "name": "stdout",
     "output_type": "stream",
     "text": [
      "[1, -1, 6859.0, 1331, 2744]\n"
     ]
    }
   ],
   "source": [
    "list1 = [1,-1,19.0,11,14]\n",
    "\n",
    "list2 = list(map(lambda x: x**3  ,list1))\n",
    "print(list2)"
   ]
  },
  {
   "cell_type": "code",
   "execution_count": 28,
   "metadata": {},
   "outputs": [
    {
     "name": "stdout",
     "output_type": "stream",
     "text": [
      "24\n"
     ]
    }
   ],
   "source": [
    "from functools import reduce\n",
    "\n",
    "nums = [3,2,1,4]\n",
    "\n",
    "result = reduce (lambda x,y: x*y , nums)\n",
    "\n",
    "print(result)\n",
    "\n",
    "#first time it picks first 2 items from list\n",
    "#lambda multiplies and reduce stores the result in x and picks next item \n",
    "# and multiples it with x which has the result from previous execution"
   ]
  },
  {
   "cell_type": "code",
   "execution_count": 33,
   "metadata": {},
   "outputs": [
    {
     "name": "stdout",
     "output_type": "stream",
     "text": [
      "9\n",
      "0\n",
      "0\n"
     ]
    }
   ],
   "source": [
    "#def myFunc(n: int|float|complex) -> int|float|complex\n",
    "\n",
    "def square(n: int) -> int:\n",
    "    if isinstance(n, int):\n",
    "        return n*n\n",
    "    else:\n",
    "        return 0\n",
    "\n",
    "print(square(3))\n",
    "print(square(6.2))\n",
    "print(square('str'))"
   ]
  },
  {
   "cell_type": "code",
   "execution_count": 35,
   "metadata": {},
   "outputs": [
    {
     "name": "stdout",
     "output_type": "stream",
     "text": [
      "['BPF', 'LOG4', 'NV_MAGICCONST', 'RECIP_BPF', 'Random', 'SG_MAGICCONST', 'SystemRandom', 'TWOPI', '_ONE', '_Sequence', '_Set', '__all__', '__builtins__', '__cached__', '__doc__', '__file__', '__loader__', '__name__', '__package__', '__spec__', '_accumulate', '_acos', '_bisect', '_ceil', '_cos', '_e', '_exp', '_floor', '_index', '_inst', '_isfinite', '_log', '_os', '_pi', '_random', '_repeat', '_sha512', '_sin', '_sqrt', '_test', '_test_generator', '_urandom', '_warn', 'betavariate', 'choice', 'choices', 'expovariate', 'gammavariate', 'gauss', 'getrandbits', 'getstate', 'lognormvariate', 'normalvariate', 'paretovariate', 'randbytes', 'randint', 'random', 'randrange', 'sample', 'seed', 'setstate', 'shuffle', 'triangular', 'uniform', 'vonmisesvariate', 'weibullvariate']\n",
      "0.1342417826288399\n",
      "4\n",
      "green\n"
     ]
    }
   ],
   "source": [
    "import random\n",
    "\n",
    "print(dir(random))\n",
    "print(random.random())\n",
    "print(random.randint(1,10))\n",
    "\n",
    "list1 = ['red','purple','green','yellow']\n",
    "print(random.choice(list1))"
   ]
  }
 ],
 "metadata": {
  "kernelspec": {
   "display_name": "Python 3",
   "language": "python",
   "name": "python3"
  },
  "language_info": {
   "codemirror_mode": {
    "name": "ipython",
    "version": 3
   },
   "file_extension": ".py",
   "mimetype": "text/x-python",
   "name": "python",
   "nbconvert_exporter": "python",
   "pygments_lexer": "ipython3",
   "version": "3.11.3"
  }
 },
 "nbformat": 4,
 "nbformat_minor": 2
}
