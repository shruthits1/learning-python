{
  "nbformat": 4,
  "nbformat_minor": 0,
  "metadata": {
    "colab": {
      "private_outputs": true,
      "provenance": []
    },
    "kernelspec": {
      "name": "python3",
      "display_name": "Python 3"
    },
    "language_info": {
      "name": "python"
    }
  },
  "cells": [
    {
      "cell_type": "code",
      "execution_count": null,
      "metadata": {
        "id": "4E5dWnDSEcRh"
      },
      "outputs": [],
      "source": [
        "def is_ascending(n: int) -> bool:\n",
        "    s = str(n)\n",
        "    return all(a < b for a, b in zip(s, s[1:]))"
      ]
    },
    {
      "cell_type": "markdown",
      "source": [
        "# Odometer\n",
        "\n",
        "## 1. Readings cannot have 0\n",
        "## 2. Digits of reading must be in ascending order\n",
        "## 3. Size is fixed"
      ],
      "metadata": {
        "id": "y6jYHTRMG_sh"
      }
    },
    {
      "cell_type": "markdown",
      "source": [
        "$56789$ PLUS 1$\\Rightarrow$  $12345$"
      ],
      "metadata": {
        "id": "FhlZLMi_Kokx"
      }
    },
    {
      "cell_type": "code",
      "source": [],
      "metadata": {
        "id": "7bhVJ6UcVUb_"
      },
      "execution_count": null,
      "outputs": []
    },
    {
      "cell_type": "markdown",
      "source": [
        "# Odometer"
      ],
      "metadata": {
        "id": "eLAogoCCVMW6"
      }
    },
    {
      "cell_type": "code",
      "source": [
        "def is_ascending(n: int) -> bool:\n",
        "    s = str(n)\n",
        "    return all(a < b for a, b in zip(s, s[1:]))"
      ],
      "metadata": {
        "id": "z4xVAobFMIPm"
      },
      "execution_count": null,
      "outputs": []
    },
    {
      "cell_type": "code",
      "source": [
        "def get_limits(reading: int) -> tuple[int, int]:\n",
        "    DIGITS = \"123456789\"\n",
        "    size = len(str(reading))\n",
        "    return int(DIGITS[:size]), int(DIGITS[-size:])"
      ],
      "metadata": {
        "id": "eLNR2ewAVsnp"
      },
      "execution_count": null,
      "outputs": []
    },
    {
      "cell_type": "code",
      "source": [
        "def forward(reading: int, steps=1) -> int:\n",
        "    lo, hi = get_limits(reading)\n",
        "    for _ in range(steps):\n",
        "        if reading == hi:\n",
        "            reading = lo\n",
        "        else:\n",
        "            reading += 1\n",
        "            while not is_ascending(reading):\n",
        "                reading += 1\n",
        "    return reading"
      ],
      "metadata": {
        "id": "W_c6p0QeXfN6"
      },
      "execution_count": null,
      "outputs": []
    },
    {
      "cell_type": "code",
      "source": [
        "def backward(reading: int, steps=1) -> int:\n",
        "    lo, hi = get_limits(reading)\n",
        "    for _ in range(steps):\n",
        "        if reading == lo:\n",
        "            reading = hi\n",
        "        else:\n",
        "            reading -= 1\n",
        "            while not is_ascending(reading):\n",
        "                reading -= 1\n",
        "    return reading"
      ],
      "metadata": {
        "id": "TxNlhm9_YOjR"
      },
      "execution_count": null,
      "outputs": []
    },
    {
      "cell_type": "code",
      "source": [
        "def distance(a_reading: int, b_reading: int) -> int:\n",
        "    if len(str(a_reading)) != len(str(b_reading)):\n",
        "        return -1\n",
        "    diff = 0\n",
        "    while a_reading != b_reading:\n",
        "        a_reading = forward(a_reading)\n",
        "        diff += 1\n",
        "    return diff"
      ],
      "metadata": {
        "id": "GgO6BYAzYVhK"
      },
      "execution_count": null,
      "outputs": []
    },
    {
      "cell_type": "code",
      "source": [
        "forward(39)"
      ],
      "metadata": {
        "id": "e5W1QK3uaZT-"
      },
      "execution_count": null,
      "outputs": []
    },
    {
      "cell_type": "code",
      "source": [
        "forward(1256789, 100)"
      ],
      "metadata": {
        "id": "rund-KIgfNKx"
      },
      "execution_count": null,
      "outputs": []
    },
    {
      "cell_type": "markdown",
      "source": [],
      "metadata": {
        "id": "2wX16AHdVX1L"
      }
    },
    {
      "cell_type": "code",
      "source": [
        "class Odometer:\n",
        "    pass"
      ],
      "metadata": {
        "id": "Cgv2--gvgBWe"
      },
      "execution_count": null,
      "outputs": []
    },
    {
      "cell_type": "code",
      "source": [
        "p = Odometer()"
      ],
      "metadata": {
        "id": "7RTB-z6lgP7-"
      },
      "execution_count": null,
      "outputs": []
    },
    {
      "cell_type": "code",
      "source": [
        "type(p)"
      ],
      "metadata": {
        "id": "Eqb1JGmpgUQr"
      },
      "execution_count": null,
      "outputs": []
    },
    {
      "cell_type": "code",
      "source": [
        "print(p)"
      ],
      "metadata": {
        "id": "v9zKQ1q6gVSQ"
      },
      "execution_count": null,
      "outputs": []
    },
    {
      "cell_type": "code",
      "source": [
        "q = Odometer()"
      ],
      "metadata": {
        "id": "7KOJbIECgZ7X"
      },
      "execution_count": null,
      "outputs": []
    },
    {
      "cell_type": "code",
      "source": [
        "print(q)"
      ],
      "metadata": {
        "id": "R0BBFe8LgfEg"
      },
      "execution_count": null,
      "outputs": []
    },
    {
      "cell_type": "code",
      "source": [
        "id(p)"
      ],
      "metadata": {
        "id": "YKJ-2TMzggCK"
      },
      "execution_count": null,
      "outputs": []
    },
    {
      "cell_type": "code",
      "source": [
        "id(q)"
      ],
      "metadata": {
        "id": "nDLTZRI8gjiR"
      },
      "execution_count": null,
      "outputs": []
    },
    {
      "cell_type": "code",
      "source": [
        "type(7)"
      ],
      "metadata": {
        "id": "Oy6UKQ2VgkI3"
      },
      "execution_count": null,
      "outputs": []
    },
    {
      "cell_type": "code",
      "source": [
        "class Odometer:\n",
        "    def __init__(self, size: int):\n",
        "        DIGITS = \"123456789\"\n",
        "        self.size = size\n",
        "        self.lo = int(DIGITS[:size])\n",
        "        self.hi = int(DIGITS[-size:])\n",
        "        self.reading = self.lo"
      ],
      "metadata": {
        "id": "ZK0NWVu2hf1I"
      },
      "execution_count": null,
      "outputs": []
    },
    {
      "cell_type": "code",
      "source": [
        "p = Odometer()"
      ],
      "metadata": {
        "id": "uEmJxcHoiXr5"
      },
      "execution_count": null,
      "outputs": []
    },
    {
      "cell_type": "code",
      "source": [
        "p = Odometer(4)"
      ],
      "metadata": {
        "id": "Kdb8JvWNik-Q"
      },
      "execution_count": null,
      "outputs": []
    },
    {
      "cell_type": "code",
      "source": [
        "p.lo"
      ],
      "metadata": {
        "id": "OCE-oS-0izSL"
      },
      "execution_count": null,
      "outputs": []
    },
    {
      "cell_type": "code",
      "source": [
        "p.hi"
      ],
      "metadata": {
        "id": "kqTdwxhyi0tx"
      },
      "execution_count": null,
      "outputs": []
    },
    {
      "cell_type": "code",
      "source": [
        "p.reading"
      ],
      "metadata": {
        "id": "Nas5FGb0i13n"
      },
      "execution_count": null,
      "outputs": []
    },
    {
      "cell_type": "code",
      "source": [
        "p.size"
      ],
      "metadata": {
        "id": "rF9VFu5qi3AJ"
      },
      "execution_count": null,
      "outputs": []
    },
    {
      "cell_type": "code",
      "source": [
        "print(p)"
      ],
      "metadata": {
        "id": "a2vUODmci4kl"
      },
      "execution_count": null,
      "outputs": []
    },
    {
      "cell_type": "code",
      "source": [
        "class Odometer:\n",
        "    def __init__(self, size: int):\n",
        "        DIGITS = \"123456789\"\n",
        "        self.size = size\n",
        "        self.lo = int(DIGITS[:size])\n",
        "        self.hi = int(DIGITS[-size:])\n",
        "        self.reading = self.lo\n",
        "\n",
        "    def __str__(self) -> str:\n",
        "        return str(self.reading)\n"
      ],
      "metadata": {
        "id": "0rhorFvLi6O-"
      },
      "execution_count": null,
      "outputs": []
    },
    {
      "cell_type": "code",
      "source": [
        "p = Odometer(3)"
      ],
      "metadata": {
        "id": "suoDI-HNkwYZ"
      },
      "execution_count": null,
      "outputs": []
    },
    {
      "cell_type": "code",
      "source": [
        "print(p)"
      ],
      "metadata": {
        "id": "45GuWhdRkztS"
      },
      "execution_count": null,
      "outputs": []
    },
    {
      "cell_type": "code",
      "source": [
        "is_ascending??"
      ],
      "metadata": {
        "id": "nSaei7o4k0it"
      },
      "execution_count": null,
      "outputs": []
    },
    {
      "cell_type": "code",
      "source": [
        "p.asokan = 17 # Rarely needed. But can be done"
      ],
      "metadata": {
        "id": "EfvbBMYRmiMA"
      },
      "execution_count": null,
      "outputs": []
    },
    {
      "cell_type": "code",
      "source": [
        "dir(p)"
      ],
      "metadata": {
        "id": "j1EyjYSun2LH"
      },
      "execution_count": null,
      "outputs": []
    },
    {
      "cell_type": "code",
      "source": [
        "[x for x in dir(p) if not x.startswith('__')]"
      ],
      "metadata": {
        "id": "6cV5VKrh9GDt"
      },
      "execution_count": null,
      "outputs": []
    },
    {
      "cell_type": "code",
      "source": [
        "q = Odometer(3)"
      ],
      "metadata": {
        "id": "iBBw2bDh9Qls"
      },
      "execution_count": null,
      "outputs": []
    },
    {
      "cell_type": "code",
      "source": [
        "[x for x in dir(q) if not x.startswith('__')]\n"
      ],
      "metadata": {
        "id": "LhVtoH6A9Yq2"
      },
      "execution_count": null,
      "outputs": []
    },
    {
      "cell_type": "markdown",
      "source": [
        "# representation\n",
        "# print vs inspect"
      ],
      "metadata": {
        "id": "JrONqtnJ9cel"
      }
    },
    {
      "cell_type": "code",
      "source": [
        "s = \"Hello\\nworld\""
      ],
      "metadata": {
        "id": "FIYPcQp_9-Mq"
      },
      "execution_count": null,
      "outputs": []
    },
    {
      "cell_type": "code",
      "source": [
        "s"
      ],
      "metadata": {
        "id": "WRl066PF-GxR"
      },
      "execution_count": null,
      "outputs": []
    },
    {
      "cell_type": "code",
      "source": [
        "print(s)"
      ],
      "metadata": {
        "id": "lEOYkECn-SiY"
      },
      "execution_count": null,
      "outputs": []
    },
    {
      "cell_type": "code",
      "source": [
        "p"
      ],
      "metadata": {
        "id": "Q5VzZT9K-T6S"
      },
      "execution_count": null,
      "outputs": []
    },
    {
      "cell_type": "code",
      "source": [
        "print(p)"
      ],
      "metadata": {
        "id": "fuWg7Wyw-6R7"
      },
      "execution_count": null,
      "outputs": []
    },
    {
      "cell_type": "code",
      "source": [
        "class Odometer:\n",
        "    def __init__(self, size: int):\n",
        "        DIGITS = \"123456789\"\n",
        "        self.size = size\n",
        "        self.lo = int(DIGITS[:size])\n",
        "        self.hi = int(DIGITS[-size:])\n",
        "        self.reading = self.lo\n",
        "\n",
        "    def __str__(self) -> str:\n",
        "        return str(self.reading)\n",
        "\n",
        "    def __repr__(self) -> str:\n",
        "        return f'{self.lo} << {self.reading} << {self.hi}'"
      ],
      "metadata": {
        "id": "aYNXnjUk_B6g"
      },
      "execution_count": null,
      "outputs": []
    },
    {
      "cell_type": "code",
      "source": [
        "p = Odometer(4)"
      ],
      "metadata": {
        "id": "YW-R9Dtl_hAz"
      },
      "execution_count": null,
      "outputs": []
    },
    {
      "cell_type": "code",
      "source": [
        "print(p)"
      ],
      "metadata": {
        "id": "ENuzUPHY_kHF"
      },
      "execution_count": null,
      "outputs": []
    },
    {
      "cell_type": "code",
      "source": [
        "p"
      ],
      "metadata": {
        "id": "xwqR5C1H_lB1"
      },
      "execution_count": null,
      "outputs": []
    },
    {
      "cell_type": "code",
      "source": [
        "def is_valid(n: int) -> bool:\n",
        "    s = str(n)\n",
        "    return all(a < b for a, b in zip(s, s[1:]))\n",
        "\n",
        "class Odometer:\n",
        "    def __init__(self, size: int):\n",
        "        DIGITS = \"123456789\"\n",
        "        self.size = size\n",
        "        self.lo = int(DIGITS[:size])\n",
        "        self.hi = int(DIGITS[-size:])\n",
        "        self.reading = self.lo\n",
        "\n",
        "    def __str__(self) -> str:\n",
        "        return str(self.reading)\n",
        "\n",
        "    def __repr__(self) -> str:\n",
        "        return f'{self.lo} << {self.reading} << {self.hi}'\n",
        "\n",
        "    def forward(self, steps=1):\n",
        "        for _ in range(steps):\n",
        "            if self.reading == self.hi:\n",
        "                self.reading = self.lo\n",
        "            else:\n",
        "                self.reading += 1\n",
        "                while not is_valid(self.reading):\n",
        "                    self.reading += 1\n",
        "\n",
        "    def backward(self, steps=1):\n",
        "        for _ in range(steps):\n",
        "            if self.reading == self.lo:\n",
        "                self.reading = self.hi\n",
        "            else:\n",
        "                self.reading -= 1\n",
        "                while not is_valid(self.reading):\n",
        "                    self.reading -= 1\n"
      ],
      "metadata": {
        "id": "LphuxKZJ_lZ0"
      },
      "execution_count": null,
      "outputs": []
    },
    {
      "cell_type": "code",
      "source": [
        "p = Odometer(3)"
      ],
      "metadata": {
        "id": "xL76enR5Bh9D"
      },
      "execution_count": null,
      "outputs": []
    },
    {
      "cell_type": "code",
      "source": [
        "p.reading"
      ],
      "metadata": {
        "id": "fp-5a-aiDXwO"
      },
      "execution_count": null,
      "outputs": []
    },
    {
      "cell_type": "code",
      "source": [
        "p.reading = 126"
      ],
      "metadata": {
        "id": "PO5rzv2nDbO6"
      },
      "execution_count": null,
      "outputs": []
    },
    {
      "cell_type": "code",
      "source": [
        "def is_valid(n: int) -> bool:\n",
        "    s = str(n)\n",
        "    return all(a < b for a, b in zip(s, s[1:]))\n",
        "\n",
        "#def distance(a: Odometer, b:Odometer) -> int:\n",
        "#    return a.distance(b)\n",
        "\n",
        "class Odometer:\n",
        "    def __init__(self, size: int):\n",
        "        DIGITS = \"123456789\"\n",
        "        self.size = size\n",
        "        self.lo = int(DIGITS[:size])\n",
        "        self.hi = int(DIGITS[-size:])\n",
        "        self.reading = self.lo\n",
        "\n",
        "    def __str__(self) -> str:\n",
        "        return str(self.reading)\n",
        "\n",
        "    def __repr__(self) -> str:\n",
        "        return f'{self.lo} << {self.reading} << {self.hi}'\n",
        "\n",
        "    def forward(self, steps=1):\n",
        "        for _ in range(steps):\n",
        "            if self.reading == self.hi:\n",
        "                self.reading = self.lo\n",
        "            else:\n",
        "                self.reading += 1\n",
        "                while not is_valid(self.reading):\n",
        "                    self.reading += 1\n",
        "\n",
        "    def backward(self, steps=1):\n",
        "        for _ in range(steps):\n",
        "            if self.reading == self.lo:\n",
        "                self.reading = self.hi\n",
        "            else:\n",
        "                self.reading -= 1\n",
        "                while not is_valid(self.reading):\n",
        "                    self.reading -= 1\n",
        "\n",
        "    def distance(self, other) -> int:\n",
        "        if self.size != other.size:\n",
        "            return -1\n",
        "        #self_copy = Odometer(self.size)\n",
        "        #self_copy.reading = self.reading\n",
        "        #diff = 0\n",
        "        #while self_copy.reading != other.reading:\n",
        "        #    self_copy.forward()\n",
        "        #    diff += 1\n",
        "        original = self.reading\n",
        "        diff = 0\n",
        "        while self.reading != other.reading:\n",
        "            self.forward()\n",
        "            diff += 1\n",
        "        self.reading = original\n",
        "        return diff"
      ],
      "metadata": {
        "id": "rl5JdDxIDcpB"
      },
      "execution_count": null,
      "outputs": []
    },
    {
      "cell_type": "code",
      "source": [
        "p = Odometer(3)\n",
        "q = Odometer(4)\n",
        "r = Odometer(3)\n",
        "p.forward(7)\n",
        "q.backward(6)\n",
        "r.backward(4)"
      ],
      "metadata": {
        "id": "S2VFBnM4FQqw"
      },
      "execution_count": null,
      "outputs": []
    },
    {
      "cell_type": "code",
      "source": [
        "print(p, q, r)"
      ],
      "metadata": {
        "id": "T77xiAB7Fsb_"
      },
      "execution_count": null,
      "outputs": []
    },
    {
      "cell_type": "code",
      "source": [
        "print(p.distance(q))\n",
        "print(p.distance(r))\n",
        "print(r.distance(p))"
      ],
      "metadata": {
        "id": "nkS_G31fFubW"
      },
      "execution_count": null,
      "outputs": []
    },
    {
      "cell_type": "code",
      "source": [
        "class Odometer:\n",
        "    @staticmethod\n",
        "    def isvalid(n: int) -> bool:\n",
        "        s = str(n)\n",
        "        return all(a < b for a, b in zip(s, s[1:]))\n",
        "\n",
        "    def __init__(self, size: int):\n",
        "        DIGITS = \"123456789\"\n",
        "        self.size = size\n",
        "        self.lo = int(DIGITS[:size])\n",
        "        self.hi = int(DIGITS[-size:])\n",
        "        self.reading = self.lo\n",
        "\n",
        "    def __str__(self) -> str:\n",
        "        return str(self.reading)\n",
        "\n",
        "    def __repr__(self) -> str:\n",
        "        return f'{self.lo} << {self.reading} << {self.hi}'\n",
        "\n",
        "    def forward(self, steps=1):\n",
        "        for _ in range(steps):\n",
        "            if self.reading == self.hi:\n",
        "                self.reading = self.lo\n",
        "            else:\n",
        "                self.reading += 1\n",
        "                while not Odometer.isvalid(self.reading):\n",
        "                    self.reading += 1\n",
        "\n",
        "    def backward(self, steps=1):\n",
        "        for _ in range(steps):\n",
        "            if self.reading == self.lo:\n",
        "                self.reading = self.hi\n",
        "            else:\n",
        "                self.reading -= 1\n",
        "                while not Odometer.isvalid(self.reading):\n",
        "                    self.reading -= 1\n",
        "\n",
        "    def distance(self, other) -> int:\n",
        "        if self.size != other.size:\n",
        "            return -1\n",
        "        original = self.reading\n",
        "        diff = 0\n",
        "        while self.reading != other.reading:\n",
        "            self.forward()\n",
        "            diff += 1\n",
        "        self.reading = original\n",
        "        return diff"
      ],
      "metadata": {
        "id": "J10pli8DF4Qb"
      },
      "execution_count": null,
      "outputs": []
    },
    {
      "cell_type": "code",
      "source": [
        "p = Odometer(3)\n",
        "q = Odometer(3)\n",
        "p.forward(10)"
      ],
      "metadata": {
        "id": "3z4A1VhWLd5D"
      },
      "execution_count": null,
      "outputs": []
    },
    {
      "cell_type": "code",
      "source": [
        "class Odometer:\n",
        "    @classmethod\n",
        "    def isValid(cls, n: int) -> bool:\n",
        "        s = str(n)\n",
        "        return all(a < b for a, b in zip(s, s[1:]))\n",
        "\n",
        "    def __init__(self, size: int):\n",
        "        DIGITS = \"123456789\"\n",
        "        self.size = size\n",
        "        self.lo = int(DIGITS[:size])\n",
        "        self.hi = int(DIGITS[-size:])\n",
        "        self.reading = self.lo\n",
        "\n",
        "    def __str__(self) -> str:\n",
        "        return str(self.reading)\n",
        "\n",
        "    def __repr__(self) -> str:\n",
        "        return f'{self.lo} << {self.reading} << {self.hi}'\n",
        "\n",
        "    def forward(self, steps=1):\n",
        "        for _ in range(steps):\n",
        "            if self.reading == self.hi:\n",
        "                self.reading = self.lo\n",
        "            else:\n",
        "                self.reading += 1\n",
        "                while not Odometer.isValid(self.reading):\n",
        "                    self.reading += 1\n",
        "\n",
        "    def backward(self, steps=1):\n",
        "        for _ in range(steps):\n",
        "            if self.reading == self.lo:\n",
        "                self.reading = self.hi\n",
        "            else:\n",
        "                self.reading -= 1\n",
        "                while not Odometer.isValid(self.reading):\n",
        "                    self.reading -= 1\n",
        "\n",
        "    def distance(self, other) -> int:\n",
        "        if self.size != other.size:\n",
        "            return -1\n",
        "        original = self.reading\n",
        "        diff = 0\n",
        "        while self.reading != other.reading:\n",
        "            self.forward()\n",
        "            diff += 1\n",
        "        self.reading = original\n",
        "        return diff"
      ],
      "metadata": {
        "id": "R7IdkzTbLkC4"
      },
      "execution_count": null,
      "outputs": []
    },
    {
      "cell_type": "code",
      "source": [
        "p = Odometer(3)\n",
        "q = Odometer(3)\n",
        "p.forward(10)"
      ],
      "metadata": {
        "id": "GhKRFwIEMIHQ"
      },
      "execution_count": null,
      "outputs": []
    },
    {
      "cell_type": "code",
      "source": [
        "p = Odometer(2)\n",
        "count = 1\n",
        "print(p.lo, end=\" \")\n",
        "while p.reading < p.hi:\n",
        "    p.forward()\n",
        "    count += 1\n",
        "    print(p.reading, end=\" \")\n",
        "print()\n",
        "print(count)"
      ],
      "metadata": {
        "id": "f2vzf_SRMK0v"
      },
      "execution_count": null,
      "outputs": []
    },
    {
      "cell_type": "code",
      "source": [
        "p = Odometer(3)\n",
        "count = 1\n",
        "print(p.lo, end=\" \")\n",
        "while p.reading < p.hi:\n",
        "    p.forward()\n",
        "    count += 1\n",
        "    print(p.reading, end=\" \")\n",
        "print()\n",
        "print(count)"
      ],
      "metadata": {
        "id": "NKbGHoiUPJrD"
      },
      "execution_count": null,
      "outputs": []
    },
    {
      "cell_type": "code",
      "source": [
        "from itertools import combinations as nCr"
      ],
      "metadata": {
        "id": "SNjfoCfLQSSb"
      },
      "execution_count": null,
      "outputs": []
    },
    {
      "cell_type": "code",
      "source": [
        "readings = [''.join(a) for a in nCr(\"123456789\", 2)]"
      ],
      "metadata": {
        "id": "UR16apbDQp2X"
      },
      "execution_count": null,
      "outputs": []
    },
    {
      "cell_type": "code",
      "source": [
        "print(readings)"
      ],
      "metadata": {
        "id": "kfH1mu0aQxP1"
      },
      "execution_count": null,
      "outputs": []
    },
    {
      "cell_type": "code",
      "source": [
        "from itertools import combinations as nCr\n",
        "\n",
        "class Odometer:\n",
        "    FIRST_TIME = True\n",
        "    READINGS = dict()\n",
        "\n",
        "    def __init__(self, size: int):\n",
        "        if Odometer.FIRST_TIME:\n",
        "            Odometer.FIRST_TIME = False\n",
        "            for k in range(2, 9):\n",
        "                Odometer.READINGS[k] = [''.join(_) for _ in nCr(\"123456789\", k)]\n",
        "\n",
        "        self.readings = Odometer.READINGS[size]\n",
        "        self.size = size\n",
        "        self.length = len(self.readings)\n",
        "        self.position = 0\n",
        "\n",
        "    def __str__(self) -> str:\n",
        "        return self.readings[self.position]\n",
        "\n",
        "    def __repr__(self) -> str:\n",
        "        return f'{self.readings[self.position]} at {self.position} of {self.length}'\n",
        "\n",
        "    def forward(self, steps=1):\n",
        "        self.position += steps\n",
        "        self.position %= self.length\n",
        "\n",
        "    def backward(self, steps=1):\n",
        "        self.position -= steps\n",
        "        self.position %= self.length\n",
        "\n",
        "    def distance(self, other) -> int:\n",
        "        if self.size != other.size:\n",
        "            return -1\n",
        "        return (other.position - self.position) % self.length"
      ],
      "metadata": {
        "id": "ISczGVD6QyuW"
      },
      "execution_count": null,
      "outputs": []
    }
  ]
}