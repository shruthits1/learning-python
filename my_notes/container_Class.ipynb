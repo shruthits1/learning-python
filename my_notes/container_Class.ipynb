{
 "cells": [
  {
   "cell_type": "code",
   "execution_count": 1,
   "metadata": {},
   "outputs": [],
   "source": [
    "s = ''' in a galaxy far far away, long long ago the empire rules with an iron hand. \n",
    "But there was a rebellion supported by well-being people. The resulting war was long and arduous.'''"
   ]
  },
  {
   "cell_type": "code",
   "execution_count": 2,
   "metadata": {},
   "outputs": [
    {
     "name": "stdout",
     "output_type": "stream",
     "text": [
      "{' ': 32, 'i': 7, 'n': 11, 'a': 16, 'g': 7, 'l': 11, 'x': 1, 'y': 3, 'f': 2, 'r': 11, 'w': 6, ',': 1, 'o': 9, 't': 6, 'h': 5, 'e': 15, 'm': 1, 'p': 5, 'u': 6, 's': 6, 'd': 4, '.': 3, '\\n': 1, 'B': 1, 'b': 3, '-': 1, 'T': 1}\n"
     ]
    }
   ],
   "source": [
    "freq = dict()\n",
    "for ch in s:\n",
    "    if ch not in freq:\n",
    "        freq[ch] = 1\n",
    "    else:\n",
    "        freq[ch] += 1\n",
    "print(freq)"
   ]
  },
  {
   "cell_type": "code",
   "execution_count": 5,
   "metadata": {},
   "outputs": [
    {
     "name": "stdout",
     "output_type": "stream",
     "text": [
      "defaultdict(<class 'int'>, {' ': 32, 'i': 7, 'n': 11, 'a': 16, 'g': 7, 'l': 11, 'x': 1, 'y': 3, 'f': 2, 'r': 11, 'w': 6, ',': 1, 'o': 9, 't': 6, 'h': 5, 'e': 15, 'm': 1, 'p': 5, 'u': 6, 's': 6, 'd': 4, '.': 3, '\\n': 1, 'B': 1, 'b': 3, '-': 1, 'T': 1})\n"
     ]
    }
   ],
   "source": [
    "from collections import defaultdict as ddict\n",
    "freq = ddict(int)\n",
    "for ch in s:\n",
    "    freq[ch]+= 1\n",
    "print(freq)"
   ]
  },
  {
   "cell_type": "code",
   "execution_count": 6,
   "metadata": {},
   "outputs": [],
   "source": [
    "from collections import Counter\n",
    "freq = Counter(s)"
   ]
  },
  {
   "cell_type": "code",
   "execution_count": 7,
   "metadata": {},
   "outputs": [
    {
     "data": {
      "text/plain": [
       "[(' ', 32),\n",
       " ('a', 16),\n",
       " ('e', 15),\n",
       " ('n', 11),\n",
       " ('l', 11),\n",
       " ('r', 11),\n",
       " ('o', 9),\n",
       " ('i', 7),\n",
       " ('g', 7),\n",
       " ('w', 6)]"
      ]
     },
     "execution_count": 7,
     "metadata": {},
     "output_type": "execute_result"
    }
   ],
   "source": [
    "freq.most_common(10)"
   ]
  }
 ],
 "metadata": {
  "kernelspec": {
   "display_name": "Python 3",
   "language": "python",
   "name": "python3"
  },
  "language_info": {
   "codemirror_mode": {
    "name": "ipython",
    "version": 3
   },
   "file_extension": ".py",
   "mimetype": "text/x-python",
   "name": "python",
   "nbconvert_exporter": "python",
   "pygments_lexer": "ipython3",
   "version": "3.11.3"
  }
 },
 "nbformat": 4,
 "nbformat_minor": 2
}
