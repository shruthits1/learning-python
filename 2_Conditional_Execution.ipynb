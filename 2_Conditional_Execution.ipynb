{
  "nbformat": 4,
  "nbformat_minor": 0,
  "metadata": {
    "colab": {
      "provenance": [],
      "include_colab_link": true
    },
    "kernelspec": {
      "name": "python3",
      "display_name": "Python 3"
    },
    "language_info": {
      "name": "python"
    }
  },
  "cells": [
    {
      "cell_type": "markdown",
      "metadata": {
        "id": "view-in-github",
        "colab_type": "text"
      },
      "source": [
        "<a href=\"https://colab.research.google.com/github/shruthits1/learning-python/blob/main/2_Conditional_Execution.ipynb\" target=\"_parent\"><img src=\"https://colab.research.google.com/assets/colab-badge.svg\" alt=\"Open In Colab\"/></a>"
      ]
    },
    {
      "cell_type": "code",
      "source": [
        "#@title Walkthrough Video\n",
        "from IPython.display import HTML\n",
        "HTML(\"\"\"<video width=\"620\" height=\"400\" controls>\n",
        "<source src=\"https://cdn.exec.talentsprint.com/content/2_Conditional_Execution.mp4\">\n",
        "</video>\"\"\")"
      ],
      "metadata": {
        "cellView": "form",
        "id": "i5rjprzuudNu",
        "outputId": "9618d27d-98f5-4a9c-ec38-84c27760b198",
        "colab": {
          "base_uri": "https://localhost:8080/",
          "height": 421
        }
      },
      "execution_count": null,
      "outputs": [
        {
          "output_type": "execute_result",
          "data": {
            "text/plain": [
              "<IPython.core.display.HTML object>"
            ],
            "text/html": [
              "<video width=\"620\" height=\"400\" controls>\n",
              "<source src=\"https://cdn.exec.talentsprint.com/content/2_Conditional_Execution.mp4\">\n",
              "</video>"
            ]
          },
          "metadata": {},
          "execution_count": 1
        }
      ]
    },
    {
      "cell_type": "markdown",
      "source": [
        "**Conditional steps:**\n",
        "These are the conditions in the program which checks at the time of running the program and gives the output if the condition is satisfied.\n"
      ],
      "metadata": {
        "id": "cUj4nqlegdUZ"
      }
    },
    {
      "cell_type": "code",
      "source": [
        "# conditional steps example\n",
        "x = 5\n",
        "if x<10: #here while running checks the condition if the condition is met its output is given else goes to next condition\n",
        "  print(\"small number\")\n",
        "if x>10:\n",
        "  print(\"big number\")\n",
        "print(\"finish\")"
      ],
      "metadata": {
        "colab": {
          "base_uri": "https://localhost:8080/"
        },
        "id": "2Po3VFy5h5a2",
        "outputId": "57bc3125-98fe-4d41-8198-f32d99da2248"
      },
      "execution_count": null,
      "outputs": [
        {
          "output_type": "stream",
          "name": "stdout",
          "text": [
            "small number\n",
            "finish\n"
          ]
        }
      ]
    },
    {
      "cell_type": "markdown",
      "source": [
        "**Comparision operators**\n",
        "The operators like <,>, <=,>=,!=,== are comparision operators used to compare the given value to the condition and return output\n",
        "- Boolean expresions gives yes or no (True or False) as result for a question asked which is used to control the program flow.\n",
        "- boolean expression using comparision operator returns true/false or yes/no\n",
        "- this operator does not change the variables\n",
        "- here = means assigning the value, == means comparing the value"
      ],
      "metadata": {
        "id": "oDo_eAs_ivvA"
      }
    },
    {
      "cell_type": "code",
      "source": [
        "# example of comparision operator\n",
        "x = 5\n",
        "if x == 5:\n",
        "  print(\"equal number\")\n",
        "if x>4:\n",
        "  print(\"greater number\")\n",
        "if x>=5:\n",
        "  print(\"lesser or equal number\")\n",
        "if x<6: print(\"less than 6\")\n",
        "if x <= 5:\n",
        "  print(\"less than or equals 5\")\n",
        "if x!=6:\n",
        "  print(\"not equals\")"
      ],
      "metadata": {
        "colab": {
          "base_uri": "https://localhost:8080/"
        },
        "id": "0awM7P5BiOtb",
        "outputId": "625ed658-9a77-422e-c584-49790bd3cdd7"
      },
      "execution_count": null,
      "outputs": [
        {
          "output_type": "stream",
          "name": "stdout",
          "text": [
            "equal number\n",
            "greater number\n",
            "lesser or equal number\n",
            "less than 6\n",
            "less than or equals 5\n",
            "not equals\n"
          ]
        }
      ]
    },
    {
      "cell_type": "markdown",
      "source": [
        "**One-way-decisions**\n",
        "here if staement is a conditional staement, it determines weather the block of code is performed or not."
      ],
      "metadata": {
        "id": "ZVg569H1keej"
      }
    },
    {
      "cell_type": "code",
      "source": [
        "x = 5\n",
        "print(\"before 5\")\n",
        "if x == 5:\n",
        "  print(\"is 5\")\n",
        "  print(\"is still 5\")\n",
        "  print(\"third 5\") #these are one way decisions only prints the statemnts for the met condition and the last print statement\n",
        "print(\"after 5\")\n",
        "print(\"before 6\")\n",
        "if x == 6:\n",
        "  print(\"is 6\")\n",
        "  print(\"is stll 6\")\n",
        "  print(\"third 6\")\n",
        "print(\"after 6\")"
      ],
      "metadata": {
        "colab": {
          "base_uri": "https://localhost:8080/"
        },
        "id": "8D2MByOmkYWL",
        "outputId": "c934ac79-84bb-4197-eaf9-578c792240ba"
      },
      "execution_count": null,
      "outputs": [
        {
          "output_type": "stream",
          "name": "stdout",
          "text": [
            "before 5\n",
            "is 5\n",
            "is still 5\n",
            "third 5\n",
            "after 5\n",
            "before 6\n",
            "after 6\n"
          ]
        }
      ]
    },
    {
      "cell_type": "markdown",
      "source": [
        "**Indentation**\n",
        "The space at the start of code is known as indentation\n",
        "- In python, indentation is important as the block of code is represented by indentation.\n",
        "- A block of code can be easily identified, as they start on the same distance to the right\n",
        "- If it has to be more deeply nestled, simply indent another block further to the right\n",
        "- Increase indent: After an if / iterative statements (after : )\n",
        "- Maintain indent: Indicate the scope of the block (which lines are affected by the if/ for)\n",
        "- Reduce indent: Back to the level of the if / iterative statements to indicate the end of the block\n",
        "- Blank lines & Comments: Ignore Indentation - they do not affect indentation"
      ],
      "metadata": {
        "id": "YTP2i-eRmISR"
      }
    },
    {
      "cell_type": "code",
      "source": [
        "a = 5\n",
        "if a>0:\n",
        "  print(a)\n",
        "for a in range(10):\n",
        "  print(a)\n",
        "print(\"all done\")"
      ],
      "metadata": {
        "colab": {
          "base_uri": "https://localhost:8080/"
        },
        "id": "MWMiKpA2ly-P",
        "outputId": "6c3163ad-de77-408e-a58f-a8c5885532ee"
      },
      "execution_count": null,
      "outputs": [
        {
          "output_type": "stream",
          "name": "stdout",
          "text": [
            "5\n",
            "0\n",
            "1\n",
            "2\n",
            "3\n",
            "4\n",
            "5\n",
            "6\n",
            "7\n",
            "8\n",
            "9\n",
            "all done\n"
          ]
        }
      ]
    },
    {
      "cell_type": "code",
      "source": [
        "a = 5\n",
        "if a>0:\n",
        "  print(a)\n",
        "for a in range(10):\n",
        "  print(a)\n",
        "\n",
        "  #i will not print\n",
        "print(\"all done\")"
      ],
      "metadata": {
        "colab": {
          "base_uri": "https://localhost:8080/"
        },
        "id": "QsgIva0QnJJM",
        "outputId": "85531641-c37a-48e8-a42e-aa41e4dbe6df"
      },
      "execution_count": null,
      "outputs": [
        {
          "output_type": "stream",
          "name": "stdout",
          "text": [
            "5\n",
            "0\n",
            "1\n",
            "2\n",
            "3\n",
            "4\n",
            "5\n",
            "6\n",
            "7\n",
            "8\n",
            "9\n",
            "all done\n"
          ]
        }
      ]
    },
    {
      "cell_type": "code",
      "source": [
        "# another example\n",
        "a = 2\n",
        "if a>2:\n",
        "  print(\"bgger than 2\")\n",
        "  print(\"still bigger\")\n",
        "print(\"done with 2\")\n",
        "for i in range(5):\n",
        "  print(i)\n",
        "  if i>2:\n",
        "    print(\"bigger than 2\")\n",
        "  print(\"done with i\",i)\n",
        "print(\"all done\")"
      ],
      "metadata": {
        "colab": {
          "base_uri": "https://localhost:8080/"
        },
        "id": "06Zo5VHdnPgU",
        "outputId": "35248621-10f0-4715-cd4e-d655e39a0afb"
      },
      "execution_count": null,
      "outputs": [
        {
          "output_type": "stream",
          "name": "stdout",
          "text": [
            "done with 2\n",
            "0\n",
            "done with i 0\n",
            "1\n",
            "done with i 1\n",
            "2\n",
            "done with i 2\n",
            "3\n",
            "bigger than 2\n",
            "done with i 3\n",
            "4\n",
            "bigger than 2\n",
            "done with i 4\n",
            "all done\n"
          ]
        }
      ]
    },
    {
      "cell_type": "markdown",
      "source": [
        "**Nested decisions**\n",
        "- these are nested if statements i.e., more if conditions in a program i.e., if statement inside a if statement\n",
        "- these are useful when we need to make a series of decisions\n"
      ],
      "metadata": {
        "id": "odyyKqwho3Th"
      }
    },
    {
      "cell_type": "code",
      "source": [
        "x = 42\n",
        "if x>1:\n",
        "  print(\"more than 1\")\n",
        "  if x < 100:\n",
        "    print(\"less than 100\")\n",
        "print(\"all done\")"
      ],
      "metadata": {
        "colab": {
          "base_uri": "https://localhost:8080/"
        },
        "id": "0WbNv_WooeeE",
        "outputId": "93dcf1a3-1774-4194-af5f-f9957b16b957"
      },
      "execution_count": null,
      "outputs": [
        {
          "output_type": "stream",
          "name": "stdout",
          "text": [
            "more than 1\n",
            "less than 100\n",
            "all done\n"
          ]
        }
      ]
    },
    {
      "cell_type": "code",
      "source": [
        "x = 50\n",
        "if x>50: #here the condition doesnot satisfy hence prints done as it does not enter the condition\n",
        "  print(\"greater number\")\n",
        "  if x == 50:\n",
        "    print(\"same number\")\n",
        "print(\"done\")"
      ],
      "metadata": {
        "colab": {
          "base_uri": "https://localhost:8080/"
        },
        "id": "165MdM_Yp4hn",
        "outputId": "a916f987-f797-4a5a-b591-488ae0d2cf57"
      },
      "execution_count": null,
      "outputs": [
        {
          "output_type": "stream",
          "name": "stdout",
          "text": [
            "done\n"
          ]
        }
      ]
    },
    {
      "cell_type": "markdown",
      "source": [
        "**TWO-WAY-DECISIONS**\n",
        "- This can be done by if..else.. conditions\n",
        "- if the condition is true the if block is executed and if it is false the code in the else block is executed\n",
        "- sometimes we want to perform one thing if it is true, and perform other thing if it is false at that time two-way-decision takes place, we can only choose one thing but not the both"
      ],
      "metadata": {
        "id": "8mZDd-O7qYCp"
      }
    },
    {
      "cell_type": "code",
      "source": [
        "x = 4\n",
        "if x>2:\n",
        "  print(\"bigger\")\n",
        "else:\n",
        "  print(\"not bigger\")\n",
        "print(\"done\")"
      ],
      "metadata": {
        "colab": {
          "base_uri": "https://localhost:8080/"
        },
        "id": "Wvmqo9moqGGn",
        "outputId": "c58d73ed-af3e-49fa-e8da-86a538c946b0"
      },
      "execution_count": null,
      "outputs": [
        {
          "output_type": "stream",
          "name": "stdout",
          "text": [
            "bigger\n",
            "done\n"
          ]
        }
      ]
    },
    {
      "cell_type": "markdown",
      "source": [
        "**multi-way decisions:**\n",
        "\n",
        "This occurs when the initial if condition is false but we want to check for other condition we use elif i.e., else if\n",
        "- here if the if condition is satisfied the elif and else part will be skipped and vice versa"
      ],
      "metadata": {
        "id": "EbbmANK4sFB1"
      }
    },
    {
      "cell_type": "code",
      "source": [
        "# example\n",
        "x = 0\n",
        "if x<2:\n",
        "  print(\"small\")\n",
        "elif x<10:\n",
        "  print(\"medium\")\n",
        "else:\n",
        "  print(\"large\")\n",
        "print(\"all done\")"
      ],
      "metadata": {
        "colab": {
          "base_uri": "https://localhost:8080/"
        },
        "id": "POdfWYFKrsTO",
        "outputId": "6e5f2dfc-551d-4b90-f579-065c240b9ded"
      },
      "execution_count": null,
      "outputs": [
        {
          "output_type": "stream",
          "name": "stdout",
          "text": [
            "small\n",
            "all done\n"
          ]
        }
      ]
    },
    {
      "cell_type": "code",
      "source": [
        "# without else\n",
        "# example\n",
        "x = 5\n",
        "if x<2:\n",
        "  print(\"small\")\n",
        "elif x<10:\n",
        "  print(\"medium\")\n",
        "\n",
        "print(\"done\")"
      ],
      "metadata": {
        "colab": {
          "base_uri": "https://localhost:8080/"
        },
        "id": "jCvIDOokt5lw",
        "outputId": "5b4c0fa8-37a3-4ad5-ad64-9d6a14446c16"
      },
      "execution_count": null,
      "outputs": [
        {
          "output_type": "stream",
          "name": "stdout",
          "text": [
            "medium\n",
            "done\n"
          ]
        }
      ]
    },
    {
      "cell_type": "code",
      "source": [
        "# example\n",
        "x = 5\n",
        "if x<2:\n",
        "  print(\"small\")\n",
        "elif x<10:\n",
        "  print(\"medium\")\n",
        "elif x<20:\n",
        "  print(\"big\")\n",
        "elif x<40:\n",
        "  print(\"large\")\n",
        "elif x<100:\n",
        "  print(\"huge\")\n",
        "else:\n",
        "  print(\"ginormous\")"
      ],
      "metadata": {
        "colab": {
          "base_uri": "https://localhost:8080/"
        },
        "id": "iu_HLdgGkC0R",
        "outputId": "a724a9ae-3ba3-4a12-e5e6-4c3739308cc1"
      },
      "execution_count": null,
      "outputs": [
        {
          "output_type": "stream",
          "name": "stdout",
          "text": [
            "medium\n"
          ]
        }
      ]
    },
    {
      "cell_type": "code",
      "source": [
        "#multi way puzzels which will never print regardless of the value\n",
        "if x<2:\n",
        "  print(\"below 2\")\n",
        "elif x >= 2:\n",
        "  print(\"equal or greater\")\n",
        "else:\n",
        "  print(\"other\")"
      ],
      "metadata": {
        "colab": {
          "base_uri": "https://localhost:8080/"
        },
        "id": "4_BMelTOuUdz",
        "outputId": "82edbd4c-3bc1-4770-9968-b5b32654a595"
      },
      "execution_count": null,
      "outputs": [
        {
          "output_type": "stream",
          "name": "stdout",
          "text": [
            "equal or greater\n"
          ]
        }
      ]
    },
    {
      "cell_type": "markdown",
      "source": [
        "**Try and except structures**\n",
        "These can handle exception i.e., the errors that happens during the execution of the program\n",
        "- TRY: if an execution is raised it jumps directly to the xception phase\n",
        "- Exception: this is raised if only there occurs error in try block\n",
        "i.e.,\n",
        "- if the code i try block works except block is skipped\n",
        "- if the code in try shows error except block appears"
      ],
      "metadata": {
        "id": "l9zidz_PvvCt"
      }
    },
    {
      "cell_type": "code",
      "source": [
        "# example 1\n",
        "astr = \"hello bob\"\n",
        "istr = int(astr)\n",
        "print(\"first\",istr) # it shows error as str cannot be converted to int if there are characters in it"
      ],
      "metadata": {
        "colab": {
          "base_uri": "https://localhost:8080/",
          "height": 227
        },
        "id": "Q5Qn3GpnvWZ_",
        "outputId": "a3e9f70c-5bf1-48a5-fbca-6c38e4f362d1"
      },
      "execution_count": null,
      "outputs": [
        {
          "output_type": "error",
          "ename": "ValueError",
          "evalue": "ignored",
          "traceback": [
            "\u001b[0;31m---------------------------------------------------------------------------\u001b[0m",
            "\u001b[0;31mValueError\u001b[0m                                Traceback (most recent call last)",
            "\u001b[0;32m<ipython-input-16-790cb18961e6>\u001b[0m in \u001b[0;36m<cell line: 3>\u001b[0;34m()\u001b[0m\n\u001b[1;32m      1\u001b[0m \u001b[0;31m# example 1\u001b[0m\u001b[0;34m\u001b[0m\u001b[0;34m\u001b[0m\u001b[0m\n\u001b[1;32m      2\u001b[0m \u001b[0mastr\u001b[0m \u001b[0;34m=\u001b[0m \u001b[0;34m\"hello bob\"\u001b[0m\u001b[0;34m\u001b[0m\u001b[0;34m\u001b[0m\u001b[0m\n\u001b[0;32m----> 3\u001b[0;31m \u001b[0mistr\u001b[0m \u001b[0;34m=\u001b[0m \u001b[0mint\u001b[0m\u001b[0;34m(\u001b[0m\u001b[0mastr\u001b[0m\u001b[0;34m)\u001b[0m\u001b[0;34m\u001b[0m\u001b[0;34m\u001b[0m\u001b[0m\n\u001b[0m\u001b[1;32m      4\u001b[0m \u001b[0mprint\u001b[0m\u001b[0;34m(\u001b[0m\u001b[0;34m\"first\"\u001b[0m\u001b[0;34m,\u001b[0m\u001b[0mistr\u001b[0m\u001b[0;34m)\u001b[0m \u001b[0;31m# it shows error as str cannot be converted to int if there are characters in it\u001b[0m\u001b[0;34m\u001b[0m\u001b[0;34m\u001b[0m\u001b[0m\n",
            "\u001b[0;31mValueError\u001b[0m: invalid literal for int() with base 10: 'hello bob'"
          ]
        }
      ]
    },
    {
      "cell_type": "code",
      "source": [
        "# example 2\n",
        "astr = \"hello bob\"\n",
        "try:\n",
        "  istr = int(astr)\n",
        "except:\n",
        "  istr = -1\n",
        "print(\"first\", istr)"
      ],
      "metadata": {
        "colab": {
          "base_uri": "https://localhost:8080/"
        },
        "id": "yMLyCNaow8Dy",
        "outputId": "f706924c-e1fe-4e40-ff78-fd8dc5857c1a"
      },
      "execution_count": null,
      "outputs": [
        {
          "output_type": "stream",
          "name": "stdout",
          "text": [
            "first -1\n"
          ]
        }
      ]
    },
    {
      "cell_type": "code",
      "source": [
        "#example 3\n",
        "astr = \"123\"\n",
        "try:\n",
        "  istr = int(astr)\n",
        "except:\n",
        "  istr = -1 # as it can conver the number string to int it does not go to except block and is skipped\n",
        "print(\"second\",istr)"
      ],
      "metadata": {
        "colab": {
          "base_uri": "https://localhost:8080/"
        },
        "id": "E0IzhJedxdZB",
        "outputId": "b28d8e12-fee2-471b-c5b2-2d62d6d6ee1a"
      },
      "execution_count": null,
      "outputs": [
        {
          "output_type": "stream",
          "name": "stdout",
          "text": [
            "second 123\n"
          ]
        }
      ]
    },
    {
      "cell_type": "code",
      "source": [
        "astr = 'bob'\n",
        "try:\n",
        "  print(\"hello\")\n",
        "  istr = int(astr)\n",
        "  print(\"there\")\n",
        "except:\n",
        "  istr = -1\n",
        "print(\"done\",istr)"
      ],
      "metadata": {
        "colab": {
          "base_uri": "https://localhost:8080/"
        },
        "id": "EG-PdaphlElw",
        "outputId": "54f45486-11bb-418d-f385-adfe5ab63399"
      },
      "execution_count": null,
      "outputs": [
        {
          "output_type": "stream",
          "name": "stdout",
          "text": [
            "hello\n",
            "done -1\n"
          ]
        }
      ]
    },
    {
      "cell_type": "code",
      "source": [
        "# example 4\n",
        "# try & catch methods\n",
        "\n",
        "rawstr = input('Enter a number ')\n",
        "try:\n",
        "    ival = int(rawstr)\n",
        "except:\n",
        "    ival = -1\n",
        "if ival >0:\n",
        "  print(\"nice work\")\n",
        "else:\n",
        "  print(\"not a number\")"
      ],
      "metadata": {
        "colab": {
          "base_uri": "https://localhost:8080/"
        },
        "id": "krXHnXtixvof",
        "outputId": "e669740e-9258-4cd0-9ed8-e972cd77e719"
      },
      "execution_count": null,
      "outputs": [
        {
          "output_type": "stream",
          "name": "stdout",
          "text": [
            "Enter a number 7\n",
            "nice work\n"
          ]
        }
      ]
    },
    {
      "cell_type": "code",
      "source": [],
      "metadata": {
        "id": "NuLC5zWAyMUE"
      },
      "execution_count": null,
      "outputs": []
    }
  ]
}