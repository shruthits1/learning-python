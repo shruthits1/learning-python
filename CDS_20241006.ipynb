{
  "nbformat": 4,
  "nbformat_minor": 0,
  "metadata": {
    "colab": {
      "private_outputs": true,
      "provenance": []
    },
    "kernelspec": {
      "name": "python3",
      "display_name": "Python 3"
    },
    "language_info": {
      "name": "python"
    }
  },
  "cells": [
    {
      "cell_type": "markdown",
      "source": [
        "# Todays plan\n",
        "## Will flex!\n",
        "# More Euler\n",
        "# Anagrams\n",
        "# Date strings\n",
        "# Roman $\\Leftrightarrow$ Arabic\n",
        "# Figures to words"
      ],
      "metadata": {
        "id": "rpId58y53n2R"
      }
    },
    {
      "cell_type": "markdown",
      "source": [
        "# Amicable pairs"
      ],
      "metadata": {
        "id": "-XrU3aZp8ngR"
      }
    },
    {
      "cell_type": "code",
      "source": [
        "# Find all factors < sqrt(n)\n",
        "# Compute n // factor for each\n",
        "# Add them together\n",
        "\n",
        "def sum_of_factors(n: int) -> int:\n",
        "    aliquot = 1\n",
        "    r = 2\n",
        "    while r * r < n:\n",
        "        if n % r == 0:\n",
        "            aliquot += r\n",
        "            aliquot += (n // r)\n",
        "        r += 1\n",
        "    if r * r == n:\n",
        "        aliquot += r\n",
        "    return aliquot"
      ],
      "metadata": {
        "id": "iqdg7-xt4TmI"
      },
      "execution_count": null,
      "outputs": []
    },
    {
      "cell_type": "code",
      "source": [
        "# Avoid double counting amicable pairs\n",
        "# (220, 284) is an amicable pair and so is (284, 220)\n",
        "# By checking for pairs in increasing order (line 8)\n",
        "# We avoid it\n",
        "def euler021(limit: int) -> int:\n",
        "    amicable_sum = 0\n",
        "    for n in range(1, limit):\n",
        "        aliq = sum_of_factors(n)\n",
        "        if n < aliq:\n",
        "            if n == sum_of_factors(aliq)\n",
        "                amicable_sum += (aliq + n)\n",
        "    return amicable_sum"
      ],
      "metadata": {
        "id": "Uot-eZGv9KbA"
      },
      "execution_count": null,
      "outputs": []
    },
    {
      "cell_type": "code",
      "source": [
        "n = 220"
      ],
      "metadata": {
        "id": "_ug-qhNdEgln"
      },
      "execution_count": null,
      "outputs": []
    },
    {
      "cell_type": "code",
      "source": [
        "aliq = sum_of_factors(n)"
      ],
      "metadata": {
        "id": "fMTNeR5JEjoP"
      },
      "execution_count": null,
      "outputs": []
    },
    {
      "cell_type": "code",
      "source": [
        "print(aliq)"
      ],
      "metadata": {
        "id": "0WGgh4eXEnnz"
      },
      "execution_count": null,
      "outputs": []
    },
    {
      "cell_type": "code",
      "source": [
        "a = sum_of_factors(aliq)"
      ],
      "metadata": {
        "id": "b85B3mqGEo3D"
      },
      "execution_count": null,
      "outputs": []
    },
    {
      "cell_type": "code",
      "source": [
        "print(a)"
      ],
      "metadata": {
        "id": "TcnBFYYaEsD3"
      },
      "execution_count": null,
      "outputs": []
    },
    {
      "cell_type": "code",
      "source": [
        "a == n"
      ],
      "metadata": {
        "id": "KAhtlPnUEtPn"
      },
      "execution_count": null,
      "outputs": []
    },
    {
      "cell_type": "code",
      "source": [
        "sum_of_factors(5)"
      ],
      "metadata": {
        "id": "_l6xXQpuEuJf"
      },
      "execution_count": null,
      "outputs": []
    },
    {
      "cell_type": "markdown",
      "source": [
        "# Euler 5\n",
        " 2520 is the smallest number that can be divided by each of the numbers from 1 to 10 without any remainder.\n",
        "\n",
        "What is the smallest positive number that is evenly divisible by all of the numbers from 1\n",
        "to 20?"
      ],
      "metadata": {
        "id": "vUxlH4ggLQuz"
      }
    },
    {
      "cell_type": "code",
      "source": [
        "import math"
      ],
      "metadata": {
        "id": "noSjyXVgGYLa"
      },
      "execution_count": null,
      "outputs": []
    },
    {
      "cell_type": "code",
      "source": [
        "math.lcm?"
      ],
      "metadata": {
        "id": "66oXY2wEI-uT"
      },
      "execution_count": null,
      "outputs": []
    },
    {
      "cell_type": "code",
      "source": [
        "math.lcm(26, 65)"
      ],
      "metadata": {
        "id": "JmjrIBMNJI0e"
      },
      "execution_count": null,
      "outputs": []
    },
    {
      "cell_type": "code",
      "source": [
        "nums = list(range(1, 21))"
      ],
      "metadata": {
        "id": "3NQSWz5PJOOU"
      },
      "execution_count": null,
      "outputs": []
    },
    {
      "cell_type": "code",
      "source": [
        "math.lcm(nums)"
      ],
      "metadata": {
        "id": "cstQkdWXJi6z"
      },
      "execution_count": null,
      "outputs": []
    },
    {
      "cell_type": "code",
      "source": [
        "math.lcm(*nums)"
      ],
      "metadata": {
        "id": "jNcQYD6PJlOG"
      },
      "execution_count": null,
      "outputs": []
    },
    {
      "cell_type": "code",
      "source": [
        "*nums"
      ],
      "metadata": {
        "id": "Ea0FVUkXJtxN"
      },
      "execution_count": null,
      "outputs": []
    },
    {
      "cell_type": "code",
      "source": [
        "print(nums)"
      ],
      "metadata": {
        "id": "0OdQ0h_aKLQx"
      },
      "execution_count": null,
      "outputs": []
    },
    {
      "cell_type": "code",
      "source": [
        "print(*nums)"
      ],
      "metadata": {
        "id": "XUMPsVAZKZrO"
      },
      "execution_count": null,
      "outputs": []
    },
    {
      "cell_type": "code",
      "source": [
        "math.lcm(12, 20)"
      ],
      "metadata": {
        "id": "3HNFhlMQKbgB"
      },
      "execution_count": null,
      "outputs": []
    },
    {
      "cell_type": "code",
      "source": [
        "import functools"
      ],
      "metadata": {
        "id": "nLSY4r-cK2hS"
      },
      "execution_count": null,
      "outputs": []
    },
    {
      "cell_type": "code",
      "source": [
        "functools.reduce?"
      ],
      "metadata": {
        "id": "WF-61IdaLGdB"
      },
      "execution_count": null,
      "outputs": []
    },
    {
      "cell_type": "code",
      "source": [
        "functools.reduce(math.lcm, range(1, 21))"
      ],
      "metadata": {
        "id": "5Gvk2PVdLJTR"
      },
      "execution_count": null,
      "outputs": []
    },
    {
      "cell_type": "markdown",
      "source": [],
      "metadata": {
        "id": "XBHETV1cLv1y"
      }
    },
    {
      "cell_type": "code",
      "source": [
        "def fold(f, a):\n",
        "    '''This is a pseudocode-like implementation\n",
        "    of reduce. It does not have all the features of reduce'''\n",
        "    if len(a) == 1:\n",
        "        return a[0]\n",
        "    elif len(a) == 2:\n",
        "        return f(a[0, a[1]])\n",
        "    else:\n",
        "        a = [f(a[0], a[1])] + a[2:]\n",
        "        return fold(f, a)"
      ],
      "metadata": {
        "id": "4epdXenpTyBa"
      },
      "execution_count": null,
      "outputs": []
    },
    {
      "cell_type": "code",
      "source": [
        "# reduce(f, S) -> reduce(f, [f(S[0], S[1]), S[2] ...])\n",
        "\n",
        "# Assume we do not have reduce\n",
        "# Assume we have a function lcm2() that finds the lcm of two numbers\n",
        "# We can custome build an lcm that takes any number of arguments\n",
        "# ==> reduce, like below\n",
        "\n",
        "def lcm(nums: list[int]) -> int:\n",
        "    if len(nums) == 1:\n",
        "        return nums[0]\n",
        "    elif len(nums) == 2:\n",
        "        return lcm2(nums[0], nums[1])\n",
        "    else:\n",
        "        return lcm([lcm2(nums[0], nums[1])] + nums[2:])"
      ],
      "metadata": {
        "id": "tIQ6Cd8iMycf"
      },
      "execution_count": null,
      "outputs": []
    },
    {
      "cell_type": "code",
      "source": [
        "fold?"
      ],
      "metadata": {
        "id": "IlIBl32VQzln"
      },
      "execution_count": null,
      "outputs": []
    },
    {
      "cell_type": "code",
      "source": [
        "fold??"
      ],
      "metadata": {
        "id": "evD47U5mU2JV"
      },
      "execution_count": null,
      "outputs": []
    },
    {
      "cell_type": "markdown",
      "source": [
        "# String manipulation\n",
        "\n",
        "Two words are called anagrams of each other if they are both consisting of the same letters:\n",
        "\n",
        "steps, pests\n",
        "spare, reaps\n",
        "\n",
        "There can be many words which are anagrams of each other\n",
        "\n",
        "spare, reaps, pears, spear...\n",
        "\n"
      ],
      "metadata": {
        "id": "2l0SXYJFNJTx"
      }
    },
    {
      "cell_type": "code",
      "source": [
        "def is_anagram_old(a: str, b: str) -> bool:\n",
        "    '''Checks if the two strings given\n",
        "    are anagrams of each other. Case sensitive'''\n",
        "    return sorted(a) == sorted(b)"
      ],
      "metadata": {
        "id": "7RV_KsVMU6Ll"
      },
      "execution_count": null,
      "outputs": []
    },
    {
      "cell_type": "code",
      "source": [
        "def is_anagram(a: str, b: str, case_sensitive=True) -> bool:\n",
        "    '''Checks if the two strings given\n",
        "    are anagrams of each other.'''\n",
        "    if case_sensitive:\n",
        "        return sorted(a) == sorted(b)\n",
        "    else:\n",
        "        return sorted(a.lower()) == sorted(b.lower())"
      ],
      "metadata": {
        "id": "Z3dlM7ASbnRF"
      },
      "execution_count": null,
      "outputs": []
    },
    {
      "cell_type": "code",
      "source": [
        "print(is_anagram(\"opts\", \"spot\"))\n",
        "print(is_anagram(\"opts\", \"Spot\"))\n",
        "print(is_anagram(\"opts\", \"Spot\", case_sensitive=False))\n",
        "print(is_anagram(\"opts\", \"spot\", case_sensitive=True))"
      ],
      "metadata": {
        "id": "btObBjkDcgkV"
      },
      "execution_count": null,
      "outputs": []
    },
    {
      "cell_type": "markdown",
      "source": [
        "# sort vs sorted"
      ],
      "metadata": {
        "id": "nmfdrOu0crjN"
      }
    },
    {
      "cell_type": "code",
      "source": [
        "a = \"world\"\n",
        "b = \"prime\""
      ],
      "metadata": {
        "id": "SX1MCOh8eT1Y"
      },
      "execution_count": null,
      "outputs": []
    },
    {
      "cell_type": "code",
      "source": [
        "print(sorted(a))"
      ],
      "metadata": {
        "id": "ZjuFiJ6CebwY"
      },
      "execution_count": null,
      "outputs": []
    },
    {
      "cell_type": "code",
      "source": [
        "print(a)"
      ],
      "metadata": {
        "id": "BkXxfpsWeedZ"
      },
      "execution_count": null,
      "outputs": []
    },
    {
      "cell_type": "code",
      "source": [
        "a.sort()"
      ],
      "metadata": {
        "id": "RzLdzX7Seg8G"
      },
      "execution_count": null,
      "outputs": []
    },
    {
      "cell_type": "code",
      "source": [
        "c = ['w', 'o', 'r', 'l', 'd']"
      ],
      "metadata": {
        "id": "JzSTHab-elvG"
      },
      "execution_count": null,
      "outputs": []
    },
    {
      "cell_type": "code",
      "source": [
        "c.sort()"
      ],
      "metadata": {
        "id": "EM_7_LoIetF2"
      },
      "execution_count": null,
      "outputs": []
    },
    {
      "cell_type": "code",
      "source": [
        "c"
      ],
      "metadata": {
        "id": "tFvMAMTvevZN"
      },
      "execution_count": null,
      "outputs": []
    },
    {
      "cell_type": "code",
      "source": [
        "list(a).sort()"
      ],
      "metadata": {
        "id": "oVK6gEWtewHi"
      },
      "execution_count": null,
      "outputs": []
    },
    {
      "cell_type": "code",
      "source": [
        "a"
      ],
      "metadata": {
        "id": "Em7AKcQUfOQm"
      },
      "execution_count": null,
      "outputs": []
    },
    {
      "cell_type": "code",
      "source": [
        "d = list(a).sort()"
      ],
      "metadata": {
        "id": "TQ5Trm2TfQf-"
      },
      "execution_count": null,
      "outputs": []
    },
    {
      "cell_type": "code",
      "source": [
        "d"
      ],
      "metadata": {
        "id": "YN4xsHoGfZEU"
      },
      "execution_count": null,
      "outputs": []
    },
    {
      "cell_type": "code",
      "source": [
        "x = x.sort() # effectively empties x"
      ],
      "metadata": {
        "id": "8MThV97efZs-"
      },
      "execution_count": null,
      "outputs": []
    },
    {
      "cell_type": "code",
      "source": [
        "# eXISTING\n",
        "# def is_vowel(s: str) -> bool:\n",
        "#    return s in 'aeiouAEIOU'"
      ],
      "metadata": {
        "id": "5PGlYpnwfo2o"
      },
      "execution_count": null,
      "outputs": []
    },
    {
      "cell_type": "code",
      "source": [
        "def is_vowel(s: str, include_y=False) -> bool:\n",
        "    if include_y:\n",
        "        return s in 'aeiouyAEIOUY'\n",
        "    else:\n",
        "        return s in 'aeiouAEIOU'"
      ],
      "metadata": {
        "id": "TGm50ew0f8Wb"
      },
      "execution_count": null,
      "outputs": []
    },
    {
      "cell_type": "code",
      "source": [
        "def isvowel(s: str, extras=\"\") -> bool:\n",
        "    return s in 'aeiouAEIOU' + extras"
      ],
      "metadata": {
        "id": "M3pps7m_iqlw"
      },
      "execution_count": null,
      "outputs": []
    },
    {
      "cell_type": "code",
      "source": [
        "for i in range(10):\n",
        "    print(i, i * i)"
      ],
      "metadata": {
        "id": "_F2dAKWhgZyz"
      },
      "execution_count": null,
      "outputs": []
    },
    {
      "cell_type": "code",
      "source": [
        "for i in range(10):\n",
        "    print(i, i * i, sep=\";\")"
      ],
      "metadata": {
        "id": "zj7X7sYRhdfS"
      },
      "execution_count": null,
      "outputs": []
    },
    {
      "cell_type": "code",
      "source": [
        "for i in range(10):\n",
        "    print(i, i * i, end=\"::\")"
      ],
      "metadata": {
        "id": "o7TbDWvNh-UB"
      },
      "execution_count": null,
      "outputs": []
    },
    {
      "cell_type": "code",
      "source": [
        "for i in range(10):\n",
        "    print(i, i * i, sep=\";\", end=\" :: \")"
      ],
      "metadata": {
        "id": "9v2TFEduiGtD"
      },
      "execution_count": null,
      "outputs": []
    },
    {
      "cell_type": "code",
      "source": [
        "for i in range(10):\n",
        "    print(i, i * i, end=\" :: \", sep=\";\")"
      ],
      "metadata": {
        "id": "GmitQtUyiPzl"
      },
      "execution_count": null,
      "outputs": []
    },
    {
      "cell_type": "markdown",
      "source": [
        "# Date String\n",
        "## given a string of the form dd SEP month SEP yyyy\n",
        "## return the seven digit integer yyyyddd\n",
        "\n",
        "## SEP can be comma or space or comma plus space\n",
        "## the two SEPs can be dfferent\n",
        "\n",
        "\"12 Jan 1999\" $\\Rightarrow$ 1999012\n",
        "\n",
        "\"14 february,2015\" $\\Rightarrow$ 2015045\n",
        "\n",
        "\"2,Nov, 2020\" $\\Rightarrow$ 2020307\n",
        "\n",
        "## ddd is often called the Julian date"
      ],
      "metadata": {
        "id": "M_M4n4WkiW4N"
      }
    },
    {
      "cell_type": "code",
      "source": [
        "def is_leap(y: int) -> bool:\n",
        "    if y % 100 == 0:\n",
        "        return y % 400 == 0\n",
        "    else:\n",
        "        return y % 4 == 0\n",
        "\n",
        "def clean(s: str) -> str:\n",
        "    COMMA, SPACE = ',', ' '\n",
        "    return s.replace(COMMA, SPACE)\n",
        "\n",
        "def parse(s: str) -> tuple[int, str, int]:\n",
        "    d, mon, y = clean(s).split()\n",
        "    return int(d), mon.lower()[:3], int(y)"
      ],
      "metadata": {
        "id": "FzEaEPRMkhTG"
      },
      "execution_count": null,
      "outputs": []
    },
    {
      "cell_type": "code",
      "source": [
        "# 31, 28, 31, 30, 31, 30, 31, 31, 30, 31, 30, 31\n",
        "# 0,  31, 59, 90,120,151,181,212,243,273,304,334\n",
        "\n",
        "def julian(s: str) -> int:\n",
        "    non_leap = {'jan': 0, 'feb': 31, 'mar': 59, 'apr': 90, 'may': 120, 'jun': 151,\n",
        "                'jul': 181, 'aug': 212, 'sep': 243, 'oct': 273, 'nov': 304, 'dec': 334}\n",
        "    leap     = {'jan': 0, 'feb': 31, 'mar': 60, 'apr': 91, 'may': 121, 'jun': 152,\n",
        "                'jul': 182, 'aug': 213, 'sep': 244, 'oct': 274, 'nov': 305, 'dec': 335}\n",
        "    dd, mon, yyyy = parse(s)\n",
        "    days_upto = leap if is_leap(yyyy) else non_leap\n",
        "    return yyyy * 1000 + days_upto[mon] + dd"
      ],
      "metadata": {
        "id": "Cvsb0nWszn9I"
      },
      "execution_count": null,
      "outputs": []
    },
    {
      "cell_type": "code",
      "source": [
        "for data in [\"12, Jan 1999\", \"14 february,2014\", \"2,nov 2020\"]:\n",
        "    print(f'{data:20} => {julian(data)}')"
      ],
      "metadata": {
        "id": "oqe3BKjR7htL"
      },
      "execution_count": null,
      "outputs": []
    },
    {
      "cell_type": "code",
      "source": [
        "def julian2(s: str) -> int:\n",
        "    days_upto = {'jan': 0, 'feb': 31, 'mar': 59, 'apr': 90, 'may': 120, 'jun': 151,\n",
        "                'jul': 181, 'aug': 212, 'sep': 243, 'oct': 273, 'nov': 304, 'dec': 334}\n",
        "    dd, mon, yyyy = parse(s)\n",
        "    leap_adjustment = 1 if is_leap(yyyy) and mon not in ['jan', 'feb'] else 0\n",
        "    return yyyy * 1000 + days_upto[mon] + dd + leap_adjustment"
      ],
      "metadata": {
        "id": "_d1eThgX7xXs"
      },
      "execution_count": null,
      "outputs": []
    },
    {
      "cell_type": "code",
      "source": [
        "def cleanup(s: str) -> str:\n",
        "    SPACE = ' '\n",
        "    def only_alnum(ch: str) -> str:\n",
        "        if ch.isalnum():\n",
        "            return ch\n",
        "        else:\n",
        "            return SPACE\n",
        "    return ''.join([only_alnum(ch) for ch in s])"
      ],
      "metadata": {
        "id": "6hR0IeOyIKhe"
      },
      "execution_count": null,
      "outputs": []
    },
    {
      "cell_type": "markdown",
      "source": [
        "# Roman $⇔$ Arabic"
      ],
      "metadata": {
        "id": "J_CaBa9IIo2H"
      }
    },
    {
      "cell_type": "code",
      "source": [
        "def to_roman(n: int) -> str:\n",
        "    roman_table = {1000: 'M', 900: 'CM', 500: 'D', 400: 'CD', 100: 'C', 90: 'XC',\n",
        "                      50: 'L', 40: 'XL', 10: 'X', 9: 'IX', 5: 'V', 4: 'IV', 1: 'I'}\n",
        "\n",
        "    roman = ''\n",
        "    for numeral in sorted(roman_table.keys(), reverse=True):\n",
        "        roman += (n // numeral) * roman_table[numeral]\n",
        "        n %= numeral\n",
        "    return roman"
      ],
      "metadata": {
        "id": "rwgj8TCNK8ZZ"
      },
      "execution_count": null,
      "outputs": []
    },
    {
      "cell_type": "code",
      "source": [
        "for n in [1278, 989, 67, 2900]:\n",
        "    print(n, to_roman(n))"
      ],
      "metadata": {
        "id": "Q4SQ3EKsPE8U"
      },
      "execution_count": null,
      "outputs": []
    },
    {
      "cell_type": "code",
      "source": [
        "def from_roman(s: str) -> int:\n",
        "    roman_table = {'M': 1000, 'D': 500, 'C': 100, 'L': 50, 'X': 10, 'V': 5, 'I': 1}\n",
        "\n",
        "    s = s.replace(\"CM\", \"DCCCC\").replace(\"CD\", \"CCCC\")\n",
        "    s = s.replace(\"XC\", \"LXXXX\").replace(\"XL\", \"XXXX\")\n",
        "    s = s.replace('IX', \"VIIII\").replace(\"IV\", \"IIII\")\n",
        "    return sum([roman_table[ch] for ch in s])"
      ],
      "metadata": {
        "id": "i1mxq6T1PGLF"
      },
      "execution_count": null,
      "outputs": []
    },
    {
      "cell_type": "code",
      "source": [
        "for data in [\"XXIV\", \"DCXV\", \"CML\", \"VI\", \"CMVI\", \"CCVI\"]:\n",
        "    print(f'{data:10} => {from_roman(data)}')"
      ],
      "metadata": {
        "id": "k4jkzZrmTCGs"
      },
      "execution_count": null,
      "outputs": []
    },
    {
      "cell_type": "markdown",
      "source": [
        "# Sort on a key"
      ],
      "metadata": {
        "id": "U23yHEE_TFTz"
      }
    },
    {
      "cell_type": "code",
      "source": [
        "words = [\"hello\", \"pots\", \"post\",\"spear\", \"stop\", \"opts\", \"spare\", \"could\", \"spot\", \"cloud\", \"cdef\"]"
      ],
      "metadata": {
        "id": "U6YO6NwOjT1a"
      },
      "execution_count": null,
      "outputs": []
    },
    {
      "cell_type": "code",
      "source": [
        "[[\"could\", \"cloud\"], [\"stop\", \"pots\", \"post\", \"opts\", \"spot\"], [\"spare\", \"spear\"]]"
      ],
      "metadata": {
        "id": "CN-0XnQNj6md"
      },
      "execution_count": null,
      "outputs": []
    },
    {
      "cell_type": "code",
      "source": [
        "print(sorted(words))"
      ],
      "metadata": {
        "id": "djtlBRxykbF-"
      },
      "execution_count": null,
      "outputs": []
    },
    {
      "cell_type": "code",
      "source": [
        "sorted?"
      ],
      "metadata": {
        "id": "fGvOkooClI6f"
      },
      "execution_count": null,
      "outputs": []
    },
    {
      "cell_type": "code",
      "source": [
        "print(sorted(words, key=sorted))"
      ],
      "metadata": {
        "id": "McIIYkv8lYDv"
      },
      "execution_count": null,
      "outputs": []
    },
    {
      "cell_type": "code",
      "source": [
        "sorted('spear')"
      ],
      "metadata": {
        "id": "yAcqAKp-leIP"
      },
      "execution_count": null,
      "outputs": []
    },
    {
      "cell_type": "code",
      "source": [
        "sorted('spare')"
      ],
      "metadata": {
        "id": "ARfnjWRJmz_C"
      },
      "execution_count": null,
      "outputs": []
    },
    {
      "cell_type": "code",
      "source": [
        "sorted('cloud')"
      ],
      "metadata": {
        "id": "q6pIA-bQm5y7"
      },
      "execution_count": null,
      "outputs": []
    },
    {
      "cell_type": "code",
      "source": [
        "print(sorted(words, key=len))"
      ],
      "metadata": {
        "id": "2CpMXH5Im83g"
      },
      "execution_count": null,
      "outputs": []
    },
    {
      "cell_type": "code",
      "source": [],
      "metadata": {
        "id": "LHa9ZrECpFGY"
      },
      "execution_count": null,
      "outputs": []
    }
  ]
}